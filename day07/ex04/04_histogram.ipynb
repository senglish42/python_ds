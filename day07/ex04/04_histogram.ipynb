{
 "cells": [
  {
   "cell_type": "code",
   "execution_count": 1,
   "metadata": {
    "collapsed": true
   },
   "outputs": [],
   "source": [
    "import pandas as pd\n",
    "import sqlite3\n",
    "import matplotlib.pyplot as plt"
   ]
  },
  {
   "cell_type": "code",
   "execution_count": 2,
   "outputs": [],
   "source": [
    "con = sqlite3.connect(\"../data/checking-logs.sqlite.sqlite copy\")"
   ],
   "metadata": {
    "collapsed": false
   }
  },
  {
   "cell_type": "markdown",
   "source": [
    "## analyze only the users and not the admins"
   ],
   "metadata": {
    "collapsed": false
   }
  },
  {
   "cell_type": "code",
   "execution_count": 3,
   "outputs": [
    {
     "data": {
      "text/plain": "              day  hour\n0     working_day     5\n1     working_day     5\n2     working_day     5\n3     working_day     5\n4     working_day     5\n...           ...   ...\n3202  working_day    20\n3203  working_day    20\n3204  working_day    20\n3205  working_day    20\n3206  working_day    20\n\n[3207 rows x 2 columns]",
      "text/html": "<div>\n<style scoped>\n    .dataframe tbody tr th:only-of-type {\n        vertical-align: middle;\n    }\n\n    .dataframe tbody tr th {\n        vertical-align: top;\n    }\n\n    .dataframe thead th {\n        text-align: right;\n    }\n</style>\n<table border=\"1\" class=\"dataframe\">\n  <thead>\n    <tr style=\"text-align: right;\">\n      <th></th>\n      <th>day</th>\n      <th>hour</th>\n    </tr>\n  </thead>\n  <tbody>\n    <tr>\n      <th>0</th>\n      <td>working_day</td>\n      <td>5</td>\n    </tr>\n    <tr>\n      <th>1</th>\n      <td>working_day</td>\n      <td>5</td>\n    </tr>\n    <tr>\n      <th>2</th>\n      <td>working_day</td>\n      <td>5</td>\n    </tr>\n    <tr>\n      <th>3</th>\n      <td>working_day</td>\n      <td>5</td>\n    </tr>\n    <tr>\n      <th>4</th>\n      <td>working_day</td>\n      <td>5</td>\n    </tr>\n    <tr>\n      <th>...</th>\n      <td>...</td>\n      <td>...</td>\n    </tr>\n    <tr>\n      <th>3202</th>\n      <td>working_day</td>\n      <td>20</td>\n    </tr>\n    <tr>\n      <th>3203</th>\n      <td>working_day</td>\n      <td>20</td>\n    </tr>\n    <tr>\n      <th>3204</th>\n      <td>working_day</td>\n      <td>20</td>\n    </tr>\n    <tr>\n      <th>3205</th>\n      <td>working_day</td>\n      <td>20</td>\n    </tr>\n    <tr>\n      <th>3206</th>\n      <td>working_day</td>\n      <td>20</td>\n    </tr>\n  </tbody>\n</table>\n<p>3207 rows × 2 columns</p>\n</div>"
     },
     "execution_count": 3,
     "metadata": {},
     "output_type": "execute_result"
    }
   ],
   "source": [
    "df = pd.io.sql.read_sql(\"SELECT timestamp FROM checker WHERE uid LIKE 'user_%';\", parse_dates=['timestamp'], con=con)\n",
    "df['day'] = df['timestamp'].dt.date\n",
    "df['hour'] = df['timestamp'].dt.hour\n",
    "df.drop(columns='timestamp', inplace=True)\n",
    "df['day'] = df['day'].apply(lambda x: bool(len(pd.bdate_range(x, x))))\n",
    "df['day'] = df['day'].map({False: 'weekend', True: 'working_day'})\n",
    "df"
   ],
   "metadata": {
    "collapsed": false
   }
  },
  {
   "cell_type": "markdown",
   "source": [
    "## create two lists of values (for working days and for weekends) for the histogram input"
   ],
   "metadata": {
    "collapsed": false
   }
  },
  {
   "cell_type": "code",
   "execution_count": 4,
   "outputs": [
    {
     "name": "stdout",
     "output_type": "stream",
     "text": [
      "2037\n",
      "1170\n"
     ]
    }
   ],
   "source": [
    "working_day = df['hour'][df['day'] == 'working_day'].tolist()\n",
    "weekend = df['hour'][df['day'] == 'weekend'].tolist()\n",
    "print(len(working_day))\n",
    "print(len(weekend))"
   ],
   "metadata": {
    "collapsed": false
   }
  },
  {
   "cell_type": "markdown",
   "source": [
    "## the figsize is still the same, you can choose the fontsize as well as the color palette"
   ],
   "metadata": {
    "collapsed": false
   }
  },
  {
   "cell_type": "markdown",
   "source": [
    "## use a level of transparency for the histogram in front equal to 0.7"
   ],
   "metadata": {
    "collapsed": false
   }
  },
  {
   "cell_type": "code",
   "execution_count": 5,
   "outputs": [
    {
     "data": {
      "text/plain": "<Figure size 1500x800 with 1 Axes>",
      "image/png": "[encoded data removed]"
     },
     "metadata": {},
     "output_type": "display_data"
    }
   ],
   "source": [
    "plt.figure(figsize=(15,8))\n",
    "plt.hist(working_day, bins=24, range=[0, 24], label='working_day', color='pink')\n",
    "plt.hist(weekend, bins=24, range=[0, 24], label='weekend', alpha=0.7, color='cyan')\n",
    "plt.xlim(0,24)\n",
    "plt.legend()\n",
    "plt.show()"
   ],
   "metadata": {
    "collapsed": false
   }
  },
  {
   "cell_type": "markdown",
   "source": [
    "## Are there hours when the total number of commits was higher on weekends than on working days?"
   ],
   "metadata": {
    "collapsed": false
   }
  },
  {
   "cell_type": "code",
   "execution_count": 6,
   "outputs": [
    {
     "name": "stdout",
     "output_type": "stream",
     "text": [
      "Yes: 11, 13, 22 and 23 hours are the ones with number of commits was higher on weekends than on working days\n"
     ]
    }
   ],
   "source": [
    "print(\"Yes: 11, 13, 22 and 23 hours are the ones with number of commits was higher on weekends than on working days\")"
   ],
   "metadata": {
    "collapsed": false
   }
  },
  {
   "cell_type": "code",
   "execution_count": 7,
   "outputs": [],
   "source": [
    "con.close()"
   ],
   "metadata": {
    "collapsed": false
   }
  }
 ],
 "metadata": {
  "kernelspec": {
   "display_name": "Python 3",
   "language": "python",
   "name": "python3"
  },
  "language_info": {
   "codemirror_mode": {
    "name": "ipython",
    "version": 2
   },
   "file_extension": ".py",
   "mimetype": "text/x-python",
   "name": "python",
   "nbconvert_exporter": "python",
   "pygments_lexer": "ipython2",
   "version": "2.7.6"
  }
 },
 "nbformat": 4,
 "nbformat_minor": 0
}
