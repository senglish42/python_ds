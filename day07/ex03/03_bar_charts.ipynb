{
 "cells": [
  {
   "cell_type": "code",
   "execution_count": 230,
   "metadata": {
    "collapsed": true
   },
   "outputs": [],
   "source": [
    "import pandas as pd\n",
    "import sqlite3"
   ]
  },
  {
   "cell_type": "code",
   "execution_count": 231,
   "outputs": [],
   "source": [
    "con = sqlite3.connect(\"../data/checking-logs.sqlite.sqlite copy\")"
   ],
   "metadata": {
    "collapsed": false
   }
  },
  {
   "cell_type": "markdown",
   "source": [
    "## analyze only the users and not the admins"
   ],
   "metadata": {
    "collapsed": false
   }
  },
  {
   "cell_type": "code",
   "execution_count": 232,
   "outputs": [
    {
     "name": "stdout",
     "output_type": "stream",
     "text": [
      "            hour  commits\n",
      "timestamp                \n",
      "2020-04-17     5       13\n",
      "2020-04-17    11        8\n",
      "2020-04-17    12        2\n",
      "2020-04-18     7        1\n",
      "2020-04-18    13        5\n",
      "...          ...      ...\n",
      "2020-05-21    16        4\n",
      "2020-05-21    17        1\n",
      "2020-05-21    18        2\n",
      "2020-05-21    19        8\n",
      "2020-05-21    20       10\n",
      "\n",
      "[288 rows x 2 columns]\n"
     ]
    }
   ],
   "source": [
    "df = pd.io.sql.read_sql(\"SELECT timestamp FROM checker WHERE uid LIKE 'user_%';\", parse_dates=['timestamp'], con=con)\n",
    "df = df.groupby([df['timestamp'].dt.date, df['timestamp'].dt.hour]).count()\n",
    "df.index.set_names('hour', level=1, inplace=True)\n",
    "df.reset_index('hour', inplace=True)\n",
    "df.rename(columns={'timestamp' : 'commits'}, inplace=True)\n",
    "print(df)"
   ],
   "metadata": {
    "collapsed": false
   }
  },
  {
   "cell_type": "markdown",
   "source": [
    "## for each hour, calculate the average number of commits on working days and on weekends (if there were no commits in an hour, do not use it to calculate the average) use these values for your graph"
   ],
   "metadata": {
    "collapsed": false
   }
  },
  {
   "cell_type": "code",
   "execution_count": 233,
   "outputs": [
    {
     "name": "stderr",
     "output_type": "stream",
     "text": [
      "/tmp/ipykernel_14047/1744631396.py:4: FutureWarning: The default value of numeric_only in DataFrameGroupBy.mean is deprecated. In a future version, numeric_only will default to False. Either specify numeric_only or select only columns which should be valid for the function.\n",
      "  df = df.groupby([df['business'], df['hour']]).mean()\n"
     ]
    },
    {
     "data": {
      "text/plain": "business    weekend  working_day\nhour                            \n0          2.000000     3.000000\n1          6.000000     0.000000\n2          0.000000     0.000000\n3          1.000000     2.000000\n4          0.000000     0.000000\n5          2.000000     7.500000\n6          0.000000     1.500000\n7          4.000000     5.166667\n8          7.000000     3.700000\n9          3.666667     6.000000\n10         7.000000    13.200000\n11        23.600000     6.769231\n12         9.500000     7.181818\n13        18.000000     8.111111\n14        12.428571    10.166667\n15        14.250000    12.818182\n16        14.800000    18.888889\n17         7.142857    16.000000\n18         9.714286    15.181818\n19        13.125000    17.833333\n20        13.000000    14.076923\n21        10.285714    24.333333\n22         9.833333     3.750000\n23         6.400000     5.000000",
      "text/html": "<div>\n<style scoped>\n    .dataframe tbody tr th:only-of-type {\n        vertical-align: middle;\n    }\n\n    .dataframe tbody tr th {\n        vertical-align: top;\n    }\n\n    .dataframe thead th {\n        text-align: right;\n    }\n</style>\n<table border=\"1\" class=\"dataframe\">\n  <thead>\n    <tr style=\"text-align: right;\">\n      <th>business</th>\n      <th>weekend</th>\n      <th>working_day</th>\n    </tr>\n    <tr>\n      <th>hour</th>\n      <th></th>\n      <th></th>\n    </tr>\n  </thead>\n  <tbody>\n    <tr>\n      <th>0</th>\n      <td>2.000000</td>\n      <td>3.000000</td>\n    </tr>\n    <tr>\n      <th>1</th>\n      <td>6.000000</td>\n      <td>0.000000</td>\n    </tr>\n    <tr>\n      <th>2</th>\n      <td>0.000000</td>\n      <td>0.000000</td>\n    </tr>\n    <tr>\n      <th>3</th>\n      <td>1.000000</td>\n      <td>2.000000</td>\n    </tr>\n    <tr>\n      <th>4</th>\n      <td>0.000000</td>\n      <td>0.000000</td>\n    </tr>\n    <tr>\n      <th>5</th>\n      <td>2.000000</td>\n      <td>7.500000</td>\n    </tr>\n    <tr>\n      <th>6</th>\n      <td>0.000000</td>\n      <td>1.500000</td>\n    </tr>\n    <tr>\n      <th>7</th>\n      <td>4.000000</td>\n      <td>5.166667</td>\n    </tr>\n    <tr>\n      <th>8</th>\n      <td>7.000000</td>\n      <td>3.700000</td>\n    </tr>\n    <tr>\n      <th>9</th>\n      <td>3.666667</td>\n      <td>6.000000</td>\n    </tr>\n    <tr>\n      <th>10</th>\n      <td>7.000000</td>\n      <td>13.200000</td>\n    </tr>\n    <tr>\n      <th>11</th>\n      <td>23.600000</td>\n      <td>6.769231</td>\n    </tr>\n    <tr>\n      <th>12</th>\n      <td>9.500000</td>\n      <td>7.181818</td>\n    </tr>\n    <tr>\n      <th>13</th>\n      <td>18.000000</td>\n      <td>8.111111</td>\n    </tr>\n    <tr>\n      <th>14</th>\n      <td>12.428571</td>\n      <td>10.166667</td>\n    </tr>\n    <tr>\n      <th>15</th>\n      <td>14.250000</td>\n      <td>12.818182</td>\n    </tr>\n    <tr>\n      <th>16</th>\n      <td>14.800000</td>\n      <td>18.888889</td>\n    </tr>\n    <tr>\n      <th>17</th>\n      <td>7.142857</td>\n      <td>16.000000</td>\n    </tr>\n    <tr>\n      <th>18</th>\n      <td>9.714286</td>\n      <td>15.181818</td>\n    </tr>\n    <tr>\n      <th>19</th>\n      <td>13.125000</td>\n      <td>17.833333</td>\n    </tr>\n    <tr>\n      <th>20</th>\n      <td>13.000000</td>\n      <td>14.076923</td>\n    </tr>\n    <tr>\n      <th>21</th>\n      <td>10.285714</td>\n      <td>24.333333</td>\n    </tr>\n    <tr>\n      <th>22</th>\n      <td>9.833333</td>\n      <td>3.750000</td>\n    </tr>\n    <tr>\n      <th>23</th>\n      <td>6.400000</td>\n      <td>5.000000</td>\n    </tr>\n  </tbody>\n</table>\n</div>"
     },
     "execution_count": 233,
     "metadata": {},
     "output_type": "execute_result"
    }
   ],
   "source": [
    "df.reset_index(inplace=True)\n",
    "df['business'] = df['timestamp'].apply(lambda x: bool(len(pd.bdate_range(x, x))))\n",
    "df['business'] = df['business'].map({False: 'weekend', True: 'working_day'})\n",
    "df = df.groupby([df['business'], df['hour']]).mean()\n",
    "df = df.pivot_table(index='hour', values='commits', columns='business', margins_name=[\"working_day\", \"weekend\"])\n",
    "df.loc[2] = {'working_day': 0, 'weekend': 0}\n",
    "df.loc[4] = {'working_day': 0, 'weekend': 0}\n",
    "df.sort_index(inplace=True)\n",
    "df.fillna(0, inplace=True)\n",
    "df"
   ],
   "metadata": {
    "collapsed": false
   }
  },
  {
   "cell_type": "markdown",
   "source": [
    "## the fontsize and the figsize remain the same"
   ],
   "metadata": {
    "collapsed": false
   }
  },
  {
   "cell_type": "markdown",
   "source": [
    "## choose a palette that you really enjoy, you do not have to replicate it from the graph above"
   ],
   "metadata": {
    "collapsed": false
   }
  },
  {
   "cell_type": "code",
   "execution_count": 234,
   "outputs": [
    {
     "data": {
      "text/plain": "array([<AxesSubplot: title={'center': 'weekend'}, xlabel='hour'>,\n       <AxesSubplot: title={'center': 'working_day'}, xlabel='hour'>],\n      dtype=object)"
     },
     "execution_count": 234,
     "metadata": {},
     "output_type": "execute_result"
    },
    {
     "data": {
      "text/plain": "<Figure size 1500x800 with 2 Axes>",
      "image/png": "[encoded data removed]"
     },
     "metadata": {},
     "output_type": "display_data"
    }
   ],
   "source": [
    "df.plot.bar(fontsize=8, figsize=(15, 8), subplots=True, sharex=True, title='Commits per hour', rot=0, color=['blue', 'red'])"
   ],
   "metadata": {
    "collapsed": false
   }
  },
  {
   "cell_type": "markdown",
   "source": [
    "## Is the dynamic different on working days and weekends?"
   ],
   "metadata": {
    "collapsed": false
   }
  },
  {
   "cell_type": "code",
   "execution_count": 235,
   "outputs": [
    {
     "name": "stdout",
     "output_type": "stream",
     "text": [
      "weekend: 11\n",
      "working_day: 21\n"
     ]
    }
   ],
   "source": [
    "print(\"weekend: 11\\nworking_day: 21\")"
   ],
   "metadata": {
    "collapsed": false
   }
  },
  {
   "cell_type": "code",
   "execution_count": 236,
   "outputs": [],
   "source": [
    "con.close()"
   ],
   "metadata": {
    "collapsed": false
   }
  }
 ],
 "metadata": {
  "kernelspec": {
   "display_name": "Python 3",
   "language": "python",
   "name": "python3"
  },
  "language_info": {
   "codemirror_mode": {
    "name": "ipython",
    "version": 2
   },
   "file_extension": ".py",
   "mimetype": "text/x-python",
   "name": "python",
   "nbconvert_exporter": "python",
   "pygments_lexer": "ipython2",
   "version": "2.7.6"
  }
 },
 "nbformat": 4,
 "nbformat_minor": 0
}
