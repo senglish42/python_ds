{
 "cells": [
  {
   "cell_type": "code",
   "execution_count": 1,
   "metadata": {
    "collapsed": true
   },
   "outputs": [],
   "source": [
    "import pandas as pd"
   ]
  },
  {
   "cell_type": "markdown",
   "source": [
    "## create a dataframe views with two columns: datetime and user by reading feed-views.log"
   ],
   "metadata": {
    "collapsed": false
   }
  },
  {
   "cell_type": "code",
   "execution_count": 2,
   "outputs": [],
   "source": [
    "views = pd.DataFrame\n",
    "try:\n",
    "    views = pd.read_csv(\"../data/feed-views.log\", header=None, names=['datetime', 'user'], engine=\"python\", sep='\\t')\n",
    "except IOError as e:\n",
    "    print(e)\n",
    "    quit(1)"
   ],
   "metadata": {
    "collapsed": false
   }
  },
  {
   "cell_type": "code",
   "execution_count": 3,
   "outputs": [
    {
     "name": "stdout",
     "output_type": "stream",
     "text": [
      "datetime    datetime64[ns]\n",
      "user                object\n",
      "dtype: object\n"
     ]
    }
   ],
   "source": [
    "try:\n",
    "    datetime_converter = lambda x: x.strip()\n",
    "    views['datetime'] = views['datetime'].apply(datetime_converter).astype('datetime64[ns]')\n",
    "    print(views.dtypes)\n",
    "except ValueError as e:\n",
    "    print(f\"Exception: {e}\")\n",
    "    exit(2)"
   ],
   "metadata": {
    "collapsed": false
   }
  },
  {
   "cell_type": "code",
   "execution_count": 4,
   "outputs": [
    {
     "data": {
      "text/plain": "                       datetime       user  year  month  day  hour  minute  \\\n0    2020-04-17 12:01:08.463179      artem  2020      4   17    12       1   \n1    2020-04-17 12:01:23.743946      artem  2020      4   17    12       1   \n2    2020-04-17 12:27:30.646665      artem  2020      4   17    12      27   \n3    2020-04-17 12:35:44.884757      artem  2020      4   17    12      35   \n4    2020-04-17 12:35:52.735016      artem  2020      4   17    12      35   \n...                         ...        ...   ...    ...  ...   ...     ...   \n1071 2020-05-21 18:45:20.441142  valentina  2020      5   21    18      45   \n1072 2020-05-21 23:03:06.457819      maxim  2020      5   21    23       3   \n1073 2020-05-21 23:23:49.995349      pavel  2020      5   21    23      23   \n1074 2020-05-21 23:49:22.386789      artem  2020      5   21    23      49   \n1075 2020-05-22 10:36:14.662600      artem  2020      5   22    10      36   \n\n      second  \n0          8  \n1         23  \n2         30  \n3         44  \n4         52  \n...      ...  \n1071      20  \n1072       6  \n1073      49  \n1074      22  \n1075      14  \n\n[1076 rows x 8 columns]",
      "text/html": "<div>\n<style scoped>\n    .dataframe tbody tr th:only-of-type {\n        vertical-align: middle;\n    }\n\n    .dataframe tbody tr th {\n        vertical-align: top;\n    }\n\n    .dataframe thead th {\n        text-align: right;\n    }\n</style>\n<table border=\"1\" class=\"dataframe\">\n  <thead>\n    <tr style=\"text-align: right;\">\n      <th></th>\n      <th>datetime</th>\n      <th>user</th>\n      <th>year</th>\n      <th>month</th>\n      <th>day</th>\n      <th>hour</th>\n      <th>minute</th>\n      <th>second</th>\n    </tr>\n  </thead>\n  <tbody>\n    <tr>\n      <th>0</th>\n      <td>2020-04-17 12:01:08.463179</td>\n      <td>artem</td>\n      <td>2020</td>\n      <td>4</td>\n      <td>17</td>\n      <td>12</td>\n      <td>1</td>\n      <td>8</td>\n    </tr>\n    <tr>\n      <th>1</th>\n      <td>2020-04-17 12:01:23.743946</td>\n      <td>artem</td>\n      <td>2020</td>\n      <td>4</td>\n      <td>17</td>\n      <td>12</td>\n      <td>1</td>\n      <td>23</td>\n    </tr>\n    <tr>\n      <th>2</th>\n      <td>2020-04-17 12:27:30.646665</td>\n      <td>artem</td>\n      <td>2020</td>\n      <td>4</td>\n      <td>17</td>\n      <td>12</td>\n      <td>27</td>\n      <td>30</td>\n    </tr>\n    <tr>\n      <th>3</th>\n      <td>2020-04-17 12:35:44.884757</td>\n      <td>artem</td>\n      <td>2020</td>\n      <td>4</td>\n      <td>17</td>\n      <td>12</td>\n      <td>35</td>\n      <td>44</td>\n    </tr>\n    <tr>\n      <th>4</th>\n      <td>2020-04-17 12:35:52.735016</td>\n      <td>artem</td>\n      <td>2020</td>\n      <td>4</td>\n      <td>17</td>\n      <td>12</td>\n      <td>35</td>\n      <td>52</td>\n    </tr>\n    <tr>\n      <th>...</th>\n      <td>...</td>\n      <td>...</td>\n      <td>...</td>\n      <td>...</td>\n      <td>...</td>\n      <td>...</td>\n      <td>...</td>\n      <td>...</td>\n    </tr>\n    <tr>\n      <th>1071</th>\n      <td>2020-05-21 18:45:20.441142</td>\n      <td>valentina</td>\n      <td>2020</td>\n      <td>5</td>\n      <td>21</td>\n      <td>18</td>\n      <td>45</td>\n      <td>20</td>\n    </tr>\n    <tr>\n      <th>1072</th>\n      <td>2020-05-21 23:03:06.457819</td>\n      <td>maxim</td>\n      <td>2020</td>\n      <td>5</td>\n      <td>21</td>\n      <td>23</td>\n      <td>3</td>\n      <td>6</td>\n    </tr>\n    <tr>\n      <th>1073</th>\n      <td>2020-05-21 23:23:49.995349</td>\n      <td>pavel</td>\n      <td>2020</td>\n      <td>5</td>\n      <td>21</td>\n      <td>23</td>\n      <td>23</td>\n      <td>49</td>\n    </tr>\n    <tr>\n      <th>1074</th>\n      <td>2020-05-21 23:49:22.386789</td>\n      <td>artem</td>\n      <td>2020</td>\n      <td>5</td>\n      <td>21</td>\n      <td>23</td>\n      <td>49</td>\n      <td>22</td>\n    </tr>\n    <tr>\n      <th>1075</th>\n      <td>2020-05-22 10:36:14.662600</td>\n      <td>artem</td>\n      <td>2020</td>\n      <td>5</td>\n      <td>22</td>\n      <td>10</td>\n      <td>36</td>\n      <td>14</td>\n    </tr>\n  </tbody>\n</table>\n<p>1076 rows × 8 columns</p>\n</div>"
     },
     "execution_count": 4,
     "metadata": {},
     "output_type": "execute_result"
    }
   ],
   "source": [
    "views['year'] = views['datetime'].dt.year\n",
    "views['month'] = views['datetime'].dt.month\n",
    "views['day'] = views['datetime'].dt.day\n",
    "views['hour'] = views['datetime'].dt.hour\n",
    "views['minute'] = views['datetime'].dt.minute\n",
    "views['second']= views['datetime'].dt.second\n",
    "views"
   ],
   "metadata": {
    "collapsed": false
   }
  },
  {
   "cell_type": "markdown",
   "source": [
    "## create the new column daytime"
   ],
   "metadata": {
    "collapsed": false
   }
  },
  {
   "cell_type": "code",
   "execution_count": 5,
   "outputs": [
    {
     "data": {
      "text/plain": "                            datetime  year  month  day  hour  minute  second  \\\nuser                                                                           \nartem     2020-04-17 12:01:08.463179  2020      4   17    12       1       8   \nartem     2020-04-17 12:01:23.743946  2020      4   17    12       1      23   \nartem     2020-04-17 12:27:30.646665  2020      4   17    12      27      30   \nartem     2020-04-17 12:35:44.884757  2020      4   17    12      35      44   \nartem     2020-04-17 12:35:52.735016  2020      4   17    12      35      52   \n...                              ...   ...    ...  ...   ...     ...     ...   \nvalentina 2020-05-21 18:45:20.441142  2020      5   21    18      45      20   \nmaxim     2020-05-21 23:03:06.457819  2020      5   21    23       3       6   \npavel     2020-05-21 23:23:49.995349  2020      5   21    23      23      49   \nartem     2020-05-21 23:49:22.386789  2020      5   21    23      49      22   \nartem     2020-05-22 10:36:14.662600  2020      5   22    10      36      14   \n\n                 daytime  \nuser                      \nartem          afternoon  \nartem          afternoon  \nartem          afternoon  \nartem          afternoon  \nartem          afternoon  \n...                  ...  \nvalentina  early evening  \nmaxim            evening  \npavel            evening  \nartem            evening  \nartem            morning  \n\n[1076 rows x 8 columns]",
      "text/html": "<div>\n<style scoped>\n    .dataframe tbody tr th:only-of-type {\n        vertical-align: middle;\n    }\n\n    .dataframe tbody tr th {\n        vertical-align: top;\n    }\n\n    .dataframe thead th {\n        text-align: right;\n    }\n</style>\n<table border=\"1\" class=\"dataframe\">\n  <thead>\n    <tr style=\"text-align: right;\">\n      <th></th>\n      <th>datetime</th>\n      <th>year</th>\n      <th>month</th>\n      <th>day</th>\n      <th>hour</th>\n      <th>minute</th>\n      <th>second</th>\n      <th>daytime</th>\n    </tr>\n    <tr>\n      <th>user</th>\n      <th></th>\n      <th></th>\n      <th></th>\n      <th></th>\n      <th></th>\n      <th></th>\n      <th></th>\n      <th></th>\n    </tr>\n  </thead>\n  <tbody>\n    <tr>\n      <th>artem</th>\n      <td>2020-04-17 12:01:08.463179</td>\n      <td>2020</td>\n      <td>4</td>\n      <td>17</td>\n      <td>12</td>\n      <td>1</td>\n      <td>8</td>\n      <td>afternoon</td>\n    </tr>\n    <tr>\n      <th>artem</th>\n      <td>2020-04-17 12:01:23.743946</td>\n      <td>2020</td>\n      <td>4</td>\n      <td>17</td>\n      <td>12</td>\n      <td>1</td>\n      <td>23</td>\n      <td>afternoon</td>\n    </tr>\n    <tr>\n      <th>artem</th>\n      <td>2020-04-17 12:27:30.646665</td>\n      <td>2020</td>\n      <td>4</td>\n      <td>17</td>\n      <td>12</td>\n      <td>27</td>\n      <td>30</td>\n      <td>afternoon</td>\n    </tr>\n    <tr>\n      <th>artem</th>\n      <td>2020-04-17 12:35:44.884757</td>\n      <td>2020</td>\n      <td>4</td>\n      <td>17</td>\n      <td>12</td>\n      <td>35</td>\n      <td>44</td>\n      <td>afternoon</td>\n    </tr>\n    <tr>\n      <th>artem</th>\n      <td>2020-04-17 12:35:52.735016</td>\n      <td>2020</td>\n      <td>4</td>\n      <td>17</td>\n      <td>12</td>\n      <td>35</td>\n      <td>52</td>\n      <td>afternoon</td>\n    </tr>\n    <tr>\n      <th>...</th>\n      <td>...</td>\n      <td>...</td>\n      <td>...</td>\n      <td>...</td>\n      <td>...</td>\n      <td>...</td>\n      <td>...</td>\n      <td>...</td>\n    </tr>\n    <tr>\n      <th>valentina</th>\n      <td>2020-05-21 18:45:20.441142</td>\n      <td>2020</td>\n      <td>5</td>\n      <td>21</td>\n      <td>18</td>\n      <td>45</td>\n      <td>20</td>\n      <td>early evening</td>\n    </tr>\n    <tr>\n      <th>maxim</th>\n      <td>2020-05-21 23:03:06.457819</td>\n      <td>2020</td>\n      <td>5</td>\n      <td>21</td>\n      <td>23</td>\n      <td>3</td>\n      <td>6</td>\n      <td>evening</td>\n    </tr>\n    <tr>\n      <th>pavel</th>\n      <td>2020-05-21 23:23:49.995349</td>\n      <td>2020</td>\n      <td>5</td>\n      <td>21</td>\n      <td>23</td>\n      <td>23</td>\n      <td>49</td>\n      <td>evening</td>\n    </tr>\n    <tr>\n      <th>artem</th>\n      <td>2020-05-21 23:49:22.386789</td>\n      <td>2020</td>\n      <td>5</td>\n      <td>21</td>\n      <td>23</td>\n      <td>49</td>\n      <td>22</td>\n      <td>evening</td>\n    </tr>\n    <tr>\n      <th>artem</th>\n      <td>2020-05-22 10:36:14.662600</td>\n      <td>2020</td>\n      <td>5</td>\n      <td>22</td>\n      <td>10</td>\n      <td>36</td>\n      <td>14</td>\n      <td>morning</td>\n    </tr>\n  </tbody>\n</table>\n<p>1076 rows × 8 columns</p>\n</div>"
     },
     "execution_count": 5,
     "metadata": {},
     "output_type": "execute_result"
    }
   ],
   "source": [
    "dt_bins = [0, 3, 6, 10, 16, 19, 23]\n",
    "dt_labels = ['night', 'early morning', 'morning', 'afternoon', 'early evening', 'evening']\n",
    "views['daytime'] = pd.cut(views['hour'], bins=dt_bins, labels=dt_labels, include_lowest = True, ordered=False)\n",
    "views.set_index('user')"
   ],
   "metadata": {
    "collapsed": false
   }
  },
  {
   "cell_type": "markdown",
   "source": [
    "## calculate the number of elements in your viewsframe"
   ],
   "metadata": {
    "collapsed": false
   }
  },
  {
   "cell_type": "code",
   "execution_count": 6,
   "outputs": [
    {
     "name": "stdout",
     "output_type": "stream",
     "text": [
      "datetime    1076\n",
      "user        1076\n",
      "year        1076\n",
      "month       1076\n",
      "day         1076\n",
      "hour        1076\n",
      "minute      1076\n",
      "second      1076\n",
      "daytime     1076\n",
      "dtype: int64\n"
     ]
    }
   ],
   "source": [
    "print(views.count())"
   ],
   "metadata": {
    "collapsed": false
   }
  },
  {
   "cell_type": "code",
   "execution_count": 7,
   "outputs": [
    {
     "name": "stdout",
     "output_type": "stream",
     "text": [
      "evening          509\n",
      "afternoon        252\n",
      "early evening    145\n",
      "night            129\n",
      "morning           36\n",
      "early morning      5\n",
      "Name: daytime, dtype: int64\n"
     ]
    }
   ],
   "source": [
    "print(views['daytime'].value_counts())"
   ],
   "metadata": {
    "collapsed": false
   }
  },
  {
   "cell_type": "markdown",
   "source": [
    "## sort values in your viewsframe by hour, minute, and second in ascending order(simultaneously and not one by one)"
   ],
   "metadata": {
    "collapsed": false
   }
  },
  {
   "cell_type": "code",
   "execution_count": 8,
   "outputs": [],
   "source": [
    "views.sort_values(axis=0, by=['hour', 'minute', 'second'], inplace=True)"
   ],
   "metadata": {
    "collapsed": false
   }
  },
  {
   "cell_type": "markdown",
   "source": [
    "## calculate the minimum and maximum for the hours and the mode for the daytime categories"
   ],
   "metadata": {
    "collapsed": false
   }
  },
  {
   "cell_type": "code",
   "execution_count": 9,
   "outputs": [
    {
     "name": "stdout",
     "output_type": "stream",
     "text": [
      "maximum of hour for the rows where the time of day is night: 3\n"
     ]
    },
    {
     "data": {
      "text/plain": "                     datetime        user  year  month  day  hour  minute  \\\n46 2020-04-19 03:23:35.471598  konstantin  2020      4   19     3      23   \n\n    second daytime  \n46      35   night  ",
      "text/html": "<div>\n<style scoped>\n    .dataframe tbody tr th:only-of-type {\n        vertical-align: middle;\n    }\n\n    .dataframe tbody tr th {\n        vertical-align: top;\n    }\n\n    .dataframe thead th {\n        text-align: right;\n    }\n</style>\n<table border=\"1\" class=\"dataframe\">\n  <thead>\n    <tr style=\"text-align: right;\">\n      <th></th>\n      <th>datetime</th>\n      <th>user</th>\n      <th>year</th>\n      <th>month</th>\n      <th>day</th>\n      <th>hour</th>\n      <th>minute</th>\n      <th>second</th>\n      <th>daytime</th>\n    </tr>\n  </thead>\n  <tbody>\n    <tr>\n      <th>46</th>\n      <td>2020-04-19 03:23:35.471598</td>\n      <td>konstantin</td>\n      <td>2020</td>\n      <td>4</td>\n      <td>19</td>\n      <td>3</td>\n      <td>23</td>\n      <td>35</td>\n      <td>night</td>\n    </tr>\n  </tbody>\n</table>\n</div>"
     },
     "execution_count": 9,
     "metadata": {},
     "output_type": "execute_result"
    }
   ],
   "source": [
    "evening_filter = views['daytime'].isin(['night'])\n",
    "max_n = views[evening_filter]['hour'].max()\n",
    "print(f\"maximum of hour for the rows where the time of day is night: {max_n}\")\n",
    "max_n_filter = views['hour'].isin([max_n])\n",
    "views[max_n_filter].head(1)"
   ],
   "metadata": {
    "collapsed": false
   }
  },
  {
   "cell_type": "code",
   "execution_count": 10,
   "outputs": [
    {
     "name": "stdout",
     "output_type": "stream",
     "text": [
      "minimum of hour for the rows where the time of day is morning: 8\n"
     ]
    },
    {
     "data": {
      "text/plain": "                      datetime       user  year  month  day  hour  minute  \\\n963 2020-05-15 08:16:03.918402  alexander  2020      5   15     8      16   \n\n     second  daytime  \n963       3  morning  ",
      "text/html": "<div>\n<style scoped>\n    .dataframe tbody tr th:only-of-type {\n        vertical-align: middle;\n    }\n\n    .dataframe tbody tr th {\n        vertical-align: top;\n    }\n\n    .dataframe thead th {\n        text-align: right;\n    }\n</style>\n<table border=\"1\" class=\"dataframe\">\n  <thead>\n    <tr style=\"text-align: right;\">\n      <th></th>\n      <th>datetime</th>\n      <th>user</th>\n      <th>year</th>\n      <th>month</th>\n      <th>day</th>\n      <th>hour</th>\n      <th>minute</th>\n      <th>second</th>\n      <th>daytime</th>\n    </tr>\n  </thead>\n  <tbody>\n    <tr>\n      <th>963</th>\n      <td>2020-05-15 08:16:03.918402</td>\n      <td>alexander</td>\n      <td>2020</td>\n      <td>5</td>\n      <td>15</td>\n      <td>8</td>\n      <td>16</td>\n      <td>3</td>\n      <td>morning</td>\n    </tr>\n  </tbody>\n</table>\n</div>"
     },
     "execution_count": 10,
     "metadata": {},
     "output_type": "execute_result"
    }
   ],
   "source": [
    "morning_filter = views['daytime'].isin(['morning'])\n",
    "min_m = views[morning_filter]['hour'].min()\n",
    "print(f\"minimum of hour for the rows where the time of day is morning: {min_m}\")\n",
    "min_m_filter = views['hour'].isin([min_m])\n",
    "views[min_m_filter].head(1)"
   ],
   "metadata": {
    "collapsed": false
   }
  },
  {
   "cell_type": "code",
   "execution_count": 11,
   "outputs": [
    {
     "name": "stdout",
     "output_type": "stream",
     "text": [
      "Mode for the hour: 22\n",
      "Mode for the daytime: evening\n"
     ]
    }
   ],
   "source": [
    "mode_h = views['hour'].mode()[0]\n",
    "print(f\"Mode for the hour: {mode_h}\")\n",
    "mode_dt = views['daytime'].mode()[0]\n",
    "print(f\"Mode for the daytime: {mode_dt}\")"
   ],
   "metadata": {
    "collapsed": false
   }
  },
  {
   "cell_type": "markdown",
   "source": [
    "## show the 3 earliest hours in the morning and the corresponding usernames and the 3 latest hours and the usernames using nsmallest() and nlargest()"
   ],
   "metadata": {
    "collapsed": false
   }
  },
  {
   "cell_type": "code",
   "execution_count": 12,
   "outputs": [
    {
     "name": "stdout",
     "output_type": "stream",
     "text": [
      "3 earliest hours in the morning and the corresponding usernames:\n"
     ]
    },
    {
     "data": {
      "text/plain": "     hour       user\n963     8  alexander\n964     8  alexander\n965     9  alexander",
      "text/html": "<div>\n<style scoped>\n    .dataframe tbody tr th:only-of-type {\n        vertical-align: middle;\n    }\n\n    .dataframe tbody tr th {\n        vertical-align: top;\n    }\n\n    .dataframe thead th {\n        text-align: right;\n    }\n</style>\n<table border=\"1\" class=\"dataframe\">\n  <thead>\n    <tr style=\"text-align: right;\">\n      <th></th>\n      <th>hour</th>\n      <th>user</th>\n    </tr>\n  </thead>\n  <tbody>\n    <tr>\n      <th>963</th>\n      <td>8</td>\n      <td>alexander</td>\n    </tr>\n    <tr>\n      <th>964</th>\n      <td>8</td>\n      <td>alexander</td>\n    </tr>\n    <tr>\n      <th>965</th>\n      <td>9</td>\n      <td>alexander</td>\n    </tr>\n  </tbody>\n</table>\n</div>"
     },
     "execution_count": 12,
     "metadata": {},
     "output_type": "execute_result"
    }
   ],
   "source": [
    "print(\"3 earliest hours in the morning and the corresponding usernames:\")\n",
    "views[morning_filter].nsmallest(3, 'hour')[['hour', 'user']]"
   ],
   "metadata": {
    "collapsed": false
   }
  },
  {
   "cell_type": "code",
   "execution_count": 13,
   "outputs": [
    {
     "name": "stdout",
     "output_type": "stream",
     "text": [
      "3 latest hours in the morning and the corresponding usernames:\n"
     ]
    },
    {
     "data": {
      "text/plain": "     hour        user\n976    10  konstantin\n756    10       maxim\n757    10       maxim",
      "text/html": "<div>\n<style scoped>\n    .dataframe tbody tr th:only-of-type {\n        vertical-align: middle;\n    }\n\n    .dataframe tbody tr th {\n        vertical-align: top;\n    }\n\n    .dataframe thead th {\n        text-align: right;\n    }\n</style>\n<table border=\"1\" class=\"dataframe\">\n  <thead>\n    <tr style=\"text-align: right;\">\n      <th></th>\n      <th>hour</th>\n      <th>user</th>\n    </tr>\n  </thead>\n  <tbody>\n    <tr>\n      <th>976</th>\n      <td>10</td>\n      <td>konstantin</td>\n    </tr>\n    <tr>\n      <th>756</th>\n      <td>10</td>\n      <td>maxim</td>\n    </tr>\n    <tr>\n      <th>757</th>\n      <td>10</td>\n      <td>maxim</td>\n    </tr>\n  </tbody>\n</table>\n</div>"
     },
     "execution_count": 13,
     "metadata": {},
     "output_type": "execute_result"
    }
   ],
   "source": [
    "print(\"3 latest hours in the morning and the corresponding usernames:\")\n",
    "views[morning_filter].nlargest(3, 'hour')[['hour', 'user']]"
   ],
   "metadata": {
    "collapsed": false
   }
  },
  {
   "cell_type": "markdown",
   "source": [
    "## use the method describe() to get the basic statistics for the columns"
   ],
   "metadata": {
    "collapsed": false
   }
  },
  {
   "cell_type": "code",
   "execution_count": 14,
   "outputs": [
    {
     "name": "stdout",
     "output_type": "stream",
     "text": [
      "the interquartile range for the hour: 9.0\n"
     ]
    }
   ],
   "source": [
    "iqr = views['hour'].describe()['75%'] - views['hour'].describe()['25%']\n",
    "print(f\"the interquartile range for the hour: {iqr}\")"
   ],
   "metadata": {
    "collapsed": false
   }
  }
 ],
 "metadata": {
  "kernelspec": {
   "display_name": "Python 3",
   "language": "python",
   "name": "python3"
  },
  "language_info": {
   "codemirror_mode": {
    "name": "ipython",
    "version": 2
   },
   "file_extension": ".py",
   "mimetype": "text/x-python",
   "name": "python",
   "nbconvert_exporter": "python",
   "pygments_lexer": "ipython2",
   "version": "2.7.6"
  }
 },
 "nbformat": 4,
 "nbformat_minor": 0
}
