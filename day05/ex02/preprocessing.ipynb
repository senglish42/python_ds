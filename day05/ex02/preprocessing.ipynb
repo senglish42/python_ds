{
 "cells": [
  {
   "cell_type": "code",
   "execution_count": 89,
   "metadata": {
    "collapsed": true
   },
   "outputs": [],
   "source": [
    "import pandas as pd"
   ]
  },
  {
   "cell_type": "markdown",
   "source": [
    "## download and read the CSV file and make ID the index column"
   ],
   "metadata": {
    "collapsed": false
   }
  },
  {
   "cell_type": "code",
   "execution_count": 90,
   "outputs": [
    {
     "name": "stdout",
     "output_type": "stream",
     "text": [
      "        CarNumber    Make_n_model  Refund    Fines  History\n",
      "ID                                                         \n",
      "0    Y163O8161RUS      Ford Focus     2.0   3200.0      NaN\n",
      "1     E432XX77RUS    Toyota Camry     1.0   6500.0      NaN\n",
      "2     7184TT36RUS      Ford Focus     1.0   2100.0      NaN\n",
      "3    X582HE161RUS      Ford Focus     2.0   2000.0      NaN\n",
      "4    E34877152RUS      Ford Focus     2.0   6100.0      NaN\n",
      "..            ...             ...     ...      ...      ...\n",
      "926  Y163O8161RUS      Ford Focus     2.0   1600.0      NaN\n",
      "927  M0309X197RUS      Ford Focus     1.0  22300.0      NaN\n",
      "928  O673E8197RUS      Ford Focus     2.0    600.0      NaN\n",
      "929  8610T8154RUS      Ford Focus     1.0   2000.0      NaN\n",
      "930  H419XE197RUS  Toyota Corolla     2.0      NaN      2.0\n",
      "\n",
      "[931 rows x 5 columns]\n"
     ]
    }
   ],
   "source": [
    "data = pd.DataFrame\n",
    "try:\n",
    "    data = pd.read_csv(\"../data/auto.csv\", index_col='ID')\n",
    "    print(data)\n",
    "except IOError as e:\n",
    "    print(e)\n",
    "    quit(1)"
   ],
   "metadata": {
    "collapsed": false
   }
  },
  {
   "cell_type": "markdown",
   "source": [
    "## count the number of observations using the method count()"
   ],
   "metadata": {
    "collapsed": false
   }
  },
  {
   "cell_type": "code",
   "execution_count": 91,
   "outputs": [
    {
     "data": {
      "text/plain": "CarNumber       931\nMake_n_model    931\nRefund          914\nFines           869\nHistory          82\ndtype: int64"
     },
     "execution_count": 91,
     "metadata": {},
     "output_type": "execute_result"
    }
   ],
   "source": [
    "data.count()"
   ],
   "metadata": {
    "collapsed": false
   }
  },
  {
   "cell_type": "markdown",
   "source": [
    "## drop the duplicates, taking into account only the following columns: CarNumber, Make_n_model, Fines"
   ],
   "metadata": {
    "collapsed": false
   }
  },
  {
   "cell_type": "code",
   "execution_count": 92,
   "outputs": [
    {
     "data": {
      "text/plain": "CarNumber       725\nMake_n_model    725\nRefund          713\nFines           665\nHistory          65\ndtype: int64"
     },
     "execution_count": 92,
     "metadata": {},
     "output_type": "execute_result"
    }
   ],
   "source": [
    "data.drop_duplicates(subset=['CarNumber', 'Make_n_model', 'Fines'], keep='last', inplace=True)\n",
    "data.count()"
   ],
   "metadata": {
    "collapsed": false
   }
  },
  {
   "cell_type": "markdown",
   "source": [
    "## work with missing values"
   ],
   "metadata": {
    "collapsed": false
   }
  },
  {
   "cell_type": "code",
   "execution_count": 93,
   "outputs": [
    {
     "name": "stdout",
     "output_type": "stream",
     "text": [
      "values are missing:\n"
     ]
    },
    {
     "data": {
      "text/plain": "CarNumber         0\nMake_n_model      0\nRefund           12\nFines            60\nHistory         660\ndtype: int64"
     },
     "execution_count": 93,
     "metadata": {},
     "output_type": "execute_result"
    }
   ],
   "source": [
    "print(\"values are missing:\")\n",
    "data.isnull().sum()"
   ],
   "metadata": {
    "collapsed": false
   }
  },
  {
   "cell_type": "code",
   "execution_count": 94,
   "outputs": [
    {
     "name": "stdout",
     "output_type": "stream",
     "text": [
      "values are missing:\n"
     ]
    },
    {
     "data": {
      "text/plain": "CarNumber        0\nMake_n_model     0\nRefund          12\nFines           60\ndtype: int64"
     },
     "execution_count": 94,
     "metadata": {},
     "output_type": "execute_result"
    }
   ],
   "source": [
    "data.dropna(axis=1, thresh=(len(data.index) - 500), inplace=True)\n",
    "print(\"values are missing:\")\n",
    "data.isnull().sum()"
   ],
   "metadata": {
    "collapsed": false
   }
  },
  {
   "cell_type": "code",
   "execution_count": 95,
   "outputs": [],
   "source": [
    "data['Refund'].fillna(method='ffill', inplace=True)"
   ],
   "metadata": {
    "collapsed": false
   }
  },
  {
   "cell_type": "code",
   "execution_count": 96,
   "outputs": [
    {
     "name": "stdout",
     "output_type": "stream",
     "text": [
      "values are missing:\n"
     ]
    },
    {
     "data": {
      "text/plain": "CarNumber        0\nMake_n_model     0\nRefund           0\nFines           60\ndtype: int64"
     },
     "execution_count": 96,
     "metadata": {},
     "output_type": "execute_result"
    }
   ],
   "source": [
    "print(\"values are missing:\")\n",
    "data.isnull().sum()"
   ],
   "metadata": {
    "collapsed": false
   }
  },
  {
   "cell_type": "code",
   "execution_count": 97,
   "outputs": [
    {
     "data": {
      "text/plain": "        CarNumber        Make_n_model  Refund  Fines\nID                                                  \n11   E40577152RUS          Ford Focus     1.0    NaN\n14    X786CO96RUS          Ford Focus     1.0    NaN\n17   M592CH197RUS       Skoda Octavia     2.0    NaN\n20   7830C8197RUS          Ford Focus     2.0    NaN\n23   M298CH161RUS          Ford Focus     2.0    NaN\n26   E445TC197RUS          Ford Focus     1.0    NaN\n28   9371CE154RUS       Skoda Octavia     2.0    NaN\n32   83298C154RUS          Ford Focus     2.0    NaN\n33   Y7659C197RUS          Ford Focus     2.0    NaN\n37   7364C8197RUS          Ford Focus     2.0    NaN\n43   92928M178RUS          Ford Focus     1.0    NaN\n58   O134HE197RUS          Ford Focus     1.0    NaN\n70   Y973O8197RUS          Ford Focus     2.0    NaN\n85   T395OT197RUS  Volkswagen Touareg     2.0    NaN\n99    T6449O50RUS          Ford Focus     2.0    NaN\n114  89587X197RUS        Toyota Camry     1.0    NaN\n134   Y234E877RUS          Ford Focus     1.0    NaN\n155  9402KK197RUS        Toyota Camry     2.0    NaN\n177  Y960EE197RUS       Skoda Octavia     1.0    NaN\n197  E42577152RUS          Ford Focus     2.0    NaN\n211  Y275O8197RUS          Ford Focus     1.0    NaN\n223  O77997197RUS          Ford Focus     2.0    NaN\n234  704987163RUS          Ford Focus     2.0    NaN\n260  C590EY154RUS          Ford Focus     2.0    NaN\n276  7369C8197RUS          Ford Focus     2.0    NaN\n300  9697MO178RUS     Volkswagen Golf     1.0    NaN\n326  H115YO163RUS          Ford Focus     1.0    NaN\n354  X504X8197RUS       Skoda Octavia     1.0    NaN\n368  8437XX154RUS          Ford Focus     1.0    NaN\n386   X782CO96RUS          Ford Focus     1.0    NaN\n405   X286TC36RUS          Ford Focus     2.0    NaN\n422  H977HY161RUS          Ford Focus     1.0    NaN\n423  7788KT197RUS          Ford Focus     2.0    NaN\n432  M0269X197RUS          Ford Focus     2.0    NaN\n453  O22297197RUS          Ford Focus     1.0    NaN\n478   T6319O50RUS          Ford Focus     2.0    NaN\n495  K339T8197RUS          Ford Focus     2.0    NaN\n511  E552MO152RUS          Ford Focus     1.0    NaN\n528   C514X938RUS          Ford Focus     2.0    NaN\n545  Y356O8197RUS          Ford Focus     2.0    NaN\n565  E773EH197RUS          Ford Focus     2.0    NaN\n582  Y687HM197RUS                 BMW     1.0    NaN\n600  9940KK197RUS          Ford Focus     1.0    NaN\n617  E0697X152RUS       Skoda Octavia     2.0    NaN\n637  K2797K154RUS          Ford Focus     1.0    NaN\n656  9589EY178RUS          Ford Focus     1.0    NaN\n677  T242H8197RUS       Skoda Octavia     2.0    NaN\n696  X4128H125RUS          Ford Focus     2.0    NaN\n723  O64097197RUS          Ford Focus     2.0    NaN\n748  7361C8197RUS          Ford Focus     1.0    NaN\n766  Y656E8750RUS       Skoda Octavia     1.0    NaN\n785  H387TM197RUS   Volkswagen Passat     1.0    NaN\n805  H957HY161RUS          Ford Focus     1.0    NaN\n826  90159H178RUS   Volkswagen Passat     1.0    NaN\n839  Y964EE197RUS          Ford Focus     2.0    NaN\n851  H232YH197RUS          Ford Focus     1.0    NaN\n881   Y7129Y50RUS          Ford Focus     1.0    NaN\n905  98087H178RUS          Ford Focus     1.0    NaN\n923  O718MM163RUS          Ford Focus     2.0    NaN\n930  H419XE197RUS      Toyota Corolla     2.0    NaN",
      "text/html": "<div>\n<style scoped>\n    .dataframe tbody tr th:only-of-type {\n        vertical-align: middle;\n    }\n\n    .dataframe tbody tr th {\n        vertical-align: top;\n    }\n\n    .dataframe thead th {\n        text-align: right;\n    }\n</style>\n<table border=\"1\" class=\"dataframe\">\n  <thead>\n    <tr style=\"text-align: right;\">\n      <th></th>\n      <th>CarNumber</th>\n      <th>Make_n_model</th>\n      <th>Refund</th>\n      <th>Fines</th>\n    </tr>\n    <tr>\n      <th>ID</th>\n      <th></th>\n      <th></th>\n      <th></th>\n      <th></th>\n    </tr>\n  </thead>\n  <tbody>\n    <tr>\n      <th>11</th>\n      <td>E40577152RUS</td>\n      <td>Ford Focus</td>\n      <td>1.0</td>\n      <td>NaN</td>\n    </tr>\n    <tr>\n      <th>14</th>\n      <td>X786CO96RUS</td>\n      <td>Ford Focus</td>\n      <td>1.0</td>\n      <td>NaN</td>\n    </tr>\n    <tr>\n      <th>17</th>\n      <td>M592CH197RUS</td>\n      <td>Skoda Octavia</td>\n      <td>2.0</td>\n      <td>NaN</td>\n    </tr>\n    <tr>\n      <th>20</th>\n      <td>7830C8197RUS</td>\n      <td>Ford Focus</td>\n      <td>2.0</td>\n      <td>NaN</td>\n    </tr>\n    <tr>\n      <th>23</th>\n      <td>M298CH161RUS</td>\n      <td>Ford Focus</td>\n      <td>2.0</td>\n      <td>NaN</td>\n    </tr>\n    <tr>\n      <th>26</th>\n      <td>E445TC197RUS</td>\n      <td>Ford Focus</td>\n      <td>1.0</td>\n      <td>NaN</td>\n    </tr>\n    <tr>\n      <th>28</th>\n      <td>9371CE154RUS</td>\n      <td>Skoda Octavia</td>\n      <td>2.0</td>\n      <td>NaN</td>\n    </tr>\n    <tr>\n      <th>32</th>\n      <td>83298C154RUS</td>\n      <td>Ford Focus</td>\n      <td>2.0</td>\n      <td>NaN</td>\n    </tr>\n    <tr>\n      <th>33</th>\n      <td>Y7659C197RUS</td>\n      <td>Ford Focus</td>\n      <td>2.0</td>\n      <td>NaN</td>\n    </tr>\n    <tr>\n      <th>37</th>\n      <td>7364C8197RUS</td>\n      <td>Ford Focus</td>\n      <td>2.0</td>\n      <td>NaN</td>\n    </tr>\n    <tr>\n      <th>43</th>\n      <td>92928M178RUS</td>\n      <td>Ford Focus</td>\n      <td>1.0</td>\n      <td>NaN</td>\n    </tr>\n    <tr>\n      <th>58</th>\n      <td>O134HE197RUS</td>\n      <td>Ford Focus</td>\n      <td>1.0</td>\n      <td>NaN</td>\n    </tr>\n    <tr>\n      <th>70</th>\n      <td>Y973O8197RUS</td>\n      <td>Ford Focus</td>\n      <td>2.0</td>\n      <td>NaN</td>\n    </tr>\n    <tr>\n      <th>85</th>\n      <td>T395OT197RUS</td>\n      <td>Volkswagen Touareg</td>\n      <td>2.0</td>\n      <td>NaN</td>\n    </tr>\n    <tr>\n      <th>99</th>\n      <td>T6449O50RUS</td>\n      <td>Ford Focus</td>\n      <td>2.0</td>\n      <td>NaN</td>\n    </tr>\n    <tr>\n      <th>114</th>\n      <td>89587X197RUS</td>\n      <td>Toyota Camry</td>\n      <td>1.0</td>\n      <td>NaN</td>\n    </tr>\n    <tr>\n      <th>134</th>\n      <td>Y234E877RUS</td>\n      <td>Ford Focus</td>\n      <td>1.0</td>\n      <td>NaN</td>\n    </tr>\n    <tr>\n      <th>155</th>\n      <td>9402KK197RUS</td>\n      <td>Toyota Camry</td>\n      <td>2.0</td>\n      <td>NaN</td>\n    </tr>\n    <tr>\n      <th>177</th>\n      <td>Y960EE197RUS</td>\n      <td>Skoda Octavia</td>\n      <td>1.0</td>\n      <td>NaN</td>\n    </tr>\n    <tr>\n      <th>197</th>\n      <td>E42577152RUS</td>\n      <td>Ford Focus</td>\n      <td>2.0</td>\n      <td>NaN</td>\n    </tr>\n    <tr>\n      <th>211</th>\n      <td>Y275O8197RUS</td>\n      <td>Ford Focus</td>\n      <td>1.0</td>\n      <td>NaN</td>\n    </tr>\n    <tr>\n      <th>223</th>\n      <td>O77997197RUS</td>\n      <td>Ford Focus</td>\n      <td>2.0</td>\n      <td>NaN</td>\n    </tr>\n    <tr>\n      <th>234</th>\n      <td>704987163RUS</td>\n      <td>Ford Focus</td>\n      <td>2.0</td>\n      <td>NaN</td>\n    </tr>\n    <tr>\n      <th>260</th>\n      <td>C590EY154RUS</td>\n      <td>Ford Focus</td>\n      <td>2.0</td>\n      <td>NaN</td>\n    </tr>\n    <tr>\n      <th>276</th>\n      <td>7369C8197RUS</td>\n      <td>Ford Focus</td>\n      <td>2.0</td>\n      <td>NaN</td>\n    </tr>\n    <tr>\n      <th>300</th>\n      <td>9697MO178RUS</td>\n      <td>Volkswagen Golf</td>\n      <td>1.0</td>\n      <td>NaN</td>\n    </tr>\n    <tr>\n      <th>326</th>\n      <td>H115YO163RUS</td>\n      <td>Ford Focus</td>\n      <td>1.0</td>\n      <td>NaN</td>\n    </tr>\n    <tr>\n      <th>354</th>\n      <td>X504X8197RUS</td>\n      <td>Skoda Octavia</td>\n      <td>1.0</td>\n      <td>NaN</td>\n    </tr>\n    <tr>\n      <th>368</th>\n      <td>8437XX154RUS</td>\n      <td>Ford Focus</td>\n      <td>1.0</td>\n      <td>NaN</td>\n    </tr>\n    <tr>\n      <th>386</th>\n      <td>X782CO96RUS</td>\n      <td>Ford Focus</td>\n      <td>1.0</td>\n      <td>NaN</td>\n    </tr>\n    <tr>\n      <th>405</th>\n      <td>X286TC36RUS</td>\n      <td>Ford Focus</td>\n      <td>2.0</td>\n      <td>NaN</td>\n    </tr>\n    <tr>\n      <th>422</th>\n      <td>H977HY161RUS</td>\n      <td>Ford Focus</td>\n      <td>1.0</td>\n      <td>NaN</td>\n    </tr>\n    <tr>\n      <th>423</th>\n      <td>7788KT197RUS</td>\n      <td>Ford Focus</td>\n      <td>2.0</td>\n      <td>NaN</td>\n    </tr>\n    <tr>\n      <th>432</th>\n      <td>M0269X197RUS</td>\n      <td>Ford Focus</td>\n      <td>2.0</td>\n      <td>NaN</td>\n    </tr>\n    <tr>\n      <th>453</th>\n      <td>O22297197RUS</td>\n      <td>Ford Focus</td>\n      <td>1.0</td>\n      <td>NaN</td>\n    </tr>\n    <tr>\n      <th>478</th>\n      <td>T6319O50RUS</td>\n      <td>Ford Focus</td>\n      <td>2.0</td>\n      <td>NaN</td>\n    </tr>\n    <tr>\n      <th>495</th>\n      <td>K339T8197RUS</td>\n      <td>Ford Focus</td>\n      <td>2.0</td>\n      <td>NaN</td>\n    </tr>\n    <tr>\n      <th>511</th>\n      <td>E552MO152RUS</td>\n      <td>Ford Focus</td>\n      <td>1.0</td>\n      <td>NaN</td>\n    </tr>\n    <tr>\n      <th>528</th>\n      <td>C514X938RUS</td>\n      <td>Ford Focus</td>\n      <td>2.0</td>\n      <td>NaN</td>\n    </tr>\n    <tr>\n      <th>545</th>\n      <td>Y356O8197RUS</td>\n      <td>Ford Focus</td>\n      <td>2.0</td>\n      <td>NaN</td>\n    </tr>\n    <tr>\n      <th>565</th>\n      <td>E773EH197RUS</td>\n      <td>Ford Focus</td>\n      <td>2.0</td>\n      <td>NaN</td>\n    </tr>\n    <tr>\n      <th>582</th>\n      <td>Y687HM197RUS</td>\n      <td>BMW</td>\n      <td>1.0</td>\n      <td>NaN</td>\n    </tr>\n    <tr>\n      <th>600</th>\n      <td>9940KK197RUS</td>\n      <td>Ford Focus</td>\n      <td>1.0</td>\n      <td>NaN</td>\n    </tr>\n    <tr>\n      <th>617</th>\n      <td>E0697X152RUS</td>\n      <td>Skoda Octavia</td>\n      <td>2.0</td>\n      <td>NaN</td>\n    </tr>\n    <tr>\n      <th>637</th>\n      <td>K2797K154RUS</td>\n      <td>Ford Focus</td>\n      <td>1.0</td>\n      <td>NaN</td>\n    </tr>\n    <tr>\n      <th>656</th>\n      <td>9589EY178RUS</td>\n      <td>Ford Focus</td>\n      <td>1.0</td>\n      <td>NaN</td>\n    </tr>\n    <tr>\n      <th>677</th>\n      <td>T242H8197RUS</td>\n      <td>Skoda Octavia</td>\n      <td>2.0</td>\n      <td>NaN</td>\n    </tr>\n    <tr>\n      <th>696</th>\n      <td>X4128H125RUS</td>\n      <td>Ford Focus</td>\n      <td>2.0</td>\n      <td>NaN</td>\n    </tr>\n    <tr>\n      <th>723</th>\n      <td>O64097197RUS</td>\n      <td>Ford Focus</td>\n      <td>2.0</td>\n      <td>NaN</td>\n    </tr>\n    <tr>\n      <th>748</th>\n      <td>7361C8197RUS</td>\n      <td>Ford Focus</td>\n      <td>1.0</td>\n      <td>NaN</td>\n    </tr>\n    <tr>\n      <th>766</th>\n      <td>Y656E8750RUS</td>\n      <td>Skoda Octavia</td>\n      <td>1.0</td>\n      <td>NaN</td>\n    </tr>\n    <tr>\n      <th>785</th>\n      <td>H387TM197RUS</td>\n      <td>Volkswagen Passat</td>\n      <td>1.0</td>\n      <td>NaN</td>\n    </tr>\n    <tr>\n      <th>805</th>\n      <td>H957HY161RUS</td>\n      <td>Ford Focus</td>\n      <td>1.0</td>\n      <td>NaN</td>\n    </tr>\n    <tr>\n      <th>826</th>\n      <td>90159H178RUS</td>\n      <td>Volkswagen Passat</td>\n      <td>1.0</td>\n      <td>NaN</td>\n    </tr>\n    <tr>\n      <th>839</th>\n      <td>Y964EE197RUS</td>\n      <td>Ford Focus</td>\n      <td>2.0</td>\n      <td>NaN</td>\n    </tr>\n    <tr>\n      <th>851</th>\n      <td>H232YH197RUS</td>\n      <td>Ford Focus</td>\n      <td>1.0</td>\n      <td>NaN</td>\n    </tr>\n    <tr>\n      <th>881</th>\n      <td>Y7129Y50RUS</td>\n      <td>Ford Focus</td>\n      <td>1.0</td>\n      <td>NaN</td>\n    </tr>\n    <tr>\n      <th>905</th>\n      <td>98087H178RUS</td>\n      <td>Ford Focus</td>\n      <td>1.0</td>\n      <td>NaN</td>\n    </tr>\n    <tr>\n      <th>923</th>\n      <td>O718MM163RUS</td>\n      <td>Ford Focus</td>\n      <td>2.0</td>\n      <td>NaN</td>\n    </tr>\n    <tr>\n      <th>930</th>\n      <td>H419XE197RUS</td>\n      <td>Toyota Corolla</td>\n      <td>2.0</td>\n      <td>NaN</td>\n    </tr>\n  </tbody>\n</table>\n</div>"
     },
     "execution_count": 97,
     "metadata": {},
     "output_type": "execute_result"
    }
   ],
   "source": [
    "data[data['Fines'].isnull()]"
   ],
   "metadata": {
    "collapsed": false
   }
  },
  {
   "cell_type": "code",
   "execution_count": 98,
   "outputs": [
    {
     "name": "stdout",
     "output_type": "stream",
     "text": [
      "Fines mean value:8594.586466165414\n",
      "values are missing:\n"
     ]
    },
    {
     "data": {
      "text/plain": "CarNumber       0\nMake_n_model    0\nRefund          0\nFines           0\ndtype: int64"
     },
     "execution_count": 98,
     "metadata": {},
     "output_type": "execute_result"
    }
   ],
   "source": [
    "fm = data['Fines'].mean()\n",
    "print(f\"Fines mean value:{fm}\")\n",
    "data['Fines'].fillna(fm, inplace=True)\n",
    "print(\"values are missing:\")\n",
    "data.isnull().sum()"
   ],
   "metadata": {
    "collapsed": false
   }
  },
  {
   "cell_type": "markdown",
   "source": [
    "## split and parse the make and model"
   ],
   "metadata": {
    "collapsed": false
   }
  },
  {
   "cell_type": "code",
   "execution_count": 99,
   "outputs": [],
   "source": [
    "data[[\"Make\", \"Model\"]] = data[\"Make_n_model\"].apply(lambda x: pd.Series(str(x).split(\" \")))\n",
    "data.drop([\"Make_n_model\"], axis=1, inplace=True)\n",
    "data.to_json (r'../data/auto.json', orient='records')"
   ],
   "metadata": {
    "collapsed": false
   }
  }
 ],
 "metadata": {
  "kernelspec": {
   "display_name": "Python 3",
   "language": "python",
   "name": "python3"
  },
  "language_info": {
   "codemirror_mode": {
    "name": "ipython",
    "version": 2
   },
   "file_extension": ".py",
   "mimetype": "text/x-python",
   "name": "python",
   "nbconvert_exporter": "python",
   "pygments_lexer": "ipython2",
   "version": "2.7.6"
  }
 },
 "nbformat": 4,
 "nbformat_minor": 0
}
