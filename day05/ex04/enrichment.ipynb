{
 "cells": [
  {
   "cell_type": "code",
   "execution_count": 228,
   "metadata": {
    "collapsed": true
   },
   "outputs": [],
   "source": [
    "import pandas as pd\n",
    "import numpy as np\n",
    "import requests"
   ]
  },
  {
   "cell_type": "markdown",
   "source": [
    "## read the JSON file that you saved in ex02"
   ],
   "metadata": {
    "collapsed": false
   }
  },
  {
   "cell_type": "code",
   "execution_count": 229,
   "outputs": [
    {
     "name": "stdout",
     "output_type": "stream",
     "text": [
      "        CarNumber  Refund    Fines    Make    Model\n",
      "0    Y163O8161RUS       2  3200.00    Ford    Focus\n",
      "1     E432XX77RUS       1  6500.00  Toyota    Camry\n",
      "2     7184TT36RUS       1  2100.00    Ford    Focus\n",
      "3    X582HE161RUS       2  2000.00    Ford    Focus\n",
      "4    92918M178RUS       1  5700.00    Ford    Focus\n",
      "..            ...     ...      ...     ...      ...\n",
      "720  Y163O8161RUS       2  1600.00    Ford    Focus\n",
      "721  M0309X197RUS       1 22300.00    Ford    Focus\n",
      "722  O673E8197RUS       2   600.00    Ford    Focus\n",
      "723  8610T8154RUS       1  2000.00    Ford    Focus\n",
      "724  H419XE197RUS       2  8594.59  Toyota  Corolla\n",
      "\n",
      "[725 rows x 5 columns]\n"
     ]
    }
   ],
   "source": [
    "pd.set_option(\"display.float_format\", '{:.2f}'.format)\n",
    "data = pd.DataFrame\n",
    "try:\n",
    "    data = pd.read_json(\"../data/auto.json\", orient='records')\n",
    "    print(data)\n",
    "except IOError as e:\n",
    "    print(e)\n",
    "    quit(1)"
   ],
   "metadata": {
    "collapsed": false
   }
  },
  {
   "cell_type": "markdown",
   "source": [
    "## enrich the dataframe using a sample from that dataframe"
   ],
   "metadata": {
    "collapsed": false
   }
  },
  {
   "cell_type": "code",
   "execution_count": 230,
   "outputs": [
    {
     "name": "stdout",
     "output_type": "stream",
     "text": [
      "        CarNumber  Refund    Fines        Make   Model\n",
      "445  M0299X197RUS       1  3000.00        Ford   Focus\n",
      "22   83298C154RUS       2   900.00        Ford   Focus\n",
      "93   H957HY161RUS       1  3500.00        Ford   Focus\n",
      "173   T941CC96RUS       2   800.00        Ford   Focus\n",
      "697  H966HY161RUS       2  1000.00        Ford   Focus\n",
      "..            ...     ...      ...         ...     ...\n",
      "14   8182XX154RUS       2  7000.00        Ford   Focus\n",
      "623   X796TH96RUS       2  7400.00        Ford   Focus\n",
      "498  T011MY163RUS       2 17000.00        Ford   Focus\n",
      "536   T341CC96RUS       2  2200.00  Volkswagen  Passat\n",
      "520   T119CT96RUS       2  4000.00        Ford   Focus\n",
      "\n",
      "[200 rows x 5 columns]\n"
     ]
    }
   ],
   "source": [
    "smpl = data.sample(n=200, random_state=21)\n",
    "smpl['Fines'] = data['Fines'].sample(n=200, random_state=np.random.RandomState()).values\n",
    "smpl['Refund'] = data['Refund'].sample(n=200, random_state=np.random.RandomState()).values\n",
    "print(smpl)"
   ],
   "metadata": {
    "collapsed": false
   }
  },
  {
   "cell_type": "code",
   "execution_count": 231,
   "outputs": [
    {
     "name": "stdout",
     "output_type": "stream",
     "text": [
      "        CarNumber  Refund    Fines        Make   Model\n",
      "0    Y163O8161RUS       2  3200.00        Ford   Focus\n",
      "1     E432XX77RUS       1  6500.00      Toyota   Camry\n",
      "2     7184TT36RUS       1  2100.00        Ford   Focus\n",
      "3    X582HE161RUS       2  2000.00        Ford   Focus\n",
      "4    92918M178RUS       1  5700.00        Ford   Focus\n",
      "..            ...     ...      ...         ...     ...\n",
      "920  8182XX154RUS       2  7000.00        Ford   Focus\n",
      "921   X796TH96RUS       2  7400.00        Ford   Focus\n",
      "922  T011MY163RUS       2 17000.00        Ford   Focus\n",
      "923   T341CC96RUS       2  2200.00  Volkswagen  Passat\n",
      "924   T119CT96RUS       2  4000.00        Ford   Focus\n",
      "\n",
      "[925 rows x 5 columns]\n"
     ]
    }
   ],
   "source": [
    "concat_rows = pd.concat([data, smpl])\n",
    "concat_rows.reset_index(drop=True, inplace=True)\n",
    "print(concat_rows)"
   ],
   "metadata": {
    "collapsed": false
   }
  },
  {
   "cell_type": "markdown",
   "source": [
    "## enrich the dataframe concat_rows by a new column with the data generated"
   ],
   "metadata": {
    "collapsed": false
   }
  },
  {
   "cell_type": "code",
   "execution_count": 232,
   "outputs": [
    {
     "name": "stdout",
     "output_type": "stream",
     "text": [
      "        CarNumber  Refund    Fines        Make   Model  Year\n",
      "0    Y163O8161RUS       2  3200.00        Ford   Focus  1989\n",
      "1     E432XX77RUS       1  6500.00      Toyota   Camry  1995\n",
      "2     7184TT36RUS       1  2100.00        Ford   Focus  1984\n",
      "3    X582HE161RUS       2  2000.00        Ford   Focus  2015\n",
      "4    92918M178RUS       1  5700.00        Ford   Focus  2014\n",
      "..            ...     ...      ...         ...     ...   ...\n",
      "920  8182XX154RUS       2  7000.00        Ford   Focus  1981\n",
      "921   X796TH96RUS       2  7400.00        Ford   Focus  1992\n",
      "922  T011MY163RUS       2 17000.00        Ford   Focus  2007\n",
      "923   T341CC96RUS       2  2200.00  Volkswagen  Passat  2005\n",
      "924   T119CT96RUS       2  4000.00        Ford   Focus  1997\n",
      "\n",
      "[925 rows x 6 columns]\n"
     ]
    }
   ],
   "source": [
    "np.random.seed(21)\n",
    "s = pd.Series(np.random.randint(1980, 2020, (len(concat_rows))), dtype='int', name='Year')\n",
    "fines = pd.concat([concat_rows,s],axis=1)\n",
    "print(fines)"
   ],
   "metadata": {
    "collapsed": false
   }
  },
  {
   "cell_type": "markdown",
   "source": [
    "## enrich the dataframe with the data from another dataframe"
   ],
   "metadata": {
    "collapsed": false
   }
  },
  {
   "cell_type": "code",
   "execution_count": 233,
   "outputs": [],
   "source": [
    "url = \"https://projects.intra.42.fr/uploads/document/document/8786/surname.json\"\n",
    "headers = {\n",
    "        'User-Agent': 'Mozilla/5.0 (Windows NT 6.1; WOW64) AppleWebKit/537.36 (KHTML, like Gecko) Chrome/32.0.1700.107 Safari/537.36'}\n",
    "r = requests.models.Response\n",
    "try:\n",
    "    r = requests.get(url, headers=headers)\n",
    "    r.raise_for_status()\n",
    "    sn = pd.DataFrame.from_records(r.json())\n",
    "    nh = sn.iloc[0]\n",
    "    sn = sn[1:]\n",
    "    sn.columns = nh\n",
    "except requests.RequestException as e:\n",
    "    print(f\"Exception: {e}\")\n",
    "    quit(1)\n",
    "except requests.JSONDecodeError as e:\n",
    "    print(f\"Exception: {e}\")\n",
    "    quit(2)\n",
    "cars = pd.Series(fines.CarNumber.unique()).rename('CarNumber')\n",
    "surnames = sn.NAME.sample(n=len(cars), random_state=21, replace=True, ignore_index=True).rename('SURNAME')\n",
    "owners = pd.concat([cars, surnames], axis=1)\n",
    "dict1 = {\"CarNumber\": [\"Y163O8160RUS\", \"9184UT36RUS\", \"PY316E877RUS\", \"Y318P876RUS\", \"O05T8196RUS\"],\n",
    "        \"Refund\": [2, 1, 3, 1, 2],\n",
    "        \"Fines\": [2300.00, 4500.00, 3600.00, 500.00, 1100.00],\n",
    "        \"Make\": [\"Renault\", \"Opel\", \"Hyundai\", \"Dodge\", \"Nissan\"],\n",
    "        \"Model\": [\"Logan\", \"Astra\", \"Solaris\", \"Viper\", \"GT-X\"],\n",
    "        \"Year\": [2006, 2003, 2010, 2007, 2015]}\n",
    "new_obs1 = pd.DataFrame(dict1)\n",
    "fines = pd.concat([fines, new_obs1], axis=0, ignore_index=True)\n",
    "owners.drop(labels=range(len(owners) - 20, len(owners)), axis=0, inplace=True)\n",
    "dict2 = {\"CarNumber\": [\"U761HY137RUS\", \"2367J8147RUS\", \"A0306X159RUS\"],\n",
    "         \"SURNAME\": [\"BAKER\", \"LONG\", \"KING\"]}\n",
    "new_obs2 = pd.DataFrame(dict2)\n",
    "owners = pd.concat([owners, new_obs2], axis=0, ignore_index=True)"
   ],
   "metadata": {
    "collapsed": false
   }
  },
  {
   "cell_type": "code",
   "execution_count": 234,
   "outputs": [
    {
     "name": "stdout",
     "output_type": "stream",
     "text": [
      "dataframe should have only the car numbers that exist in both dataframes:\n"
     ]
    },
    {
     "data": {
      "text/plain": "        CarNumber  Refund    Fines    Make    Model  Year     SURNAME\n0    Y163O8161RUS       2  3200.00    Ford    Focus  1989  RICHARDSON\n1    Y163O8161RUS       2  1600.00    Ford    Focus  1980  RICHARDSON\n2     E432XX77RUS       1  6500.00  Toyota    Camry  1995        ROSS\n3     E432XX77RUS       2 13000.00  Toyota    Camry  2018        ROSS\n4     7184TT36RUS       1  2100.00    Ford    Focus  1984      MORGAN\n..            ...     ...      ...     ...      ...   ...         ...\n894  E41977152RUS       2  2400.00    Ford    Focus  1989       BAKER\n895  9464EX178RUS       2  2100.00    Ford    Focus  1988      MARTIN\n896  O50197197RUS       2  7800.00    Ford    Focus  1992      WRIGHT\n897  7608EE777RUS       1  4000.00   Skoda  Octavia  2000        HILL\n898  7608EE777RUS       1   300.00   Skoda  Octavia  1991        HILL\n\n[899 rows x 7 columns]",
      "text/html": "<div>\n<style scoped>\n    .dataframe tbody tr th:only-of-type {\n        vertical-align: middle;\n    }\n\n    .dataframe tbody tr th {\n        vertical-align: top;\n    }\n\n    .dataframe thead th {\n        text-align: right;\n    }\n</style>\n<table border=\"1\" class=\"dataframe\">\n  <thead>\n    <tr style=\"text-align: right;\">\n      <th></th>\n      <th>CarNumber</th>\n      <th>Refund</th>\n      <th>Fines</th>\n      <th>Make</th>\n      <th>Model</th>\n      <th>Year</th>\n      <th>SURNAME</th>\n    </tr>\n  </thead>\n  <tbody>\n    <tr>\n      <th>0</th>\n      <td>Y163O8161RUS</td>\n      <td>2</td>\n      <td>3200.00</td>\n      <td>Ford</td>\n      <td>Focus</td>\n      <td>1989</td>\n      <td>RICHARDSON</td>\n    </tr>\n    <tr>\n      <th>1</th>\n      <td>Y163O8161RUS</td>\n      <td>2</td>\n      <td>1600.00</td>\n      <td>Ford</td>\n      <td>Focus</td>\n      <td>1980</td>\n      <td>RICHARDSON</td>\n    </tr>\n    <tr>\n      <th>2</th>\n      <td>E432XX77RUS</td>\n      <td>1</td>\n      <td>6500.00</td>\n      <td>Toyota</td>\n      <td>Camry</td>\n      <td>1995</td>\n      <td>ROSS</td>\n    </tr>\n    <tr>\n      <th>3</th>\n      <td>E432XX77RUS</td>\n      <td>2</td>\n      <td>13000.00</td>\n      <td>Toyota</td>\n      <td>Camry</td>\n      <td>2018</td>\n      <td>ROSS</td>\n    </tr>\n    <tr>\n      <th>4</th>\n      <td>7184TT36RUS</td>\n      <td>1</td>\n      <td>2100.00</td>\n      <td>Ford</td>\n      <td>Focus</td>\n      <td>1984</td>\n      <td>MORGAN</td>\n    </tr>\n    <tr>\n      <th>...</th>\n      <td>...</td>\n      <td>...</td>\n      <td>...</td>\n      <td>...</td>\n      <td>...</td>\n      <td>...</td>\n      <td>...</td>\n    </tr>\n    <tr>\n      <th>894</th>\n      <td>E41977152RUS</td>\n      <td>2</td>\n      <td>2400.00</td>\n      <td>Ford</td>\n      <td>Focus</td>\n      <td>1989</td>\n      <td>BAKER</td>\n    </tr>\n    <tr>\n      <th>895</th>\n      <td>9464EX178RUS</td>\n      <td>2</td>\n      <td>2100.00</td>\n      <td>Ford</td>\n      <td>Focus</td>\n      <td>1988</td>\n      <td>MARTIN</td>\n    </tr>\n    <tr>\n      <th>896</th>\n      <td>O50197197RUS</td>\n      <td>2</td>\n      <td>7800.00</td>\n      <td>Ford</td>\n      <td>Focus</td>\n      <td>1992</td>\n      <td>WRIGHT</td>\n    </tr>\n    <tr>\n      <th>897</th>\n      <td>7608EE777RUS</td>\n      <td>1</td>\n      <td>4000.00</td>\n      <td>Skoda</td>\n      <td>Octavia</td>\n      <td>2000</td>\n      <td>HILL</td>\n    </tr>\n    <tr>\n      <th>898</th>\n      <td>7608EE777RUS</td>\n      <td>1</td>\n      <td>300.00</td>\n      <td>Skoda</td>\n      <td>Octavia</td>\n      <td>1991</td>\n      <td>HILL</td>\n    </tr>\n  </tbody>\n</table>\n<p>899 rows × 7 columns</p>\n</div>"
     },
     "execution_count": 234,
     "metadata": {},
     "output_type": "execute_result"
    }
   ],
   "source": [
    "print(\"dataframe should have only the car numbers that exist in both dataframes:\")\n",
    "merge1 = pd.merge(fines,owners,on='CarNumber', how='inner')\n",
    "merge1"
   ],
   "metadata": {
    "collapsed": false
   }
  },
  {
   "cell_type": "code",
   "execution_count": 235,
   "outputs": [
    {
     "name": "stdout",
     "output_type": "stream",
     "text": [
      "dataframe should have all the car numbers that exist in both dataframes:\n"
     ]
    },
    {
     "data": {
      "text/plain": "        CarNumber  Refund    Fines    Make  Model    Year     SURNAME\n0    Y163O8161RUS    2.00  3200.00    Ford  Focus 1989.00  RICHARDSON\n1    Y163O8161RUS    2.00  1600.00    Ford  Focus 1980.00  RICHARDSON\n2     E432XX77RUS    1.00  6500.00  Toyota  Camry 1995.00        ROSS\n3     E432XX77RUS    2.00 13000.00  Toyota  Camry 2018.00        ROSS\n4     7184TT36RUS    1.00  2100.00    Ford  Focus 1984.00      MORGAN\n..            ...     ...      ...     ...    ...     ...         ...\n928   Y318P876RUS    1.00   500.00   Dodge  Viper 2007.00         NaN\n929   O05T8196RUS    2.00  1100.00  Nissan   GT-X 2015.00         NaN\n930  U761HY137RUS     NaN      NaN     NaN    NaN     NaN       BAKER\n931  2367J8147RUS     NaN      NaN     NaN    NaN     NaN        LONG\n932  A0306X159RUS     NaN      NaN     NaN    NaN     NaN        KING\n\n[933 rows x 7 columns]",
      "text/html": "<div>\n<style scoped>\n    .dataframe tbody tr th:only-of-type {\n        vertical-align: middle;\n    }\n\n    .dataframe tbody tr th {\n        vertical-align: top;\n    }\n\n    .dataframe thead th {\n        text-align: right;\n    }\n</style>\n<table border=\"1\" class=\"dataframe\">\n  <thead>\n    <tr style=\"text-align: right;\">\n      <th></th>\n      <th>CarNumber</th>\n      <th>Refund</th>\n      <th>Fines</th>\n      <th>Make</th>\n      <th>Model</th>\n      <th>Year</th>\n      <th>SURNAME</th>\n    </tr>\n  </thead>\n  <tbody>\n    <tr>\n      <th>0</th>\n      <td>Y163O8161RUS</td>\n      <td>2.00</td>\n      <td>3200.00</td>\n      <td>Ford</td>\n      <td>Focus</td>\n      <td>1989.00</td>\n      <td>RICHARDSON</td>\n    </tr>\n    <tr>\n      <th>1</th>\n      <td>Y163O8161RUS</td>\n      <td>2.00</td>\n      <td>1600.00</td>\n      <td>Ford</td>\n      <td>Focus</td>\n      <td>1980.00</td>\n      <td>RICHARDSON</td>\n    </tr>\n    <tr>\n      <th>2</th>\n      <td>E432XX77RUS</td>\n      <td>1.00</td>\n      <td>6500.00</td>\n      <td>Toyota</td>\n      <td>Camry</td>\n      <td>1995.00</td>\n      <td>ROSS</td>\n    </tr>\n    <tr>\n      <th>3</th>\n      <td>E432XX77RUS</td>\n      <td>2.00</td>\n      <td>13000.00</td>\n      <td>Toyota</td>\n      <td>Camry</td>\n      <td>2018.00</td>\n      <td>ROSS</td>\n    </tr>\n    <tr>\n      <th>4</th>\n      <td>7184TT36RUS</td>\n      <td>1.00</td>\n      <td>2100.00</td>\n      <td>Ford</td>\n      <td>Focus</td>\n      <td>1984.00</td>\n      <td>MORGAN</td>\n    </tr>\n    <tr>\n      <th>...</th>\n      <td>...</td>\n      <td>...</td>\n      <td>...</td>\n      <td>...</td>\n      <td>...</td>\n      <td>...</td>\n      <td>...</td>\n    </tr>\n    <tr>\n      <th>928</th>\n      <td>Y318P876RUS</td>\n      <td>1.00</td>\n      <td>500.00</td>\n      <td>Dodge</td>\n      <td>Viper</td>\n      <td>2007.00</td>\n      <td>NaN</td>\n    </tr>\n    <tr>\n      <th>929</th>\n      <td>O05T8196RUS</td>\n      <td>2.00</td>\n      <td>1100.00</td>\n      <td>Nissan</td>\n      <td>GT-X</td>\n      <td>2015.00</td>\n      <td>NaN</td>\n    </tr>\n    <tr>\n      <th>930</th>\n      <td>U761HY137RUS</td>\n      <td>NaN</td>\n      <td>NaN</td>\n      <td>NaN</td>\n      <td>NaN</td>\n      <td>NaN</td>\n      <td>BAKER</td>\n    </tr>\n    <tr>\n      <th>931</th>\n      <td>2367J8147RUS</td>\n      <td>NaN</td>\n      <td>NaN</td>\n      <td>NaN</td>\n      <td>NaN</td>\n      <td>NaN</td>\n      <td>LONG</td>\n    </tr>\n    <tr>\n      <th>932</th>\n      <td>A0306X159RUS</td>\n      <td>NaN</td>\n      <td>NaN</td>\n      <td>NaN</td>\n      <td>NaN</td>\n      <td>NaN</td>\n      <td>KING</td>\n    </tr>\n  </tbody>\n</table>\n<p>933 rows × 7 columns</p>\n</div>"
     },
     "execution_count": 235,
     "metadata": {},
     "output_type": "execute_result"
    }
   ],
   "source": [
    "print(\"dataframe should have all the car numbers that exist in both dataframes:\")\n",
    "merge2 =  pd.merge(fines,owners,on='CarNumber', how='outer')\n",
    "merge2"
   ],
   "metadata": {
    "collapsed": false
   }
  },
  {
   "cell_type": "code",
   "execution_count": 236,
   "outputs": [
    {
     "name": "stdout",
     "output_type": "stream",
     "text": [
      "dataframe should have only the car numbers from the fines dataframe:\n"
     ]
    },
    {
     "data": {
      "text/plain": "        CarNumber  Refund   Fines     Make    Model  Year     SURNAME\n0    Y163O8161RUS       2 3200.00     Ford    Focus  1989  RICHARDSON\n1     E432XX77RUS       1 6500.00   Toyota    Camry  1995        ROSS\n2     7184TT36RUS       1 2100.00     Ford    Focus  1984      MORGAN\n3    X582HE161RUS       2 2000.00     Ford    Focus  2015      BAILEY\n4    92918M178RUS       1 5700.00     Ford    Focus  2014       LOPEZ\n..            ...     ...     ...      ...      ...   ...         ...\n925  Y163O8160RUS       2 2300.00  Renault    Logan  2006         NaN\n926   9184UT36RUS       1 4500.00     Opel    Astra  2003         NaN\n927  PY316E877RUS       3 3600.00  Hyundai  Solaris  2010         NaN\n928   Y318P876RUS       1  500.00    Dodge    Viper  2007         NaN\n929   O05T8196RUS       2 1100.00   Nissan     GT-X  2015         NaN\n\n[930 rows x 7 columns]",
      "text/html": "<div>\n<style scoped>\n    .dataframe tbody tr th:only-of-type {\n        vertical-align: middle;\n    }\n\n    .dataframe tbody tr th {\n        vertical-align: top;\n    }\n\n    .dataframe thead th {\n        text-align: right;\n    }\n</style>\n<table border=\"1\" class=\"dataframe\">\n  <thead>\n    <tr style=\"text-align: right;\">\n      <th></th>\n      <th>CarNumber</th>\n      <th>Refund</th>\n      <th>Fines</th>\n      <th>Make</th>\n      <th>Model</th>\n      <th>Year</th>\n      <th>SURNAME</th>\n    </tr>\n  </thead>\n  <tbody>\n    <tr>\n      <th>0</th>\n      <td>Y163O8161RUS</td>\n      <td>2</td>\n      <td>3200.00</td>\n      <td>Ford</td>\n      <td>Focus</td>\n      <td>1989</td>\n      <td>RICHARDSON</td>\n    </tr>\n    <tr>\n      <th>1</th>\n      <td>E432XX77RUS</td>\n      <td>1</td>\n      <td>6500.00</td>\n      <td>Toyota</td>\n      <td>Camry</td>\n      <td>1995</td>\n      <td>ROSS</td>\n    </tr>\n    <tr>\n      <th>2</th>\n      <td>7184TT36RUS</td>\n      <td>1</td>\n      <td>2100.00</td>\n      <td>Ford</td>\n      <td>Focus</td>\n      <td>1984</td>\n      <td>MORGAN</td>\n    </tr>\n    <tr>\n      <th>3</th>\n      <td>X582HE161RUS</td>\n      <td>2</td>\n      <td>2000.00</td>\n      <td>Ford</td>\n      <td>Focus</td>\n      <td>2015</td>\n      <td>BAILEY</td>\n    </tr>\n    <tr>\n      <th>4</th>\n      <td>92918M178RUS</td>\n      <td>1</td>\n      <td>5700.00</td>\n      <td>Ford</td>\n      <td>Focus</td>\n      <td>2014</td>\n      <td>LOPEZ</td>\n    </tr>\n    <tr>\n      <th>...</th>\n      <td>...</td>\n      <td>...</td>\n      <td>...</td>\n      <td>...</td>\n      <td>...</td>\n      <td>...</td>\n      <td>...</td>\n    </tr>\n    <tr>\n      <th>925</th>\n      <td>Y163O8160RUS</td>\n      <td>2</td>\n      <td>2300.00</td>\n      <td>Renault</td>\n      <td>Logan</td>\n      <td>2006</td>\n      <td>NaN</td>\n    </tr>\n    <tr>\n      <th>926</th>\n      <td>9184UT36RUS</td>\n      <td>1</td>\n      <td>4500.00</td>\n      <td>Opel</td>\n      <td>Astra</td>\n      <td>2003</td>\n      <td>NaN</td>\n    </tr>\n    <tr>\n      <th>927</th>\n      <td>PY316E877RUS</td>\n      <td>3</td>\n      <td>3600.00</td>\n      <td>Hyundai</td>\n      <td>Solaris</td>\n      <td>2010</td>\n      <td>NaN</td>\n    </tr>\n    <tr>\n      <th>928</th>\n      <td>Y318P876RUS</td>\n      <td>1</td>\n      <td>500.00</td>\n      <td>Dodge</td>\n      <td>Viper</td>\n      <td>2007</td>\n      <td>NaN</td>\n    </tr>\n    <tr>\n      <th>929</th>\n      <td>O05T8196RUS</td>\n      <td>2</td>\n      <td>1100.00</td>\n      <td>Nissan</td>\n      <td>GT-X</td>\n      <td>2015</td>\n      <td>NaN</td>\n    </tr>\n  </tbody>\n</table>\n<p>930 rows × 7 columns</p>\n</div>"
     },
     "execution_count": 236,
     "metadata": {},
     "output_type": "execute_result"
    }
   ],
   "source": [
    "print(\"dataframe should have only the car numbers from the fines dataframe:\")\n",
    "merge3 = pd.merge(fines, owners, on='CarNumber', how='left')\n",
    "merge3"
   ],
   "metadata": {
    "collapsed": false
   }
  },
  {
   "cell_type": "code",
   "execution_count": 237,
   "outputs": [
    {
     "name": "stdout",
     "output_type": "stream",
     "text": [
      "dataframe should have only the car numbers from the owners dataframe:\n"
     ]
    },
    {
     "data": {
      "text/plain": "        CarNumber  Refund    Fines    Make    Model    Year     SURNAME\n0    Y163O8161RUS    2.00  3200.00    Ford    Focus 1989.00  RICHARDSON\n1    Y163O8161RUS    2.00  1600.00    Ford    Focus 1980.00  RICHARDSON\n2     E432XX77RUS    1.00  6500.00  Toyota    Camry 1995.00        ROSS\n3     E432XX77RUS    2.00 13000.00  Toyota    Camry 2018.00        ROSS\n4     7184TT36RUS    1.00  2100.00    Ford    Focus 1984.00      MORGAN\n..            ...     ...      ...     ...      ...     ...         ...\n897  7608EE777RUS    1.00  4000.00   Skoda  Octavia 2000.00        HILL\n898  7608EE777RUS    1.00   300.00   Skoda  Octavia 1991.00        HILL\n899  U761HY137RUS     NaN      NaN     NaN      NaN     NaN       BAKER\n900  2367J8147RUS     NaN      NaN     NaN      NaN     NaN        LONG\n901  A0306X159RUS     NaN      NaN     NaN      NaN     NaN        KING\n\n[902 rows x 7 columns]",
      "text/html": "<div>\n<style scoped>\n    .dataframe tbody tr th:only-of-type {\n        vertical-align: middle;\n    }\n\n    .dataframe tbody tr th {\n        vertical-align: top;\n    }\n\n    .dataframe thead th {\n        text-align: right;\n    }\n</style>\n<table border=\"1\" class=\"dataframe\">\n  <thead>\n    <tr style=\"text-align: right;\">\n      <th></th>\n      <th>CarNumber</th>\n      <th>Refund</th>\n      <th>Fines</th>\n      <th>Make</th>\n      <th>Model</th>\n      <th>Year</th>\n      <th>SURNAME</th>\n    </tr>\n  </thead>\n  <tbody>\n    <tr>\n      <th>0</th>\n      <td>Y163O8161RUS</td>\n      <td>2.00</td>\n      <td>3200.00</td>\n      <td>Ford</td>\n      <td>Focus</td>\n      <td>1989.00</td>\n      <td>RICHARDSON</td>\n    </tr>\n    <tr>\n      <th>1</th>\n      <td>Y163O8161RUS</td>\n      <td>2.00</td>\n      <td>1600.00</td>\n      <td>Ford</td>\n      <td>Focus</td>\n      <td>1980.00</td>\n      <td>RICHARDSON</td>\n    </tr>\n    <tr>\n      <th>2</th>\n      <td>E432XX77RUS</td>\n      <td>1.00</td>\n      <td>6500.00</td>\n      <td>Toyota</td>\n      <td>Camry</td>\n      <td>1995.00</td>\n      <td>ROSS</td>\n    </tr>\n    <tr>\n      <th>3</th>\n      <td>E432XX77RUS</td>\n      <td>2.00</td>\n      <td>13000.00</td>\n      <td>Toyota</td>\n      <td>Camry</td>\n      <td>2018.00</td>\n      <td>ROSS</td>\n    </tr>\n    <tr>\n      <th>4</th>\n      <td>7184TT36RUS</td>\n      <td>1.00</td>\n      <td>2100.00</td>\n      <td>Ford</td>\n      <td>Focus</td>\n      <td>1984.00</td>\n      <td>MORGAN</td>\n    </tr>\n    <tr>\n      <th>...</th>\n      <td>...</td>\n      <td>...</td>\n      <td>...</td>\n      <td>...</td>\n      <td>...</td>\n      <td>...</td>\n      <td>...</td>\n    </tr>\n    <tr>\n      <th>897</th>\n      <td>7608EE777RUS</td>\n      <td>1.00</td>\n      <td>4000.00</td>\n      <td>Skoda</td>\n      <td>Octavia</td>\n      <td>2000.00</td>\n      <td>HILL</td>\n    </tr>\n    <tr>\n      <th>898</th>\n      <td>7608EE777RUS</td>\n      <td>1.00</td>\n      <td>300.00</td>\n      <td>Skoda</td>\n      <td>Octavia</td>\n      <td>1991.00</td>\n      <td>HILL</td>\n    </tr>\n    <tr>\n      <th>899</th>\n      <td>U761HY137RUS</td>\n      <td>NaN</td>\n      <td>NaN</td>\n      <td>NaN</td>\n      <td>NaN</td>\n      <td>NaN</td>\n      <td>BAKER</td>\n    </tr>\n    <tr>\n      <th>900</th>\n      <td>2367J8147RUS</td>\n      <td>NaN</td>\n      <td>NaN</td>\n      <td>NaN</td>\n      <td>NaN</td>\n      <td>NaN</td>\n      <td>LONG</td>\n    </tr>\n    <tr>\n      <th>901</th>\n      <td>A0306X159RUS</td>\n      <td>NaN</td>\n      <td>NaN</td>\n      <td>NaN</td>\n      <td>NaN</td>\n      <td>NaN</td>\n      <td>KING</td>\n    </tr>\n  </tbody>\n</table>\n<p>902 rows × 7 columns</p>\n</div>"
     },
     "execution_count": 237,
     "metadata": {},
     "output_type": "execute_result"
    }
   ],
   "source": [
    "print(\"dataframe should have only the car numbers from the owners dataframe:\")\n",
    "merge4 = pd.merge(fines, owners, on='CarNumber', how='right')\n",
    "merge4"
   ],
   "metadata": {
    "collapsed": false
   }
  },
  {
   "cell_type": "markdown",
   "source": [
    "## create a pivot table from the fines dataframe, it should look like this (the values are the sums of the fines), but with all the years (the values may be different for you)"
   ],
   "metadata": {
    "collapsed": false
   }
  },
  {
   "cell_type": "code",
   "execution_count": 238,
   "outputs": [
    {
     "data": {
      "text/plain": "                       Fines                                                   \\\nYear                    1980      1981      1982     1983      1984      1985   \nMake       Model                                                                \nDodge      Viper         nan       nan       nan      nan       nan       nan   \nFord       Focus   222094.59 415089.17 152883.76 80294.59 117389.17 123983.76   \n           Mondeo        nan       nan       nan      nan       nan       nan   \nHyundai    Solaris       nan       nan       nan      nan       nan       nan   \nNissan     GT-X          nan       nan       nan      nan       nan       nan   \nOpel       Astra         nan       nan       nan      nan       nan       nan   \nRenault    Logan         nan       nan       nan      nan       nan       nan   \nSkoda      Octavia  10494.59       nan  16900.00 11594.59       nan  10294.59   \nToyota     Camry    12000.00   8594.59       nan  7200.00       nan       nan   \n           Corolla       nan       nan   2000.00      nan       nan       nan   \nVolkswagen Golf     30900.00       nan       nan  8594.59    300.00  24000.00   \n           Jetta         nan       nan       nan      nan       nan       nan   \n           Passat        nan   1600.00       nan  3200.00  10000.00   5000.00   \n           Touareg       nan       nan       nan      nan       nan   5800.00   \n\n                                                          ...            \\\nYear                   1986      1987      1988     1989  ...      2010   \nMake       Model                                          ...             \nDodge      Viper        nan       nan       nan      nan  ...       nan   \nFord       Focus   90894.59 254894.59 112894.59 75194.59  ... 138689.17   \n           Mondeo       nan       nan       nan  8600.00  ...       nan   \nHyundai    Solaris      nan       nan       nan      nan  ...   3600.00   \nNissan     GT-X         nan       nan       nan      nan  ...       nan   \nOpel       Astra        nan       nan       nan      nan  ...       nan   \nRenault    Logan        nan       nan       nan      nan  ...       nan   \nSkoda      Octavia   600.00   5200.00  18100.00 91400.00  ...   3100.00   \nToyota     Camry        nan       nan       nan 22400.00  ...       nan   \n           Corolla      nan  15600.00       nan  4000.00  ...  24000.00   \nVolkswagen Golf         nan  12800.00       nan  5800.00  ...       nan   \n           Jetta        nan       nan       nan      nan  ...       nan   \n           Passat  15000.00  12300.00       nan      nan  ...   2800.00   \n           Touareg      nan       nan       nan      nan  ...   6300.00   \n\n                                                                               \\\nYear                    2011      2012      2013      2014      2015     2016   \nMake       Model                                                                \nDodge      Viper         nan       nan       nan       nan       nan      nan   \nFord       Focus   142289.17 111900.00 304889.17 122294.59 217300.00 86394.59   \n           Mondeo        nan  34400.00       nan       nan       nan 46200.00   \nHyundai    Solaris       nan       nan       nan       nan       nan      nan   \nNissan     GT-X          nan       nan       nan       nan   1100.00      nan   \nOpel       Astra         nan       nan       nan       nan       nan      nan   \nRenault    Logan         nan       nan       nan       nan       nan      nan   \nSkoda      Octavia    500.00    500.00  12594.59    300.00  46394.59   300.00   \nToyota     Camry         nan   8594.59       nan  39600.00       nan      nan   \n           Corolla   8594.59   8594.59       nan       nan       nan 10600.00   \nVolkswagen Golf       300.00       nan   2200.00       nan   2300.00      nan   \n           Jetta         nan       nan       nan       nan       nan      nan   \n           Passat        nan       nan       nan       nan    600.00  2100.00   \n           Touareg       nan       nan       nan   1300.00    500.00      nan   \n\n                                                  \nYear                    2017      2018      2019  \nMake       Model                                  \nDodge      Viper         nan       nan       nan  \nFord       Focus   254100.00 273094.59 106900.00  \n           Mondeo        nan       nan       nan  \nHyundai    Solaris       nan       nan       nan  \nNissan     GT-X          nan       nan       nan  \nOpel       Astra         nan       nan       nan  \nRenault    Logan         nan       nan       nan  \nSkoda      Octavia   4500.00 156200.00   9500.00  \nToyota     Camry         nan  31400.00  18100.00  \n           Corolla   9600.00   8594.59       nan  \nVolkswagen Golf          nan   5600.00       nan  \n           Jetta         nan       nan       nan  \n           Passat        nan       nan       nan  \n           Touareg       nan       nan       nan  \n\n[14 rows x 40 columns]",
      "text/html": "<div>\n<style scoped>\n    .dataframe tbody tr th:only-of-type {\n        vertical-align: middle;\n    }\n\n    .dataframe tbody tr th {\n        vertical-align: top;\n    }\n\n    .dataframe thead tr th {\n        text-align: left;\n    }\n\n    .dataframe thead tr:last-of-type th {\n        text-align: right;\n    }\n</style>\n<table border=\"1\" class=\"dataframe\">\n  <thead>\n    <tr>\n      <th></th>\n      <th></th>\n      <th colspan=\"21\" halign=\"left\">Fines</th>\n    </tr>\n    <tr>\n      <th></th>\n      <th>Year</th>\n      <th>1980</th>\n      <th>1981</th>\n      <th>1982</th>\n      <th>1983</th>\n      <th>1984</th>\n      <th>1985</th>\n      <th>1986</th>\n      <th>1987</th>\n      <th>1988</th>\n      <th>1989</th>\n      <th>...</th>\n      <th>2010</th>\n      <th>2011</th>\n      <th>2012</th>\n      <th>2013</th>\n      <th>2014</th>\n      <th>2015</th>\n      <th>2016</th>\n      <th>2017</th>\n      <th>2018</th>\n      <th>2019</th>\n    </tr>\n    <tr>\n      <th>Make</th>\n      <th>Model</th>\n      <th></th>\n      <th></th>\n      <th></th>\n      <th></th>\n      <th></th>\n      <th></th>\n      <th></th>\n      <th></th>\n      <th></th>\n      <th></th>\n      <th></th>\n      <th></th>\n      <th></th>\n      <th></th>\n      <th></th>\n      <th></th>\n      <th></th>\n      <th></th>\n      <th></th>\n      <th></th>\n      <th></th>\n    </tr>\n  </thead>\n  <tbody>\n    <tr>\n      <th>Dodge</th>\n      <th>Viper</th>\n      <td>nan</td>\n      <td>nan</td>\n      <td>nan</td>\n      <td>nan</td>\n      <td>nan</td>\n      <td>nan</td>\n      <td>nan</td>\n      <td>nan</td>\n      <td>nan</td>\n      <td>nan</td>\n      <td>...</td>\n      <td>nan</td>\n      <td>nan</td>\n      <td>nan</td>\n      <td>nan</td>\n      <td>nan</td>\n      <td>nan</td>\n      <td>nan</td>\n      <td>nan</td>\n      <td>nan</td>\n      <td>nan</td>\n    </tr>\n    <tr>\n      <th rowspan=\"2\" valign=\"top\">Ford</th>\n      <th>Focus</th>\n      <td>222094.59</td>\n      <td>415089.17</td>\n      <td>152883.76</td>\n      <td>80294.59</td>\n      <td>117389.17</td>\n      <td>123983.76</td>\n      <td>90894.59</td>\n      <td>254894.59</td>\n      <td>112894.59</td>\n      <td>75194.59</td>\n      <td>...</td>\n      <td>138689.17</td>\n      <td>142289.17</td>\n      <td>111900.00</td>\n      <td>304889.17</td>\n      <td>122294.59</td>\n      <td>217300.00</td>\n      <td>86394.59</td>\n      <td>254100.00</td>\n      <td>273094.59</td>\n      <td>106900.00</td>\n    </tr>\n    <tr>\n      <th>Mondeo</th>\n      <td>nan</td>\n      <td>nan</td>\n      <td>nan</td>\n      <td>nan</td>\n      <td>nan</td>\n      <td>nan</td>\n      <td>nan</td>\n      <td>nan</td>\n      <td>nan</td>\n      <td>8600.00</td>\n      <td>...</td>\n      <td>nan</td>\n      <td>nan</td>\n      <td>34400.00</td>\n      <td>nan</td>\n      <td>nan</td>\n      <td>nan</td>\n      <td>46200.00</td>\n      <td>nan</td>\n      <td>nan</td>\n      <td>nan</td>\n    </tr>\n    <tr>\n      <th>Hyundai</th>\n      <th>Solaris</th>\n      <td>nan</td>\n      <td>nan</td>\n      <td>nan</td>\n      <td>nan</td>\n      <td>nan</td>\n      <td>nan</td>\n      <td>nan</td>\n      <td>nan</td>\n      <td>nan</td>\n      <td>nan</td>\n      <td>...</td>\n      <td>3600.00</td>\n      <td>nan</td>\n      <td>nan</td>\n      <td>nan</td>\n      <td>nan</td>\n      <td>nan</td>\n      <td>nan</td>\n      <td>nan</td>\n      <td>nan</td>\n      <td>nan</td>\n    </tr>\n    <tr>\n      <th>Nissan</th>\n      <th>GT-X</th>\n      <td>nan</td>\n      <td>nan</td>\n      <td>nan</td>\n      <td>nan</td>\n      <td>nan</td>\n      <td>nan</td>\n      <td>nan</td>\n      <td>nan</td>\n      <td>nan</td>\n      <td>nan</td>\n      <td>...</td>\n      <td>nan</td>\n      <td>nan</td>\n      <td>nan</td>\n      <td>nan</td>\n      <td>nan</td>\n      <td>1100.00</td>\n      <td>nan</td>\n      <td>nan</td>\n      <td>nan</td>\n      <td>nan</td>\n    </tr>\n    <tr>\n      <th>Opel</th>\n      <th>Astra</th>\n      <td>nan</td>\n      <td>nan</td>\n      <td>nan</td>\n      <td>nan</td>\n      <td>nan</td>\n      <td>nan</td>\n      <td>nan</td>\n      <td>nan</td>\n      <td>nan</td>\n      <td>nan</td>\n      <td>...</td>\n      <td>nan</td>\n      <td>nan</td>\n      <td>nan</td>\n      <td>nan</td>\n      <td>nan</td>\n      <td>nan</td>\n      <td>nan</td>\n      <td>nan</td>\n      <td>nan</td>\n      <td>nan</td>\n    </tr>\n    <tr>\n      <th>Renault</th>\n      <th>Logan</th>\n      <td>nan</td>\n      <td>nan</td>\n      <td>nan</td>\n      <td>nan</td>\n      <td>nan</td>\n      <td>nan</td>\n      <td>nan</td>\n      <td>nan</td>\n      <td>nan</td>\n      <td>nan</td>\n      <td>...</td>\n      <td>nan</td>\n      <td>nan</td>\n      <td>nan</td>\n      <td>nan</td>\n      <td>nan</td>\n      <td>nan</td>\n      <td>nan</td>\n      <td>nan</td>\n      <td>nan</td>\n      <td>nan</td>\n    </tr>\n    <tr>\n      <th>Skoda</th>\n      <th>Octavia</th>\n      <td>10494.59</td>\n      <td>nan</td>\n      <td>16900.00</td>\n      <td>11594.59</td>\n      <td>nan</td>\n      <td>10294.59</td>\n      <td>600.00</td>\n      <td>5200.00</td>\n      <td>18100.00</td>\n      <td>91400.00</td>\n      <td>...</td>\n      <td>3100.00</td>\n      <td>500.00</td>\n      <td>500.00</td>\n      <td>12594.59</td>\n      <td>300.00</td>\n      <td>46394.59</td>\n      <td>300.00</td>\n      <td>4500.00</td>\n      <td>156200.00</td>\n      <td>9500.00</td>\n    </tr>\n    <tr>\n      <th rowspan=\"2\" valign=\"top\">Toyota</th>\n      <th>Camry</th>\n      <td>12000.00</td>\n      <td>8594.59</td>\n      <td>nan</td>\n      <td>7200.00</td>\n      <td>nan</td>\n      <td>nan</td>\n      <td>nan</td>\n      <td>nan</td>\n      <td>nan</td>\n      <td>22400.00</td>\n      <td>...</td>\n      <td>nan</td>\n      <td>nan</td>\n      <td>8594.59</td>\n      <td>nan</td>\n      <td>39600.00</td>\n      <td>nan</td>\n      <td>nan</td>\n      <td>nan</td>\n      <td>31400.00</td>\n      <td>18100.00</td>\n    </tr>\n    <tr>\n      <th>Corolla</th>\n      <td>nan</td>\n      <td>nan</td>\n      <td>2000.00</td>\n      <td>nan</td>\n      <td>nan</td>\n      <td>nan</td>\n      <td>nan</td>\n      <td>15600.00</td>\n      <td>nan</td>\n      <td>4000.00</td>\n      <td>...</td>\n      <td>24000.00</td>\n      <td>8594.59</td>\n      <td>8594.59</td>\n      <td>nan</td>\n      <td>nan</td>\n      <td>nan</td>\n      <td>10600.00</td>\n      <td>9600.00</td>\n      <td>8594.59</td>\n      <td>nan</td>\n    </tr>\n    <tr>\n      <th rowspan=\"4\" valign=\"top\">Volkswagen</th>\n      <th>Golf</th>\n      <td>30900.00</td>\n      <td>nan</td>\n      <td>nan</td>\n      <td>8594.59</td>\n      <td>300.00</td>\n      <td>24000.00</td>\n      <td>nan</td>\n      <td>12800.00</td>\n      <td>nan</td>\n      <td>5800.00</td>\n      <td>...</td>\n      <td>nan</td>\n      <td>300.00</td>\n      <td>nan</td>\n      <td>2200.00</td>\n      <td>nan</td>\n      <td>2300.00</td>\n      <td>nan</td>\n      <td>nan</td>\n      <td>5600.00</td>\n      <td>nan</td>\n    </tr>\n    <tr>\n      <th>Jetta</th>\n      <td>nan</td>\n      <td>nan</td>\n      <td>nan</td>\n      <td>nan</td>\n      <td>nan</td>\n      <td>nan</td>\n      <td>nan</td>\n      <td>nan</td>\n      <td>nan</td>\n      <td>nan</td>\n      <td>...</td>\n      <td>nan</td>\n      <td>nan</td>\n      <td>nan</td>\n      <td>nan</td>\n      <td>nan</td>\n      <td>nan</td>\n      <td>nan</td>\n      <td>nan</td>\n      <td>nan</td>\n      <td>nan</td>\n    </tr>\n    <tr>\n      <th>Passat</th>\n      <td>nan</td>\n      <td>1600.00</td>\n      <td>nan</td>\n      <td>3200.00</td>\n      <td>10000.00</td>\n      <td>5000.00</td>\n      <td>15000.00</td>\n      <td>12300.00</td>\n      <td>nan</td>\n      <td>nan</td>\n      <td>...</td>\n      <td>2800.00</td>\n      <td>nan</td>\n      <td>nan</td>\n      <td>nan</td>\n      <td>nan</td>\n      <td>600.00</td>\n      <td>2100.00</td>\n      <td>nan</td>\n      <td>nan</td>\n      <td>nan</td>\n    </tr>\n    <tr>\n      <th>Touareg</th>\n      <td>nan</td>\n      <td>nan</td>\n      <td>nan</td>\n      <td>nan</td>\n      <td>nan</td>\n      <td>5800.00</td>\n      <td>nan</td>\n      <td>nan</td>\n      <td>nan</td>\n      <td>nan</td>\n      <td>...</td>\n      <td>6300.00</td>\n      <td>nan</td>\n      <td>nan</td>\n      <td>nan</td>\n      <td>1300.00</td>\n      <td>500.00</td>\n      <td>nan</td>\n      <td>nan</td>\n      <td>nan</td>\n      <td>nan</td>\n    </tr>\n  </tbody>\n</table>\n<p>14 rows × 40 columns</p>\n</div>"
     },
     "execution_count": 238,
     "metadata": {},
     "output_type": "execute_result"
    }
   ],
   "source": [
    "table = pd.pivot_table(fines, index=[\"Make\", \"Model\"], values=[\"Fines\"], columns=[\"Year\"], aggfunc=np.sum, fill_value=\"nan\")\n",
    "table"
   ],
   "metadata": {
    "collapsed": false
   }
  },
  {
   "cell_type": "markdown",
   "source": [
    "## save both the fines and owners dataframes to CSV files without an index"
   ],
   "metadata": {
    "collapsed": false
   }
  },
  {
   "cell_type": "code",
   "execution_count": 239,
   "outputs": [],
   "source": [
    "fines.to_csv('../data/fines.csv', index=False)\n",
    "owners.to_csv('../data/owners.csv', index=False)"
   ],
   "metadata": {
    "collapsed": false
   }
  }
 ],
 "metadata": {
  "kernelspec": {
   "display_name": "Python 3",
   "language": "python",
   "name": "python3"
  },
  "language_info": {
   "codemirror_mode": {
    "name": "ipython",
    "version": 2
   },
   "file_extension": ".py",
   "mimetype": "text/x-python",
   "name": "python",
   "nbconvert_exporter": "python",
   "pygments_lexer": "ipython2",
   "version": "2.7.6"
  }
 },
 "nbformat": 4,
 "nbformat_minor": 0
}
