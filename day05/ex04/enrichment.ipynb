{
 "cells": [
  {
   "cell_type": "code",
   "execution_count": 37,
   "metadata": {
    "collapsed": true
   },
   "outputs": [],
   "source": [
    "import pandas as pd\n",
    "import numpy as np\n",
    "import requests"
   ]
  },
  {
   "cell_type": "markdown",
   "source": [
    "## read the JSON file that you saved in ex02"
   ],
   "metadata": {
    "collapsed": false
   }
  },
  {
   "cell_type": "code",
   "execution_count": 38,
   "outputs": [
    {
     "name": "stdout",
     "output_type": "stream",
     "text": [
      "        CarNumber  Refund    Fines    Make    Model\n",
      "0    Y163O8161RUS       2  3200.00    Ford    Focus\n",
      "1     E432XX77RUS       1  6500.00  Toyota    Camry\n",
      "2     7184TT36RUS       1  2100.00    Ford    Focus\n",
      "3    X582HE161RUS       2  2000.00    Ford    Focus\n",
      "4    92918M178RUS       1  5700.00    Ford    Focus\n",
      "..            ...     ...      ...     ...      ...\n",
      "720  Y163O8161RUS       2  1600.00    Ford    Focus\n",
      "721  M0309X197RUS       1 22300.00    Ford    Focus\n",
      "722  O673E8197RUS       2   600.00    Ford    Focus\n",
      "723  8610T8154RUS       1  2000.00    Ford    Focus\n",
      "724  H419XE197RUS       2  8594.59  Toyota  Corolla\n",
      "\n",
      "[725 rows x 5 columns]\n"
     ]
    },
    {
     "data": {
      "text/plain": "        CarNumber  Refund    Fines    Make    Model\n0    Y163O8161RUS       2  3200.00    Ford    Focus\n1     E432XX77RUS       1  6500.00  Toyota    Camry\n2     7184TT36RUS       1  2100.00    Ford    Focus\n3    X582HE161RUS       2  2000.00    Ford    Focus\n4    92918M178RUS       1  5700.00    Ford    Focus\n..            ...     ...      ...     ...      ...\n720  Y163O8161RUS       2  1600.00    Ford    Focus\n721  M0309X197RUS       1 22300.00    Ford    Focus\n722  O673E8197RUS       2   600.00    Ford    Focus\n723  8610T8154RUS       1  2000.00    Ford    Focus\n724  H419XE197RUS       2  8594.59  Toyota  Corolla\n\n[725 rows x 5 columns]",
      "text/html": "<div>\n<style scoped>\n    .dataframe tbody tr th:only-of-type {\n        vertical-align: middle;\n    }\n\n    .dataframe tbody tr th {\n        vertical-align: top;\n    }\n\n    .dataframe thead th {\n        text-align: right;\n    }\n</style>\n<table border=\"1\" class=\"dataframe\">\n  <thead>\n    <tr style=\"text-align: right;\">\n      <th></th>\n      <th>CarNumber</th>\n      <th>Refund</th>\n      <th>Fines</th>\n      <th>Make</th>\n      <th>Model</th>\n    </tr>\n  </thead>\n  <tbody>\n    <tr>\n      <th>0</th>\n      <td>Y163O8161RUS</td>\n      <td>2</td>\n      <td>3200.00</td>\n      <td>Ford</td>\n      <td>Focus</td>\n    </tr>\n    <tr>\n      <th>1</th>\n      <td>E432XX77RUS</td>\n      <td>1</td>\n      <td>6500.00</td>\n      <td>Toyota</td>\n      <td>Camry</td>\n    </tr>\n    <tr>\n      <th>2</th>\n      <td>7184TT36RUS</td>\n      <td>1</td>\n      <td>2100.00</td>\n      <td>Ford</td>\n      <td>Focus</td>\n    </tr>\n    <tr>\n      <th>3</th>\n      <td>X582HE161RUS</td>\n      <td>2</td>\n      <td>2000.00</td>\n      <td>Ford</td>\n      <td>Focus</td>\n    </tr>\n    <tr>\n      <th>4</th>\n      <td>92918M178RUS</td>\n      <td>1</td>\n      <td>5700.00</td>\n      <td>Ford</td>\n      <td>Focus</td>\n    </tr>\n    <tr>\n      <th>...</th>\n      <td>...</td>\n      <td>...</td>\n      <td>...</td>\n      <td>...</td>\n      <td>...</td>\n    </tr>\n    <tr>\n      <th>720</th>\n      <td>Y163O8161RUS</td>\n      <td>2</td>\n      <td>1600.00</td>\n      <td>Ford</td>\n      <td>Focus</td>\n    </tr>\n    <tr>\n      <th>721</th>\n      <td>M0309X197RUS</td>\n      <td>1</td>\n      <td>22300.00</td>\n      <td>Ford</td>\n      <td>Focus</td>\n    </tr>\n    <tr>\n      <th>722</th>\n      <td>O673E8197RUS</td>\n      <td>2</td>\n      <td>600.00</td>\n      <td>Ford</td>\n      <td>Focus</td>\n    </tr>\n    <tr>\n      <th>723</th>\n      <td>8610T8154RUS</td>\n      <td>1</td>\n      <td>2000.00</td>\n      <td>Ford</td>\n      <td>Focus</td>\n    </tr>\n    <tr>\n      <th>724</th>\n      <td>H419XE197RUS</td>\n      <td>2</td>\n      <td>8594.59</td>\n      <td>Toyota</td>\n      <td>Corolla</td>\n    </tr>\n  </tbody>\n</table>\n<p>725 rows × 5 columns</p>\n</div>"
     },
     "execution_count": 38,
     "metadata": {},
     "output_type": "execute_result"
    }
   ],
   "source": [
    "pd.set_option(\"display.float_format\", '{:.2f}'.format)\n",
    "data = pd.DataFrame\n",
    "try:\n",
    "    data = pd.read_json(\"../data/auto.json\", orient='records')\n",
    "    print(data)\n",
    "except IOError as e:\n",
    "    print(e)\n",
    "    quit(1)\n",
    "data"
   ],
   "metadata": {
    "collapsed": false
   }
  },
  {
   "cell_type": "markdown",
   "source": [
    "## enrich the dataframe using a sample from that dataframe"
   ],
   "metadata": {
    "collapsed": false
   }
  },
  {
   "cell_type": "code",
   "execution_count": 39,
   "outputs": [
    {
     "name": "stdout",
     "output_type": "stream",
     "text": [
      "        CarNumber  Refund    Fines        Make   Model\n",
      "445  M0299X197RUS       2 12300.00        Ford   Focus\n",
      "22   83298C154RUS       2  8594.59        Ford   Focus\n",
      "93   H957HY161RUS       1   200.00        Ford   Focus\n",
      "173   T941CC96RUS       2  4000.00        Ford   Focus\n",
      "697  H966HY161RUS       2  2500.00        Ford   Focus\n",
      "..            ...     ...      ...         ...     ...\n",
      "14   8182XX154RUS       1 11400.00        Ford   Focus\n",
      "623   X796TH96RUS       1  8600.00        Ford   Focus\n",
      "498  T011MY163RUS       2  3500.00        Ford   Focus\n",
      "536   T341CC96RUS       1  9500.00  Volkswagen  Passat\n",
      "520   T119CT96RUS       2   600.00        Ford   Focus\n",
      "\n",
      "[200 rows x 5 columns]\n"
     ]
    }
   ],
   "source": [
    "smpl = data.sample(n=200, random_state=21)\n",
    "smpl['Fines'] = data['Fines'].sample(n=200, random_state=np.random.RandomState()).values\n",
    "smpl['Refund'] = data['Refund'].sample(n=200, random_state=np.random.RandomState()).values\n",
    "print(smpl)"
   ],
   "metadata": {
    "collapsed": false
   }
  },
  {
   "cell_type": "code",
   "execution_count": 40,
   "outputs": [
    {
     "name": "stdout",
     "output_type": "stream",
     "text": [
      "        CarNumber  Refund    Fines        Make   Model\n",
      "0    Y163O8161RUS       2  3200.00        Ford   Focus\n",
      "1     E432XX77RUS       1  6500.00      Toyota   Camry\n",
      "2     7184TT36RUS       1  2100.00        Ford   Focus\n",
      "3    X582HE161RUS       2  2000.00        Ford   Focus\n",
      "4    92918M178RUS       1  5700.00        Ford   Focus\n",
      "..            ...     ...      ...         ...     ...\n",
      "920  8182XX154RUS       1 11400.00        Ford   Focus\n",
      "921   X796TH96RUS       1  8600.00        Ford   Focus\n",
      "922  T011MY163RUS       2  3500.00        Ford   Focus\n",
      "923   T341CC96RUS       1  9500.00  Volkswagen  Passat\n",
      "924   T119CT96RUS       2   600.00        Ford   Focus\n",
      "\n",
      "[925 rows x 5 columns]\n"
     ]
    }
   ],
   "source": [
    "concat_rows = pd.concat([data, smpl])\n",
    "concat_rows.reset_index(drop=True, inplace=True)\n",
    "print(concat_rows)"
   ],
   "metadata": {
    "collapsed": false
   }
  },
  {
   "cell_type": "markdown",
   "source": [
    "## enrich the dataframe concat_rows by a new column with the data generated"
   ],
   "metadata": {
    "collapsed": false
   }
  },
  {
   "cell_type": "code",
   "execution_count": 41,
   "outputs": [
    {
     "name": "stdout",
     "output_type": "stream",
     "text": [
      "        CarNumber  Refund    Fines        Make   Model  Year\n",
      "0    Y163O8161RUS       2  3200.00        Ford   Focus  1989\n",
      "1     E432XX77RUS       1  6500.00      Toyota   Camry  1995\n",
      "2     7184TT36RUS       1  2100.00        Ford   Focus  1984\n",
      "3    X582HE161RUS       2  2000.00        Ford   Focus  2015\n",
      "4    92918M178RUS       1  5700.00        Ford   Focus  2014\n",
      "..            ...     ...      ...         ...     ...   ...\n",
      "920  8182XX154RUS       1 11400.00        Ford   Focus  1981\n",
      "921   X796TH96RUS       1  8600.00        Ford   Focus  1992\n",
      "922  T011MY163RUS       2  3500.00        Ford   Focus  2007\n",
      "923   T341CC96RUS       1  9500.00  Volkswagen  Passat  2005\n",
      "924   T119CT96RUS       2   600.00        Ford   Focus  1997\n",
      "\n",
      "[925 rows x 6 columns]\n"
     ]
    }
   ],
   "source": [
    "np.random.seed(21)\n",
    "s = pd.Series(np.random.randint(1980, 2020, (len(concat_rows))), dtype='int', name='Year')\n",
    "fines = pd.concat([concat_rows,s],axis=1)\n",
    "print(fines)"
   ],
   "metadata": {
    "collapsed": false
   }
  },
  {
   "cell_type": "markdown",
   "source": [
    "## enrich the dataframe with the data from another dataframe"
   ],
   "metadata": {
    "collapsed": false
   }
  },
  {
   "cell_type": "code",
   "execution_count": 42,
   "outputs": [
    {
     "data": {
      "text/plain": "514"
     },
     "execution_count": 42,
     "metadata": {},
     "output_type": "execute_result"
    }
   ],
   "source": [
    "url = \"https://projects.intra.42.fr/uploads/document/document/8786/surname.json\"\n",
    "headers = {\n",
    "        'User-Agent': 'Mozilla/5.0 (Windows NT 6.1; WOW64) AppleWebKit/537.36 (KHTML, like Gecko) Chrome/32.0.1700.107 Safari/537.36'}\n",
    "r = requests.models.Response\n",
    "try:\n",
    "    r = requests.get(url, headers=headers)\n",
    "    r.raise_for_status()\n",
    "    sn = pd.DataFrame.from_records(r.json())\n",
    "    nh = sn.iloc[0]\n",
    "    sn = sn[1:]\n",
    "    sn.columns = nh\n",
    "except requests.RequestException as e:\n",
    "    print(f\"Exception: {e}\")\n",
    "    quit(1)\n",
    "except requests.JSONDecodeError as e:\n",
    "    print(f\"Exception: {e}\")\n",
    "    quit(2)\n",
    "cars = pd.Series(fines.CarNumber.unique()).rename('CarNumber')\n",
    "surnames = sn.NAME.sample(n=len(cars), random_state=21, replace=True, ignore_index=True).rename('SURNAME')\n",
    "owners = pd.concat([cars, surnames], axis=1)\n",
    "dict1 = {\"CarNumber\": [\"Y163O8160RUS\", \"9184UT36RUS\", \"PY316E877RUS\", \"Y318P876RUS\", \"O05T8196RUS\"],\n",
    "        \"Refund\": [2, 1, 3, 1, 2],\n",
    "        \"Fines\": [2300.00, 4500.00, 3600.00, 500.00, 1100.00],\n",
    "        \"Make\": [\"Renault\", \"Opel\", \"Hyundai\", \"Dodge\", \"Nissan\"],\n",
    "        \"Model\": [\"Logan\", \"Astra\", \"Solaris\", \"Viper\", \"GT-X\"],\n",
    "        \"Year\": [2006, 2003, 2010, 2007, 2015]}\n",
    "new_obs1 = pd.DataFrame(dict1)\n",
    "fines = pd.concat([fines, new_obs1], axis=0, ignore_index=True)\n",
    "owners.drop(labels=range(len(owners) - 20, len(owners)), axis=0, inplace=True)\n",
    "dict2 = {\"CarNumber\": [\"U761HY137RUS\", \"2367J8147RUS\", \"A0306X159RUS\"],\n",
    "         \"SURNAME\": [\"BAKER\", \"LONG\", \"KING\"]}\n",
    "new_obs2 = pd.DataFrame(dict2)\n",
    "owners = pd.concat([owners, new_obs2], axis=0, ignore_index=True)\n"
   ],
   "metadata": {
    "collapsed": false
   }
  },
  {
   "cell_type": "markdown",
   "source": [],
   "metadata": {
    "collapsed": false
   }
  }
 ],
 "metadata": {
  "kernelspec": {
   "display_name": "Python 3",
   "language": "python",
   "name": "python3"
  },
  "language_info": {
   "codemirror_mode": {
    "name": "ipython",
    "version": 2
   },
   "file_extension": ".py",
   "mimetype": "text/x-python",
   "name": "python",
   "nbconvert_exporter": "python",
   "pygments_lexer": "ipython2",
   "version": "2.7.6"
  }
 },
 "nbformat": 4,
 "nbformat_minor": 0
}
