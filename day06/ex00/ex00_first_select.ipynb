{
 "cells": [
  {
   "cell_type": "code",
   "execution_count": 89,
   "metadata": {
    "collapsed": true
   },
   "outputs": [],
   "source": [
    "import pandas as pd\n",
    "import sqlite3"
   ]
  },
  {
   "cell_type": "markdown",
   "source": [
    "## put the database in the subfolder data in the root directory of the day"
   ],
   "metadata": {
    "collapsed": false
   }
  },
  {
   "cell_type": "markdown",
   "source": [
    "## create a connection to the database using the library sqlite3"
   ],
   "metadata": {
    "collapsed": false
   }
  },
  {
   "cell_type": "code",
   "execution_count": 90,
   "outputs": [],
   "source": [
    "con = sqlite3.connect(\"../data/checking-logs.sqlite.sqlite copy\")"
   ],
   "metadata": {
    "collapsed": false
   }
  },
  {
   "cell_type": "markdown",
   "source": [
    "## get the schema of the table pageviews using pd.io.sql.read_sql and the query \"PRAGMA table_info(pageviews);\""
   ],
   "metadata": {
    "collapsed": false
   }
  },
  {
   "cell_type": "code",
   "execution_count": 91,
   "outputs": [
    {
     "data": {
      "text/plain": "   cid      name       type  notnull dflt_value  pk\n0    0     index    INTEGER        0       None   0\n1    1       uid       TEXT        0       None   0\n2    2  datetime  TIMESTAMP        0       None   0",
      "text/html": "<div>\n<style scoped>\n    .dataframe tbody tr th:only-of-type {\n        vertical-align: middle;\n    }\n\n    .dataframe tbody tr th {\n        vertical-align: top;\n    }\n\n    .dataframe thead th {\n        text-align: right;\n    }\n</style>\n<table border=\"1\" class=\"dataframe\">\n  <thead>\n    <tr style=\"text-align: right;\">\n      <th></th>\n      <th>cid</th>\n      <th>name</th>\n      <th>type</th>\n      <th>notnull</th>\n      <th>dflt_value</th>\n      <th>pk</th>\n    </tr>\n  </thead>\n  <tbody>\n    <tr>\n      <th>0</th>\n      <td>0</td>\n      <td>index</td>\n      <td>INTEGER</td>\n      <td>0</td>\n      <td>None</td>\n      <td>0</td>\n    </tr>\n    <tr>\n      <th>1</th>\n      <td>1</td>\n      <td>uid</td>\n      <td>TEXT</td>\n      <td>0</td>\n      <td>None</td>\n      <td>0</td>\n    </tr>\n    <tr>\n      <th>2</th>\n      <td>2</td>\n      <td>datetime</td>\n      <td>TIMESTAMP</td>\n      <td>0</td>\n      <td>None</td>\n      <td>0</td>\n    </tr>\n  </tbody>\n</table>\n</div>"
     },
     "execution_count": 91,
     "metadata": {},
     "output_type": "execute_result"
    }
   ],
   "source": [
    "pd.io.sql.read_sql(\"PRAGMA table_info(pageviews);\", con)"
   ],
   "metadata": {
    "collapsed": false
   }
  },
  {
   "cell_type": "markdown",
   "source": [
    "## get only the first 10 rows of the table pageviews to check what the table looks like"
   ],
   "metadata": {
    "collapsed": false
   }
  },
  {
   "cell_type": "code",
   "execution_count": 92,
   "outputs": [
    {
     "data": {
      "text/plain": "   index      uid                    datetime\n0      0  admin_1  2020-04-17 12:01:08.463179\n1      1  admin_1  2020-04-17 12:01:23.743946\n2      2  admin_3  2020-04-17 12:17:39.287778\n3      3  admin_3  2020-04-17 12:17:40.001768\n4      4  admin_1  2020-04-17 12:27:30.646665\n5      5  admin_1  2020-04-17 12:35:44.884757\n6      6  admin_1  2020-04-17 12:35:52.735016\n7      7  admin_3  2020-04-17 12:36:21.401412\n8      8  admin_3  2020-04-17 12:36:22.023355\n9      9  admin_1  2020-04-17 13:55:19.129243",
      "text/html": "<div>\n<style scoped>\n    .dataframe tbody tr th:only-of-type {\n        vertical-align: middle;\n    }\n\n    .dataframe tbody tr th {\n        vertical-align: top;\n    }\n\n    .dataframe thead th {\n        text-align: right;\n    }\n</style>\n<table border=\"1\" class=\"dataframe\">\n  <thead>\n    <tr style=\"text-align: right;\">\n      <th></th>\n      <th>index</th>\n      <th>uid</th>\n      <th>datetime</th>\n    </tr>\n  </thead>\n  <tbody>\n    <tr>\n      <th>0</th>\n      <td>0</td>\n      <td>admin_1</td>\n      <td>2020-04-17 12:01:08.463179</td>\n    </tr>\n    <tr>\n      <th>1</th>\n      <td>1</td>\n      <td>admin_1</td>\n      <td>2020-04-17 12:01:23.743946</td>\n    </tr>\n    <tr>\n      <th>2</th>\n      <td>2</td>\n      <td>admin_3</td>\n      <td>2020-04-17 12:17:39.287778</td>\n    </tr>\n    <tr>\n      <th>3</th>\n      <td>3</td>\n      <td>admin_3</td>\n      <td>2020-04-17 12:17:40.001768</td>\n    </tr>\n    <tr>\n      <th>4</th>\n      <td>4</td>\n      <td>admin_1</td>\n      <td>2020-04-17 12:27:30.646665</td>\n    </tr>\n    <tr>\n      <th>5</th>\n      <td>5</td>\n      <td>admin_1</td>\n      <td>2020-04-17 12:35:44.884757</td>\n    </tr>\n    <tr>\n      <th>6</th>\n      <td>6</td>\n      <td>admin_1</td>\n      <td>2020-04-17 12:35:52.735016</td>\n    </tr>\n    <tr>\n      <th>7</th>\n      <td>7</td>\n      <td>admin_3</td>\n      <td>2020-04-17 12:36:21.401412</td>\n    </tr>\n    <tr>\n      <th>8</th>\n      <td>8</td>\n      <td>admin_3</td>\n      <td>2020-04-17 12:36:22.023355</td>\n    </tr>\n    <tr>\n      <th>9</th>\n      <td>9</td>\n      <td>admin_1</td>\n      <td>2020-04-17 13:55:19.129243</td>\n    </tr>\n  </tbody>\n</table>\n</div>"
     },
     "execution_count": 92,
     "metadata": {},
     "output_type": "execute_result"
    }
   ],
   "source": [
    "pd.io.sql.read_sql(\"SELECT * FROM pageviews LIMIT 10;\", con)"
   ],
   "metadata": {
    "collapsed": false
   }
  },
  {
   "cell_type": "markdown",
   "source": [
    "## get the subtable using only one query where:"
   ],
   "metadata": {
    "collapsed": false
   }
  },
  {
   "cell_type": "code",
   "execution_count": 93,
   "outputs": [
    {
     "data": {
      "text/plain": "                                uid\ndatetime                           \n2020-04-26 21:53:59.624136   user_1\n2020-04-26 22:06:19.478143   user_1\n2020-04-26 22:12:09.614497   user_1\n2020-04-30 19:29:01.831635   user_1\n2020-05-05 20:26:32.894852   user_1\n...                             ...\n2020-04-29 16:51:21.877630  user_30\n2020-05-09 20:30:47.034282  user_30\n2020-05-22 11:30:18.368990   user_5\n2020-05-21 16:28:28.217529   user_9\n2020-05-21 16:36:40.915488   user_9\n\n[987 rows x 1 columns]",
      "text/html": "<div>\n<style scoped>\n    .dataframe tbody tr th:only-of-type {\n        vertical-align: middle;\n    }\n\n    .dataframe tbody tr th {\n        vertical-align: top;\n    }\n\n    .dataframe thead th {\n        text-align: right;\n    }\n</style>\n<table border=\"1\" class=\"dataframe\">\n  <thead>\n    <tr style=\"text-align: right;\">\n      <th></th>\n      <th>uid</th>\n    </tr>\n    <tr>\n      <th>datetime</th>\n      <th></th>\n    </tr>\n  </thead>\n  <tbody>\n    <tr>\n      <th>2020-04-26 21:53:59.624136</th>\n      <td>user_1</td>\n    </tr>\n    <tr>\n      <th>2020-04-26 22:06:19.478143</th>\n      <td>user_1</td>\n    </tr>\n    <tr>\n      <th>2020-04-26 22:12:09.614497</th>\n      <td>user_1</td>\n    </tr>\n    <tr>\n      <th>2020-04-30 19:29:01.831635</th>\n      <td>user_1</td>\n    </tr>\n    <tr>\n      <th>2020-05-05 20:26:32.894852</th>\n      <td>user_1</td>\n    </tr>\n    <tr>\n      <th>...</th>\n      <td>...</td>\n    </tr>\n    <tr>\n      <th>2020-04-29 16:51:21.877630</th>\n      <td>user_30</td>\n    </tr>\n    <tr>\n      <th>2020-05-09 20:30:47.034282</th>\n      <td>user_30</td>\n    </tr>\n    <tr>\n      <th>2020-05-22 11:30:18.368990</th>\n      <td>user_5</td>\n    </tr>\n    <tr>\n      <th>2020-05-21 16:28:28.217529</th>\n      <td>user_9</td>\n    </tr>\n    <tr>\n      <th>2020-05-21 16:36:40.915488</th>\n      <td>user_9</td>\n    </tr>\n  </tbody>\n</table>\n<p>987 rows × 1 columns</p>\n</div>"
     },
     "execution_count": 93,
     "metadata": {},
     "output_type": "execute_result"
    }
   ],
   "source": [
    "query = \"SELECT uid, datetime FROM pageviews WHERE uid LIKE 'user_%' ORDER BY uid ASC;\"\n",
    "df = pd.io.sql.read_sql(query, con, index_col='datetime', parse_dates='datetime')\n",
    "df"
   ],
   "metadata": {
    "collapsed": false
   }
  },
  {
   "cell_type": "code",
   "execution_count": 94,
   "outputs": [
    {
     "data": {
      "text/plain": "        uid\n0    user_1\n1   user_10\n2   user_14\n3   user_17\n4   user_18\n5   user_19\n6   user_21\n7   user_25\n8   user_28\n9    user_3\n10  user_30\n11   user_5\n12   user_9",
      "text/html": "<div>\n<style scoped>\n    .dataframe tbody tr th:only-of-type {\n        vertical-align: middle;\n    }\n\n    .dataframe tbody tr th {\n        vertical-align: top;\n    }\n\n    .dataframe thead th {\n        text-align: right;\n    }\n</style>\n<table border=\"1\" class=\"dataframe\">\n  <thead>\n    <tr style=\"text-align: right;\">\n      <th></th>\n      <th>uid</th>\n    </tr>\n  </thead>\n  <tbody>\n    <tr>\n      <th>0</th>\n      <td>user_1</td>\n    </tr>\n    <tr>\n      <th>1</th>\n      <td>user_10</td>\n    </tr>\n    <tr>\n      <th>2</th>\n      <td>user_14</td>\n    </tr>\n    <tr>\n      <th>3</th>\n      <td>user_17</td>\n    </tr>\n    <tr>\n      <th>4</th>\n      <td>user_18</td>\n    </tr>\n    <tr>\n      <th>5</th>\n      <td>user_19</td>\n    </tr>\n    <tr>\n      <th>6</th>\n      <td>user_21</td>\n    </tr>\n    <tr>\n      <th>7</th>\n      <td>user_25</td>\n    </tr>\n    <tr>\n      <th>8</th>\n      <td>user_28</td>\n    </tr>\n    <tr>\n      <th>9</th>\n      <td>user_3</td>\n    </tr>\n    <tr>\n      <th>10</th>\n      <td>user_30</td>\n    </tr>\n    <tr>\n      <th>11</th>\n      <td>user_5</td>\n    </tr>\n    <tr>\n      <th>12</th>\n      <td>user_9</td>\n    </tr>\n  </tbody>\n</table>\n</div>"
     },
     "execution_count": 94,
     "metadata": {},
     "output_type": "execute_result"
    }
   ],
   "source": [
    "query = \"SELECT uid FROM pageviews WHERE uid LIKE 'user_%' GROUP BY uid;\"\n",
    "df = pd.io.sql.read_sql(query, con)\n",
    "df"
   ],
   "metadata": {
    "collapsed": false
   }
  },
  {
   "cell_type": "code",
   "execution_count": 95,
   "outputs": [
    {
     "data": {
      "text/plain": "        uid   labname\n0    user_0     lab02\n1    user_1    laba04\n2   user_10      None\n3   user_11    laba05\n4   user_12    laba04\n5   user_13    laba04\n6   user_14    laba04\n7   user_15      None\n8   user_16    laba04\n9   user_17  project1\n10  user_18    laba04\n11  user_19    laba04\n12   user_2    laba04\n13  user_20    laba04\n14  user_21    laba04\n15  user_22    laba04\n16  user_23    laba06\n17  user_24    laba04\n18  user_25    laba04\n19  user_26    laba04\n20  user_27   laba04s\n21  user_28    laba04\n22  user_29    laba04\n23   user_3    laba04\n24  user_30    laba04\n25  user_31    laba04\n26   user_4  project1\n27   user_6    laba04\n28   user_7    laba06\n29   user_8    laba04",
      "text/html": "<div>\n<style scoped>\n    .dataframe tbody tr th:only-of-type {\n        vertical-align: middle;\n    }\n\n    .dataframe tbody tr th {\n        vertical-align: top;\n    }\n\n    .dataframe thead th {\n        text-align: right;\n    }\n</style>\n<table border=\"1\" class=\"dataframe\">\n  <thead>\n    <tr style=\"text-align: right;\">\n      <th></th>\n      <th>uid</th>\n      <th>labname</th>\n    </tr>\n  </thead>\n  <tbody>\n    <tr>\n      <th>0</th>\n      <td>user_0</td>\n      <td>lab02</td>\n    </tr>\n    <tr>\n      <th>1</th>\n      <td>user_1</td>\n      <td>laba04</td>\n    </tr>\n    <tr>\n      <th>2</th>\n      <td>user_10</td>\n      <td>None</td>\n    </tr>\n    <tr>\n      <th>3</th>\n      <td>user_11</td>\n      <td>laba05</td>\n    </tr>\n    <tr>\n      <th>4</th>\n      <td>user_12</td>\n      <td>laba04</td>\n    </tr>\n    <tr>\n      <th>5</th>\n      <td>user_13</td>\n      <td>laba04</td>\n    </tr>\n    <tr>\n      <th>6</th>\n      <td>user_14</td>\n      <td>laba04</td>\n    </tr>\n    <tr>\n      <th>7</th>\n      <td>user_15</td>\n      <td>None</td>\n    </tr>\n    <tr>\n      <th>8</th>\n      <td>user_16</td>\n      <td>laba04</td>\n    </tr>\n    <tr>\n      <th>9</th>\n      <td>user_17</td>\n      <td>project1</td>\n    </tr>\n    <tr>\n      <th>10</th>\n      <td>user_18</td>\n      <td>laba04</td>\n    </tr>\n    <tr>\n      <th>11</th>\n      <td>user_19</td>\n      <td>laba04</td>\n    </tr>\n    <tr>\n      <th>12</th>\n      <td>user_2</td>\n      <td>laba04</td>\n    </tr>\n    <tr>\n      <th>13</th>\n      <td>user_20</td>\n      <td>laba04</td>\n    </tr>\n    <tr>\n      <th>14</th>\n      <td>user_21</td>\n      <td>laba04</td>\n    </tr>\n    <tr>\n      <th>15</th>\n      <td>user_22</td>\n      <td>laba04</td>\n    </tr>\n    <tr>\n      <th>16</th>\n      <td>user_23</td>\n      <td>laba06</td>\n    </tr>\n    <tr>\n      <th>17</th>\n      <td>user_24</td>\n      <td>laba04</td>\n    </tr>\n    <tr>\n      <th>18</th>\n      <td>user_25</td>\n      <td>laba04</td>\n    </tr>\n    <tr>\n      <th>19</th>\n      <td>user_26</td>\n      <td>laba04</td>\n    </tr>\n    <tr>\n      <th>20</th>\n      <td>user_27</td>\n      <td>laba04s</td>\n    </tr>\n    <tr>\n      <th>21</th>\n      <td>user_28</td>\n      <td>laba04</td>\n    </tr>\n    <tr>\n      <th>22</th>\n      <td>user_29</td>\n      <td>laba04</td>\n    </tr>\n    <tr>\n      <th>23</th>\n      <td>user_3</td>\n      <td>laba04</td>\n    </tr>\n    <tr>\n      <th>24</th>\n      <td>user_30</td>\n      <td>laba04</td>\n    </tr>\n    <tr>\n      <th>25</th>\n      <td>user_31</td>\n      <td>laba04</td>\n    </tr>\n    <tr>\n      <th>26</th>\n      <td>user_4</td>\n      <td>project1</td>\n    </tr>\n    <tr>\n      <th>27</th>\n      <td>user_6</td>\n      <td>laba04</td>\n    </tr>\n    <tr>\n      <th>28</th>\n      <td>user_7</td>\n      <td>laba06</td>\n    </tr>\n    <tr>\n      <th>29</th>\n      <td>user_8</td>\n      <td>laba04</td>\n    </tr>\n  </tbody>\n</table>\n</div>"
     },
     "execution_count": 95,
     "metadata": {},
     "output_type": "execute_result"
    }
   ],
   "source": [
    "query = \"SELECT uid, labname FROM checker WHERE uid LIKE 'user_%' GROUP BY uid;\"\n",
    "df = pd.io.sql.read_sql(query, con)\n",
    "df"
   ],
   "metadata": {
    "collapsed": false
   }
  },
  {
   "cell_type": "markdown",
   "source": [
    "## close the connection to the database"
   ],
   "metadata": {
    "collapsed": false
   }
  },
  {
   "cell_type": "code",
   "execution_count": 96,
   "outputs": [],
   "source": [
    "con.close()"
   ],
   "metadata": {
    "collapsed": false
   }
  }
 ],
 "metadata": {
  "kernelspec": {
   "display_name": "Python 3",
   "language": "python",
   "name": "python3"
  },
  "language_info": {
   "codemirror_mode": {
    "name": "ipython",
    "version": 2
   },
   "file_extension": ".py",
   "mimetype": "text/x-python",
   "name": "python",
   "nbconvert_exporter": "python",
   "pygments_lexer": "ipython2",
   "version": "2.7.6"
  }
 },
 "nbformat": 4,
 "nbformat_minor": 0
}
