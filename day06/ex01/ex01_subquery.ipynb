{
 "cells": [
  {
   "cell_type": "code",
   "execution_count": 146,
   "metadata": {
    "collapsed": true
   },
   "outputs": [],
   "source": [
    "import pandas as pd\n",
    "import sqlite3"
   ]
  },
  {
   "cell_type": "markdown",
   "source": [
    "## create a connection to the database using the library sqlite3"
   ],
   "metadata": {
    "collapsed": false
   }
  },
  {
   "cell_type": "code",
   "execution_count": 147,
   "outputs": [],
   "source": [
    "con = sqlite3.connect(\"../data/checking-logs.sqlite.sqlite copy\")"
   ],
   "metadata": {
    "collapsed": false
   }
  },
  {
   "cell_type": "markdown",
   "source": [
    "## get the schema of the table checker"
   ],
   "metadata": {
    "collapsed": false
   }
  },
  {
   "cell_type": "code",
   "execution_count": 148,
   "outputs": [
    {
     "data": {
      "text/plain": "   cid       name       type  notnull dflt_value  pk\n0    0      index    INTEGER        0       None   0\n1    1     status       TEXT        0       None   0\n2    2    success    INTEGER        0       None   0\n3    3  timestamp  TIMESTAMP        0       None   0\n4    4  numTrials    INTEGER        0       None   0\n5    5    labname       TEXT        0       None   0\n6    6        uid       TEXT        0       None   0",
      "text/html": "<div>\n<style scoped>\n    .dataframe tbody tr th:only-of-type {\n        vertical-align: middle;\n    }\n\n    .dataframe tbody tr th {\n        vertical-align: top;\n    }\n\n    .dataframe thead th {\n        text-align: right;\n    }\n</style>\n<table border=\"1\" class=\"dataframe\">\n  <thead>\n    <tr style=\"text-align: right;\">\n      <th></th>\n      <th>cid</th>\n      <th>name</th>\n      <th>type</th>\n      <th>notnull</th>\n      <th>dflt_value</th>\n      <th>pk</th>\n    </tr>\n  </thead>\n  <tbody>\n    <tr>\n      <th>0</th>\n      <td>0</td>\n      <td>index</td>\n      <td>INTEGER</td>\n      <td>0</td>\n      <td>None</td>\n      <td>0</td>\n    </tr>\n    <tr>\n      <th>1</th>\n      <td>1</td>\n      <td>status</td>\n      <td>TEXT</td>\n      <td>0</td>\n      <td>None</td>\n      <td>0</td>\n    </tr>\n    <tr>\n      <th>2</th>\n      <td>2</td>\n      <td>success</td>\n      <td>INTEGER</td>\n      <td>0</td>\n      <td>None</td>\n      <td>0</td>\n    </tr>\n    <tr>\n      <th>3</th>\n      <td>3</td>\n      <td>timestamp</td>\n      <td>TIMESTAMP</td>\n      <td>0</td>\n      <td>None</td>\n      <td>0</td>\n    </tr>\n    <tr>\n      <th>4</th>\n      <td>4</td>\n      <td>numTrials</td>\n      <td>INTEGER</td>\n      <td>0</td>\n      <td>None</td>\n      <td>0</td>\n    </tr>\n    <tr>\n      <th>5</th>\n      <td>5</td>\n      <td>labname</td>\n      <td>TEXT</td>\n      <td>0</td>\n      <td>None</td>\n      <td>0</td>\n    </tr>\n    <tr>\n      <th>6</th>\n      <td>6</td>\n      <td>uid</td>\n      <td>TEXT</td>\n      <td>0</td>\n      <td>None</td>\n      <td>0</td>\n    </tr>\n  </tbody>\n</table>\n</div>"
     },
     "execution_count": 148,
     "metadata": {},
     "output_type": "execute_result"
    }
   ],
   "source": [
    "pd.io.sql.read_sql(\"PRAGMA table_info(checker);\", con)"
   ],
   "metadata": {
    "collapsed": false
   }
  },
  {
   "cell_type": "markdown",
   "source": [
    "## get only the first 10 rows of the table checker to check what the table looks like"
   ],
   "metadata": {
    "collapsed": false
   }
  },
  {
   "cell_type": "code",
   "execution_count": 149,
   "outputs": [
    {
     "data": {
      "text/plain": "   index    status  success                   timestamp  numTrials   labname  \\\n0      0  checking        0  2020-04-16 21:12:50.740474          5      None   \n1      1     ready        0  2020-04-16 21:12:54.708365          5  code_rvw   \n2      2  checking        0  2020-04-16 21:46:47.769088          7      None   \n3      3     ready        0  2020-04-16 21:46:48.121217          7     lab02   \n4      4  checking        0  2020-04-16 21:53:01.862637          6  code_rvw   \n5      5     ready        0  2020-04-16 21:53:05.373389          6  code_rvw   \n6      6  checking        0  2020-04-17 05:18:51.965864          1      None   \n7      7     ready        0  2020-04-17 05:19:02.744528          1  project1   \n8      8  checking        0  2020-04-17 05:22:35.249331          2  project1   \n9      9     ready        1  2020-04-17 05:22:45.549397          2  project1   \n\n       uid  \n0  admin_1  \n1  admin_1  \n2  admin_1  \n3  admin_1  \n4  admin_1  \n5  admin_1  \n6     None  \n7   user_4  \n8   user_4  \n9   user_4  ",
      "text/html": "<div>\n<style scoped>\n    .dataframe tbody tr th:only-of-type {\n        vertical-align: middle;\n    }\n\n    .dataframe tbody tr th {\n        vertical-align: top;\n    }\n\n    .dataframe thead th {\n        text-align: right;\n    }\n</style>\n<table border=\"1\" class=\"dataframe\">\n  <thead>\n    <tr style=\"text-align: right;\">\n      <th></th>\n      <th>index</th>\n      <th>status</th>\n      <th>success</th>\n      <th>timestamp</th>\n      <th>numTrials</th>\n      <th>labname</th>\n      <th>uid</th>\n    </tr>\n  </thead>\n  <tbody>\n    <tr>\n      <th>0</th>\n      <td>0</td>\n      <td>checking</td>\n      <td>0</td>\n      <td>2020-04-16 21:12:50.740474</td>\n      <td>5</td>\n      <td>None</td>\n      <td>admin_1</td>\n    </tr>\n    <tr>\n      <th>1</th>\n      <td>1</td>\n      <td>ready</td>\n      <td>0</td>\n      <td>2020-04-16 21:12:54.708365</td>\n      <td>5</td>\n      <td>code_rvw</td>\n      <td>admin_1</td>\n    </tr>\n    <tr>\n      <th>2</th>\n      <td>2</td>\n      <td>checking</td>\n      <td>0</td>\n      <td>2020-04-16 21:46:47.769088</td>\n      <td>7</td>\n      <td>None</td>\n      <td>admin_1</td>\n    </tr>\n    <tr>\n      <th>3</th>\n      <td>3</td>\n      <td>ready</td>\n      <td>0</td>\n      <td>2020-04-16 21:46:48.121217</td>\n      <td>7</td>\n      <td>lab02</td>\n      <td>admin_1</td>\n    </tr>\n    <tr>\n      <th>4</th>\n      <td>4</td>\n      <td>checking</td>\n      <td>0</td>\n      <td>2020-04-16 21:53:01.862637</td>\n      <td>6</td>\n      <td>code_rvw</td>\n      <td>admin_1</td>\n    </tr>\n    <tr>\n      <th>5</th>\n      <td>5</td>\n      <td>ready</td>\n      <td>0</td>\n      <td>2020-04-16 21:53:05.373389</td>\n      <td>6</td>\n      <td>code_rvw</td>\n      <td>admin_1</td>\n    </tr>\n    <tr>\n      <th>6</th>\n      <td>6</td>\n      <td>checking</td>\n      <td>0</td>\n      <td>2020-04-17 05:18:51.965864</td>\n      <td>1</td>\n      <td>None</td>\n      <td>None</td>\n    </tr>\n    <tr>\n      <th>7</th>\n      <td>7</td>\n      <td>ready</td>\n      <td>0</td>\n      <td>2020-04-17 05:19:02.744528</td>\n      <td>1</td>\n      <td>project1</td>\n      <td>user_4</td>\n    </tr>\n    <tr>\n      <th>8</th>\n      <td>8</td>\n      <td>checking</td>\n      <td>0</td>\n      <td>2020-04-17 05:22:35.249331</td>\n      <td>2</td>\n      <td>project1</td>\n      <td>user_4</td>\n    </tr>\n    <tr>\n      <th>9</th>\n      <td>9</td>\n      <td>ready</td>\n      <td>1</td>\n      <td>2020-04-17 05:22:45.549397</td>\n      <td>2</td>\n      <td>project1</td>\n      <td>user_4</td>\n    </tr>\n  </tbody>\n</table>\n</div>"
     },
     "execution_count": 149,
     "metadata": {},
     "output_type": "execute_result"
    }
   ],
   "source": [
    "pd.io.sql.read_sql(\"SELECT * FROM checker LIMIT 10\", con)"
   ],
   "metadata": {
    "collapsed": false
   }
  },
  {
   "cell_type": "markdown",
   "source": [
    "## count how many rows satisfy the following conditions using only one query with any number of subqueries:"
   ],
   "metadata": {
    "collapsed": false
   }
  },
  {
   "cell_type": "code",
   "execution_count": 150,
   "outputs": [
    {
     "data": {
      "text/plain": "   cnt\n0  985",
      "text/html": "<div>\n<style scoped>\n    .dataframe tbody tr th:only-of-type {\n        vertical-align: middle;\n    }\n\n    .dataframe tbody tr th {\n        vertical-align: top;\n    }\n\n    .dataframe thead th {\n        text-align: right;\n    }\n</style>\n<table border=\"1\" class=\"dataframe\">\n  <thead>\n    <tr style=\"text-align: right;\">\n      <th></th>\n      <th>cnt</th>\n    </tr>\n  </thead>\n  <tbody>\n    <tr>\n      <th>0</th>\n      <td>985</td>\n    </tr>\n  </tbody>\n</table>\n</div>"
     },
     "execution_count": 150,
     "metadata": {},
     "output_type": "execute_result"
    }
   ],
   "source": [
    "query = \"SELECT COUNT (uid) AS 'cnt' FROM pageviews WHERE uid IN (SELECT uid FROM checker WHERE status='ready' AND numTrials='1' AND labname IN ('laba04', 'laba04s', 'laba05', 'laba06', 'laba06s', 'project1'));\"\n",
    "df = pd.io.sql.read_sql(query, con, columns='cnt')\n",
    "df"
   ],
   "metadata": {
    "collapsed": false
   }
  },
  {
   "cell_type": "markdown",
   "source": [
    "## close the connection"
   ],
   "metadata": {
    "collapsed": false
   }
  },
  {
   "cell_type": "code",
   "execution_count": 151,
   "outputs": [],
   "source": [
    "con.close()"
   ],
   "metadata": {
    "collapsed": false
   }
  }
 ],
 "metadata": {
  "kernelspec": {
   "display_name": "Python 3",
   "language": "python",
   "name": "python3"
  },
  "language_info": {
   "codemirror_mode": {
    "name": "ipython",
    "version": 2
   },
   "file_extension": ".py",
   "mimetype": "text/x-python",
   "name": "python",
   "nbconvert_exporter": "python",
   "pygments_lexer": "ipython2",
   "version": "2.7.6"
  }
 },
 "nbformat": 4,
 "nbformat_minor": 0
}
