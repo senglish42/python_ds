{
 "cells": [
  {
   "cell_type": "code",
   "execution_count": 1478,
   "metadata": {
    "collapsed": true
   },
   "outputs": [],
   "source": [
    "import pandas as pd\n",
    "import sqlite3"
   ]
  },
  {
   "cell_type": "markdown",
   "source": [
    "## create a connection to the database using the library sqlite3"
   ],
   "metadata": {
    "collapsed": false
   }
  },
  {
   "cell_type": "code",
   "execution_count": 1479,
   "outputs": [],
   "source": [
    "con = sqlite3.connect(\"../data/checking-logs.sqlite.sqlite copy\")"
   ],
   "metadata": {
    "collapsed": false
   }
  },
  {
   "cell_type": "markdown",
   "source": [
    "## get the schema of the table test"
   ],
   "metadata": {
    "collapsed": false
   }
  },
  {
   "cell_type": "code",
   "execution_count": 1480,
   "outputs": [
    {
     "data": {
      "text/plain": "   cid             name       type  notnull dflt_value  pk\n0    0              uid       TEXT        0       None   0\n1    1          labname       TEXT        0       None   0\n2    2  first_commit_ts  TIMESTAMP        0       None   0\n3    3    first_view_ts  TIMESTAMP        0       None   0",
      "text/html": "<div>\n<style scoped>\n    .dataframe tbody tr th:only-of-type {\n        vertical-align: middle;\n    }\n\n    .dataframe tbody tr th {\n        vertical-align: top;\n    }\n\n    .dataframe thead th {\n        text-align: right;\n    }\n</style>\n<table border=\"1\" class=\"dataframe\">\n  <thead>\n    <tr style=\"text-align: right;\">\n      <th></th>\n      <th>cid</th>\n      <th>name</th>\n      <th>type</th>\n      <th>notnull</th>\n      <th>dflt_value</th>\n      <th>pk</th>\n    </tr>\n  </thead>\n  <tbody>\n    <tr>\n      <th>0</th>\n      <td>0</td>\n      <td>uid</td>\n      <td>TEXT</td>\n      <td>0</td>\n      <td>None</td>\n      <td>0</td>\n    </tr>\n    <tr>\n      <th>1</th>\n      <td>1</td>\n      <td>labname</td>\n      <td>TEXT</td>\n      <td>0</td>\n      <td>None</td>\n      <td>0</td>\n    </tr>\n    <tr>\n      <th>2</th>\n      <td>2</td>\n      <td>first_commit_ts</td>\n      <td>TIMESTAMP</td>\n      <td>0</td>\n      <td>None</td>\n      <td>0</td>\n    </tr>\n    <tr>\n      <th>3</th>\n      <td>3</td>\n      <td>first_view_ts</td>\n      <td>TIMESTAMP</td>\n      <td>0</td>\n      <td>None</td>\n      <td>0</td>\n    </tr>\n  </tbody>\n</table>\n</div>"
     },
     "execution_count": 1480,
     "metadata": {},
     "output_type": "execute_result"
    }
   ],
   "source": [
    "pd.io.sql.read_sql(\"PRAGMA table_info(test);\", con)"
   ],
   "metadata": {
    "collapsed": false
   }
  },
  {
   "cell_type": "markdown",
   "source": [
    "## get only the first 10 rows of the table test to check what the table looks like"
   ],
   "metadata": {
    "collapsed": false
   }
  },
  {
   "cell_type": "code",
   "execution_count": 1481,
   "outputs": [
    {
     "data": {
      "text/plain": "       uid   labname             first_commit_ts               first_view_ts\n0   user_1    laba04  2020-04-26 17:06:18.462708  2020-04-26 21:53:59.624136\n1   user_1   laba04s  2020-04-26 17:12:11.843671  2020-04-26 21:53:59.624136\n2   user_1    laba05  2020-05-02 19:15:18.540185  2020-04-26 21:53:59.624136\n3   user_1    laba06  2020-05-17 16:26:35.268534  2020-04-26 21:53:59.624136\n4   user_1   laba06s  2020-05-20 12:23:37.289724  2020-04-26 21:53:59.624136\n5   user_1  project1  2020-05-14 20:56:08.898880  2020-04-26 21:53:59.624136\n6  user_10    laba04  2020-04-25 08:24:52.696624  2020-04-18 12:19:50.182714\n7  user_10   laba04s  2020-04-25 08:37:54.604222  2020-04-18 12:19:50.182714\n8  user_10    laba05  2020-05-01 19:27:26.063245  2020-04-18 12:19:50.182714\n9  user_10    laba06  2020-05-19 11:39:28.885637  2020-04-18 12:19:50.182714",
      "text/html": "<div>\n<style scoped>\n    .dataframe tbody tr th:only-of-type {\n        vertical-align: middle;\n    }\n\n    .dataframe tbody tr th {\n        vertical-align: top;\n    }\n\n    .dataframe thead th {\n        text-align: right;\n    }\n</style>\n<table border=\"1\" class=\"dataframe\">\n  <thead>\n    <tr style=\"text-align: right;\">\n      <th></th>\n      <th>uid</th>\n      <th>labname</th>\n      <th>first_commit_ts</th>\n      <th>first_view_ts</th>\n    </tr>\n  </thead>\n  <tbody>\n    <tr>\n      <th>0</th>\n      <td>user_1</td>\n      <td>laba04</td>\n      <td>2020-04-26 17:06:18.462708</td>\n      <td>2020-04-26 21:53:59.624136</td>\n    </tr>\n    <tr>\n      <th>1</th>\n      <td>user_1</td>\n      <td>laba04s</td>\n      <td>2020-04-26 17:12:11.843671</td>\n      <td>2020-04-26 21:53:59.624136</td>\n    </tr>\n    <tr>\n      <th>2</th>\n      <td>user_1</td>\n      <td>laba05</td>\n      <td>2020-05-02 19:15:18.540185</td>\n      <td>2020-04-26 21:53:59.624136</td>\n    </tr>\n    <tr>\n      <th>3</th>\n      <td>user_1</td>\n      <td>laba06</td>\n      <td>2020-05-17 16:26:35.268534</td>\n      <td>2020-04-26 21:53:59.624136</td>\n    </tr>\n    <tr>\n      <th>4</th>\n      <td>user_1</td>\n      <td>laba06s</td>\n      <td>2020-05-20 12:23:37.289724</td>\n      <td>2020-04-26 21:53:59.624136</td>\n    </tr>\n    <tr>\n      <th>5</th>\n      <td>user_1</td>\n      <td>project1</td>\n      <td>2020-05-14 20:56:08.898880</td>\n      <td>2020-04-26 21:53:59.624136</td>\n    </tr>\n    <tr>\n      <th>6</th>\n      <td>user_10</td>\n      <td>laba04</td>\n      <td>2020-04-25 08:24:52.696624</td>\n      <td>2020-04-18 12:19:50.182714</td>\n    </tr>\n    <tr>\n      <th>7</th>\n      <td>user_10</td>\n      <td>laba04s</td>\n      <td>2020-04-25 08:37:54.604222</td>\n      <td>2020-04-18 12:19:50.182714</td>\n    </tr>\n    <tr>\n      <th>8</th>\n      <td>user_10</td>\n      <td>laba05</td>\n      <td>2020-05-01 19:27:26.063245</td>\n      <td>2020-04-18 12:19:50.182714</td>\n    </tr>\n    <tr>\n      <th>9</th>\n      <td>user_10</td>\n      <td>laba06</td>\n      <td>2020-05-19 11:39:28.885637</td>\n      <td>2020-04-18 12:19:50.182714</td>\n    </tr>\n  </tbody>\n</table>\n</div>"
     },
     "execution_count": 1481,
     "metadata": {},
     "output_type": "execute_result"
    }
   ],
   "source": [
    "pd.io.sql.read_sql(\"SELECT * FROM test LIMIT 10\", con)"
   ],
   "metadata": {
    "collapsed": false
   }
  },
  {
   "cell_type": "markdown",
   "source": [
    "## find among all the users the minimum value of the delta between the first commit of the user and the deadline of the corresponding lab using only one query"
   ],
   "metadata": {
    "collapsed": false
   }
  },
  {
   "cell_type": "code",
   "execution_count": 1482,
   "outputs": [
    {
     "data": {
      "text/plain": "   index      labs   deadlines\n0      0    laba04  1587945599\n1      1   laba04s  1587945599\n2      2    laba05  1588550399\n3      4    laba06  1590364799\n4      5   laba06s  1590364799\n5      3  project1  1589673599",
      "text/html": "<div>\n<style scoped>\n    .dataframe tbody tr th:only-of-type {\n        vertical-align: middle;\n    }\n\n    .dataframe tbody tr th {\n        vertical-align: top;\n    }\n\n    .dataframe thead th {\n        text-align: right;\n    }\n</style>\n<table border=\"1\" class=\"dataframe\">\n  <thead>\n    <tr style=\"text-align: right;\">\n      <th></th>\n      <th>index</th>\n      <th>labs</th>\n      <th>deadlines</th>\n    </tr>\n  </thead>\n  <tbody>\n    <tr>\n      <th>0</th>\n      <td>0</td>\n      <td>laba04</td>\n      <td>1587945599</td>\n    </tr>\n    <tr>\n      <th>1</th>\n      <td>1</td>\n      <td>laba04s</td>\n      <td>1587945599</td>\n    </tr>\n    <tr>\n      <th>2</th>\n      <td>2</td>\n      <td>laba05</td>\n      <td>1588550399</td>\n    </tr>\n    <tr>\n      <th>3</th>\n      <td>4</td>\n      <td>laba06</td>\n      <td>1590364799</td>\n    </tr>\n    <tr>\n      <th>4</th>\n      <td>5</td>\n      <td>laba06s</td>\n      <td>1590364799</td>\n    </tr>\n    <tr>\n      <th>5</th>\n      <td>3</td>\n      <td>project1</td>\n      <td>1589673599</td>\n    </tr>\n  </tbody>\n</table>\n</div>"
     },
     "execution_count": 1482,
     "metadata": {},
     "output_type": "execute_result"
    }
   ],
   "source": [
    "pd.io.sql.read_sql(\"SELECT * FROM deadlines LIMIT 10\", con)"
   ],
   "metadata": {
    "collapsed": false
   }
  },
  {
   "cell_type": "code",
   "execution_count": 1483,
   "outputs": [
    {
     "data": {
      "text/plain": "         min_diff\nuid              \nuser_30      -202",
      "text/html": "<div>\n<style scoped>\n    .dataframe tbody tr th:only-of-type {\n        vertical-align: middle;\n    }\n\n    .dataframe tbody tr th {\n        vertical-align: top;\n    }\n\n    .dataframe thead th {\n        text-align: right;\n    }\n</style>\n<table border=\"1\" class=\"dataframe\">\n  <thead>\n    <tr style=\"text-align: right;\">\n      <th></th>\n      <th>min_diff</th>\n    </tr>\n    <tr>\n      <th>uid</th>\n      <th></th>\n    </tr>\n  </thead>\n  <tbody>\n    <tr>\n      <th>user_30</th>\n      <td>-202</td>\n    </tr>\n  </tbody>\n</table>\n</div>"
     },
     "execution_count": 1483,
     "metadata": {},
     "output_type": "execute_result"
    }
   ],
   "source": [
    "query = \"SELECT t.uid, MIN((strftime('%s', t.first_commit_ts)) - d.deadlines) / 3600 AS 'min_diff' \" \\\n",
    "        \"FROM test t LEFT JOIN deadlines d ON d.labs=t.labname WHERE t.labname IS NOT 'project1'\"\n",
    "df_min = pd.io.sql.read_sql(query, con, parse_dates=['first_commit_ts', 'first_view_ts'], index_col='uid')\n",
    "df_min"
   ],
   "metadata": {
    "collapsed": false
   }
  },
  {
   "cell_type": "markdown",
   "source": [
    "## do the same thing, but for the maximum, using only one query, the dataframe name is df_max"
   ],
   "metadata": {
    "collapsed": false
   }
  },
  {
   "cell_type": "code",
   "execution_count": 1484,
   "outputs": [
    {
     "data": {
      "text/plain": "         max_diff\nuid              \nuser_25        -2",
      "text/html": "<div>\n<style scoped>\n    .dataframe tbody tr th:only-of-type {\n        vertical-align: middle;\n    }\n\n    .dataframe tbody tr th {\n        vertical-align: top;\n    }\n\n    .dataframe thead th {\n        text-align: right;\n    }\n</style>\n<table border=\"1\" class=\"dataframe\">\n  <thead>\n    <tr style=\"text-align: right;\">\n      <th></th>\n      <th>max_diff</th>\n    </tr>\n    <tr>\n      <th>uid</th>\n      <th></th>\n    </tr>\n  </thead>\n  <tbody>\n    <tr>\n      <th>user_25</th>\n      <td>-2</td>\n    </tr>\n  </tbody>\n</table>\n</div>"
     },
     "execution_count": 1484,
     "metadata": {},
     "output_type": "execute_result"
    }
   ],
   "source": [
    "query = \"SELECT t.uid, MAX((strftime('%s', t.first_commit_ts)) - d.deadlines) / 3600 AS 'max_diff' \" \\\n",
    "        \"FROM test t LEFT JOIN deadlines d ON d.labs=t.labname WHERE t.labname IS NOT 'project1'\"\n",
    "df_max = pd.io.sql.read_sql(query, con, parse_dates=['first_commit_ts', 'first_view_ts'], index_col='uid')\n",
    "df_max"
   ],
   "metadata": {
    "collapsed": false
   }
  },
  {
   "cell_type": "markdown",
   "source": [
    "## do the same thing but for the average, using only one query, this time your dataframe should not include the uid column, and the dataframe name is df_avg"
   ],
   "metadata": {
    "collapsed": false
   }
  },
  {
   "cell_type": "code",
   "execution_count": 1485,
   "outputs": [
    {
     "data": {
      "text/plain": "    avg_diff\n0 -89.687841",
      "text/html": "<div>\n<style scoped>\n    .dataframe tbody tr th:only-of-type {\n        vertical-align: middle;\n    }\n\n    .dataframe tbody tr th {\n        vertical-align: top;\n    }\n\n    .dataframe thead th {\n        text-align: right;\n    }\n</style>\n<table border=\"1\" class=\"dataframe\">\n  <thead>\n    <tr style=\"text-align: right;\">\n      <th></th>\n      <th>avg_diff</th>\n    </tr>\n  </thead>\n  <tbody>\n    <tr>\n      <th>0</th>\n      <td>-89.687841</td>\n    </tr>\n  </tbody>\n</table>\n</div>"
     },
     "execution_count": 1485,
     "metadata": {},
     "output_type": "execute_result"
    }
   ],
   "source": [
    "query = \"SELECT AVG((strftime('%s', t.first_commit_ts)) - d.deadlines) / 3600 AS 'avg_diff' \" \\\n",
    "        \"FROM test t LEFT JOIN deadlines d ON d.labs=t.labname WHERE t.labname IS NOT 'project1'\"\n",
    "df_avg = pd.io.sql.read_sql(query, con, parse_dates=['first_commit_ts', 'first_view_ts'])\n",
    "df_avg"
   ],
   "metadata": {
    "collapsed": false
   }
  },
  {
   "cell_type": "markdown",
   "source": [
    "## we want to test the hypothesis that the users who visited the newsfeed just a few times have the lower delta between the first commit and the deadline. To do this, you need to calculate the correlation coefficient between the number of pageviews and the difference"
   ],
   "metadata": {
    "collapsed": false
   }
  },
  {
   "cell_type": "code",
   "execution_count": 1486,
   "outputs": [
    {
     "name": "stderr",
     "output_type": "stream",
     "text": [
      "/home/senglish/dataScience/day06/senglish/lib/python3.10/site-packages/IPython/core/displayhook.py:275: UserWarning: Output cache limit (currently 1000 entries) hit.\n",
      "Flushing oldest 200 entries.\n",
      "  warn('Output cache limit (currently {sz} entries) hit.\\n'\n"
     ]
    },
    {
     "data": {
      "text/plain": "           avg_diff  pageviews\navg_diff   1.000000  -0.279143\npageviews -0.279143   1.000000",
      "text/html": "<div>\n<style scoped>\n    .dataframe tbody tr th:only-of-type {\n        vertical-align: middle;\n    }\n\n    .dataframe tbody tr th {\n        vertical-align: top;\n    }\n\n    .dataframe thead th {\n        text-align: right;\n    }\n</style>\n<table border=\"1\" class=\"dataframe\">\n  <thead>\n    <tr style=\"text-align: right;\">\n      <th></th>\n      <th>avg_diff</th>\n      <th>pageviews</th>\n    </tr>\n  </thead>\n  <tbody>\n    <tr>\n      <th>avg_diff</th>\n      <td>1.000000</td>\n      <td>-0.279143</td>\n    </tr>\n    <tr>\n      <th>pageviews</th>\n      <td>-0.279143</td>\n      <td>1.000000</td>\n    </tr>\n  </tbody>\n</table>\n</div>"
     },
     "execution_count": 1486,
     "metadata": {},
     "output_type": "execute_result"
    }
   ],
   "source": [
    "query = \"\"\"SELECT t.uid, AVG((strftime('%s', t.first_commit_ts)) - d.deadlines) / 3600 AS 'avg_diff', pageviews\n",
    "                FROM test t LEFT JOIN deadlines d ON d.labs=t.labname\n",
    "                JOIN (SELECT uid, COUNT(datetime) AS 'pageviews' FROM pageviews WHERE uid IN (SELECT uid FROM checker WHERE status='ready' AND numTrials='1' AND labname IN ('laba04', 'laba04s', 'laba05', 'laba06', 'laba06s', 'project1')) GROUP BY uid) AS m ON t.uid=m.uid\n",
    "                WHERE t.labname IS NOT 'project1'\n",
    "                GROUP BY t.uid\"\"\"\n",
    "views_diff = pd.io.sql.read_sql(query, con, parse_dates='datetime')\n",
    "views_diff.corr(numeric_only=True)"
   ],
   "metadata": {
    "collapsed": false
   }
  },
  {
   "cell_type": "markdown",
   "source": [
    "## close the connection"
   ],
   "metadata": {
    "collapsed": false
   }
  },
  {
   "cell_type": "code",
   "execution_count": 1487,
   "outputs": [],
   "source": [
    "con.close()"
   ],
   "metadata": {
    "collapsed": false
   }
  }
 ],
 "metadata": {
  "kernelspec": {
   "display_name": "Python 3",
   "language": "python",
   "name": "python3"
  },
  "language_info": {
   "codemirror_mode": {
    "name": "ipython",
    "version": 2
   },
   "file_extension": ".py",
   "mimetype": "text/x-python",
   "name": "python",
   "nbconvert_exporter": "python",
   "pygments_lexer": "ipython2",
   "version": "2.7.6"
  }
 },
 "nbformat": 4,
 "nbformat_minor": 0
}
