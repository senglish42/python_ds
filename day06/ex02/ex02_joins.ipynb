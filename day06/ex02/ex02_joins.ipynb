{
 "cells": [
  {
   "cell_type": "code",
   "execution_count": 25,
   "metadata": {
    "collapsed": true
   },
   "outputs": [],
   "source": [
    "import pandas as pd\n",
    "import sqlite3"
   ]
  },
  {
   "cell_type": "markdown",
   "source": [
    "## create a connection to the database using the library sqlite3"
   ],
   "metadata": {
    "collapsed": false
   }
  },
  {
   "cell_type": "code",
   "execution_count": 26,
   "outputs": [
    {
     "data": {
      "text/plain": "    index      uid   labname             first_commit_ts  \\\n0      12  user_11    laba05  2020-05-03 21:06:55.970293   \n1      13  user_11  project1  2020-05-03 23:45:33.673409   \n2      14  user_12    laba04  2020-04-18 17:07:51.767358   \n3      15  user_12   laba04s  2020-04-26 15:42:38.070593   \n4      16  user_12    laba05  2020-05-03 08:39:25.174316   \n..    ...      ...       ...                         ...   \n76    135   user_8   laba04s  2020-04-19 10:22:35.761944   \n77    136   user_8    laba05  2020-05-02 13:28:07.705193   \n78    137   user_8    laba06  2020-05-16 17:56:15.755553   \n79    138   user_8   laba06s  2020-05-16 20:01:07.900727   \n80    139   user_8  project1  2020-05-14 15:42:04.002981   \n\n                 first_view_ts  \n0   2020-04-27 00:40:05.761783  \n1   2020-04-27 00:40:05.761783  \n2   2020-04-27 00:40:05.761783  \n3   2020-04-27 00:40:05.761783  \n4   2020-04-27 00:40:05.761783  \n..                         ...  \n76  2020-04-27 00:40:05.761783  \n77  2020-04-27 00:40:05.761783  \n78  2020-04-27 00:40:05.761783  \n79  2020-04-27 00:40:05.761783  \n80  2020-04-27 00:40:05.761783  \n\n[81 rows x 5 columns]",
      "text/html": "<div>\n<style scoped>\n    .dataframe tbody tr th:only-of-type {\n        vertical-align: middle;\n    }\n\n    .dataframe tbody tr th {\n        vertical-align: top;\n    }\n\n    .dataframe thead th {\n        text-align: right;\n    }\n</style>\n<table border=\"1\" class=\"dataframe\">\n  <thead>\n    <tr style=\"text-align: right;\">\n      <th></th>\n      <th>index</th>\n      <th>uid</th>\n      <th>labname</th>\n      <th>first_commit_ts</th>\n      <th>first_view_ts</th>\n    </tr>\n  </thead>\n  <tbody>\n    <tr>\n      <th>0</th>\n      <td>12</td>\n      <td>user_11</td>\n      <td>laba05</td>\n      <td>2020-05-03 21:06:55.970293</td>\n      <td>2020-04-27 00:40:05.761783</td>\n    </tr>\n    <tr>\n      <th>1</th>\n      <td>13</td>\n      <td>user_11</td>\n      <td>project1</td>\n      <td>2020-05-03 23:45:33.673409</td>\n      <td>2020-04-27 00:40:05.761783</td>\n    </tr>\n    <tr>\n      <th>2</th>\n      <td>14</td>\n      <td>user_12</td>\n      <td>laba04</td>\n      <td>2020-04-18 17:07:51.767358</td>\n      <td>2020-04-27 00:40:05.761783</td>\n    </tr>\n    <tr>\n      <th>3</th>\n      <td>15</td>\n      <td>user_12</td>\n      <td>laba04s</td>\n      <td>2020-04-26 15:42:38.070593</td>\n      <td>2020-04-27 00:40:05.761783</td>\n    </tr>\n    <tr>\n      <th>4</th>\n      <td>16</td>\n      <td>user_12</td>\n      <td>laba05</td>\n      <td>2020-05-03 08:39:25.174316</td>\n      <td>2020-04-27 00:40:05.761783</td>\n    </tr>\n    <tr>\n      <th>...</th>\n      <td>...</td>\n      <td>...</td>\n      <td>...</td>\n      <td>...</td>\n      <td>...</td>\n    </tr>\n    <tr>\n      <th>76</th>\n      <td>135</td>\n      <td>user_8</td>\n      <td>laba04s</td>\n      <td>2020-04-19 10:22:35.761944</td>\n      <td>2020-04-27 00:40:05.761783</td>\n    </tr>\n    <tr>\n      <th>77</th>\n      <td>136</td>\n      <td>user_8</td>\n      <td>laba05</td>\n      <td>2020-05-02 13:28:07.705193</td>\n      <td>2020-04-27 00:40:05.761783</td>\n    </tr>\n    <tr>\n      <th>78</th>\n      <td>137</td>\n      <td>user_8</td>\n      <td>laba06</td>\n      <td>2020-05-16 17:56:15.755553</td>\n      <td>2020-04-27 00:40:05.761783</td>\n    </tr>\n    <tr>\n      <th>79</th>\n      <td>138</td>\n      <td>user_8</td>\n      <td>laba06s</td>\n      <td>2020-05-16 20:01:07.900727</td>\n      <td>2020-04-27 00:40:05.761783</td>\n    </tr>\n    <tr>\n      <th>80</th>\n      <td>139</td>\n      <td>user_8</td>\n      <td>project1</td>\n      <td>2020-05-14 15:42:04.002981</td>\n      <td>2020-04-27 00:40:05.761783</td>\n    </tr>\n  </tbody>\n</table>\n<p>81 rows × 5 columns</p>\n</div>"
     },
     "execution_count": 26,
     "metadata": {},
     "output_type": "execute_result"
    }
   ],
   "source": [
    "con = sqlite3.connect(\"../data/checking-logs.sqlite.sqlite copy\")"
   ],
   "metadata": {
    "collapsed": false
   }
  },
  {
   "cell_type": "markdown",
   "source": [
    "## create a new table datamart in the database by joining the tables pageviews and checker using only one query"
   ],
   "metadata": {
    "collapsed": false
   }
  },
  {
   "cell_type": "code",
   "execution_count": 27,
   "outputs": [
    {
     "data": {
      "text/plain": "        uid   labname            first_commit_ts              first_view_ts\n0    user_1    laba04 2020-04-26 17:06:18.462708 2020-04-26 21:53:59.624136\n1    user_1   laba04s 2020-04-26 17:12:11.843671 2020-04-26 21:53:59.624136\n2    user_1    laba05 2020-05-02 19:15:18.540185 2020-04-26 21:53:59.624136\n3    user_1    laba06 2020-05-17 16:26:35.268534 2020-04-26 21:53:59.624136\n4    user_1   laba06s 2020-05-20 12:23:37.289724 2020-04-26 21:53:59.624136\n..      ...       ...                        ...                        ...\n135  user_8   laba04s 2020-04-19 10:22:35.761944                        NaT\n136  user_8    laba05 2020-05-02 13:28:07.705193                        NaT\n137  user_8    laba06 2020-05-16 17:56:15.755553                        NaT\n138  user_8   laba06s 2020-05-16 20:01:07.900727                        NaT\n139  user_8  project1 2020-05-14 15:42:04.002981                        NaT\n\n[140 rows x 4 columns]",
      "text/html": "<div>\n<style scoped>\n    .dataframe tbody tr th:only-of-type {\n        vertical-align: middle;\n    }\n\n    .dataframe tbody tr th {\n        vertical-align: top;\n    }\n\n    .dataframe thead th {\n        text-align: right;\n    }\n</style>\n<table border=\"1\" class=\"dataframe\">\n  <thead>\n    <tr style=\"text-align: right;\">\n      <th></th>\n      <th>uid</th>\n      <th>labname</th>\n      <th>first_commit_ts</th>\n      <th>first_view_ts</th>\n    </tr>\n  </thead>\n  <tbody>\n    <tr>\n      <th>0</th>\n      <td>user_1</td>\n      <td>laba04</td>\n      <td>2020-04-26 17:06:18.462708</td>\n      <td>2020-04-26 21:53:59.624136</td>\n    </tr>\n    <tr>\n      <th>1</th>\n      <td>user_1</td>\n      <td>laba04s</td>\n      <td>2020-04-26 17:12:11.843671</td>\n      <td>2020-04-26 21:53:59.624136</td>\n    </tr>\n    <tr>\n      <th>2</th>\n      <td>user_1</td>\n      <td>laba05</td>\n      <td>2020-05-02 19:15:18.540185</td>\n      <td>2020-04-26 21:53:59.624136</td>\n    </tr>\n    <tr>\n      <th>3</th>\n      <td>user_1</td>\n      <td>laba06</td>\n      <td>2020-05-17 16:26:35.268534</td>\n      <td>2020-04-26 21:53:59.624136</td>\n    </tr>\n    <tr>\n      <th>4</th>\n      <td>user_1</td>\n      <td>laba06s</td>\n      <td>2020-05-20 12:23:37.289724</td>\n      <td>2020-04-26 21:53:59.624136</td>\n    </tr>\n    <tr>\n      <th>...</th>\n      <td>...</td>\n      <td>...</td>\n      <td>...</td>\n      <td>...</td>\n    </tr>\n    <tr>\n      <th>135</th>\n      <td>user_8</td>\n      <td>laba04s</td>\n      <td>2020-04-19 10:22:35.761944</td>\n      <td>NaT</td>\n    </tr>\n    <tr>\n      <th>136</th>\n      <td>user_8</td>\n      <td>laba05</td>\n      <td>2020-05-02 13:28:07.705193</td>\n      <td>NaT</td>\n    </tr>\n    <tr>\n      <th>137</th>\n      <td>user_8</td>\n      <td>laba06</td>\n      <td>2020-05-16 17:56:15.755553</td>\n      <td>NaT</td>\n    </tr>\n    <tr>\n      <th>138</th>\n      <td>user_8</td>\n      <td>laba06s</td>\n      <td>2020-05-16 20:01:07.900727</td>\n      <td>NaT</td>\n    </tr>\n    <tr>\n      <th>139</th>\n      <td>user_8</td>\n      <td>project1</td>\n      <td>2020-05-14 15:42:04.002981</td>\n      <td>NaT</td>\n    </tr>\n  </tbody>\n</table>\n<p>140 rows × 4 columns</p>\n</div>"
     },
     "execution_count": 27,
     "metadata": {},
     "output_type": "execute_result"
    }
   ],
   "source": [
    "query = \"SELECT c.uid, c.labname, c.timestamp AS 'first_commit_ts', p.datetime AS 'first_view_ts' \" \\\n",
    "        \"FROM checker c LEFT JOIN pageviews p USING (uid) \" \\\n",
    "        \"WHERE c.status='ready' AND c.numTrials='1' AND labname IN ('laba04', 'laba04s', 'laba05', 'laba06', 'laba06s', 'project1') AND c.uid LIKE 'user_%' \" \\\n",
    "        \"GROUP BY c.uid, c.labname ORDER BY uid ASC;\"\n",
    "datamart = pd.io.sql.read_sql(query, con, parse_dates=['first_commit_ts', 'first_view_ts'])\n",
    "datamart"
   ],
   "metadata": {
    "collapsed": false
   }
  },
  {
   "cell_type": "markdown",
   "source": [
    "## using Pandas methods, create two dataframes: test and control"
   ],
   "metadata": {
    "collapsed": false
   }
  },
  {
   "cell_type": "code",
   "execution_count": 28,
   "outputs": [
    {
     "name": "stdout",
     "output_type": "stream",
     "text": [
      "test should have the users that have the values in first_view_ts:\n"
     ]
    },
    {
     "data": {
      "text/plain": "         uid   labname            first_commit_ts              first_view_ts\n0     user_1    laba04 2020-04-26 17:06:18.462708 2020-04-26 21:53:59.624136\n1     user_1   laba04s 2020-04-26 17:12:11.843671 2020-04-26 21:53:59.624136\n2     user_1    laba05 2020-05-02 19:15:18.540185 2020-04-26 21:53:59.624136\n3     user_1    laba06 2020-05-17 16:26:35.268534 2020-04-26 21:53:59.624136\n4     user_1   laba06s 2020-05-20 12:23:37.289724 2020-04-26 21:53:59.624136\n5     user_1  project1 2020-05-14 20:56:08.898880 2020-04-26 21:53:59.624136\n6    user_10    laba04 2020-04-25 08:24:52.696624 2020-04-18 12:19:50.182714\n7    user_10   laba04s 2020-04-25 08:37:54.604222 2020-04-18 12:19:50.182714\n8    user_10    laba05 2020-05-01 19:27:26.063245 2020-04-18 12:19:50.182714\n9    user_10    laba06 2020-05-19 11:39:28.885637 2020-04-18 12:19:50.182714\n10   user_10   laba06s 2020-05-20 07:37:31.175817 2020-04-18 12:19:50.182714\n11   user_10  project1 2020-05-12 20:12:28.056618 2020-04-18 12:19:50.182714\n24   user_14    laba04 2020-04-18 15:14:00.312338 2020-04-18 10:53:52.623447\n25   user_14   laba04s 2020-04-18 22:30:30.247628 2020-04-18 10:53:52.623447\n26   user_14    laba05 2020-04-30 11:33:04.523118 2020-04-18 10:53:52.623447\n27   user_14  project1 2020-05-05 21:35:43.554986 2020-04-18 10:53:52.623447\n34   user_17    laba04 2020-04-23 14:24:29.947554 2020-04-18 10:56:55.833899\n35   user_17   laba04s 2020-04-25 12:10:56.414175 2020-04-18 10:56:55.833899\n36   user_17    laba05 2020-05-02 13:21:24.045876 2020-04-18 10:56:55.833899\n37   user_17    laba06 2020-05-21 15:21:31.567615 2020-04-18 10:56:55.833899\n38   user_17   laba06s 2020-05-21 17:39:17.783615 2020-04-18 10:56:55.833899\n39   user_17  project1 2020-04-18 07:56:45.408648 2020-04-18 10:56:55.833899\n40   user_18    laba04 2020-04-26 19:48:11.822365 2020-04-26 22:49:29.243278\n41   user_18   laba04s 2020-04-26 20:03:56.935458 2020-04-26 22:49:29.243278\n42   user_18    laba05 2020-05-03 13:01:34.848756 2020-04-26 22:49:29.243278\n43   user_18  project1 2020-05-11 10:10:04.166881 2020-04-26 22:49:29.243278\n44   user_19    laba04 2020-04-20 19:05:01.297780 2020-04-21 20:30:38.034966\n45   user_19    laba05 2020-05-02 15:16:13.586405 2020-04-21 20:30:38.034966\n46   user_19    laba06 2020-05-19 10:25:54.121465 2020-04-21 20:30:38.034966\n47   user_19   laba06s 2020-05-21 13:27:06.705881 2020-04-21 20:30:38.034966\n48   user_19  project1 2020-05-14 10:33:45.495389 2020-04-21 20:30:38.034966\n59   user_21    laba04 2020-04-21 17:48:00.487806 2020-04-22 22:40:36.824081\n60   user_21   laba04s 2020-04-22 20:09:21.857747 2020-04-22 22:40:36.824081\n61   user_21    laba05 2020-05-02 14:05:40.013959 2020-04-22 22:40:36.824081\n62   user_21    laba06 2020-05-19 19:30:14.644328 2020-04-22 22:40:36.824081\n63   user_21  project1 2020-05-10 15:21:05.442755 2020-04-22 22:40:36.824081\n78   user_25    laba04 2020-04-20 19:16:50.673054 2020-05-09 23:54:54.260791\n79   user_25   laba04s 2020-04-26 21:07:56.952117 2020-05-09 23:54:54.260791\n80   user_25    laba05 2020-05-01 13:02:27.357650 2020-05-09 23:54:54.260791\n81   user_25    laba06 2020-05-18 17:07:47.988807 2020-05-09 23:54:54.260791\n82   user_25   laba06s 2020-05-20 14:02:26.512032 2020-05-09 23:54:54.260791\n83   user_25  project1 2020-05-08 11:10:28.100852 2020-05-09 23:54:54.260791\n92   user_28    laba04 2020-04-22 21:47:19.707242 2020-05-10 21:07:50.350946\n93   user_28   laba04s 2020-04-26 15:53:44.906136 2020-05-10 21:07:50.350946\n94   user_28    laba05 2020-05-01 18:29:11.968537 2020-05-10 21:07:50.350946\n95   user_28    laba06 2020-05-17 17:08:48.257050 2020-05-10 21:07:50.350946\n96   user_28   laba06s 2020-05-20 20:42:44.423160 2020-05-10 21:07:50.350946\n97   user_28  project1 2020-05-12 14:42:19.166414 2020-05-10 21:07:50.350946\n104   user_3    laba04 2020-04-23 20:29:14.054364 2020-05-08 10:53:47.123832\n105   user_3   laba04s 2020-04-23 20:40:26.883591 2020-05-08 10:53:47.123832\n106   user_3    laba05 2020-05-01 11:29:17.988118 2020-05-08 10:53:47.123832\n107   user_3    laba06 2020-05-17 09:56:40.480319 2020-05-08 10:53:47.123832\n108   user_3   laba06s 2020-05-19 08:42:50.851878 2020-05-08 10:53:47.123832\n109   user_3  project1 2020-05-07 21:02:52.885133 2020-05-08 10:53:47.123832\n110  user_30    laba04 2020-04-18 13:36:53.971502 2020-04-17 22:46:26.785035\n111  user_30   laba04s 2020-04-18 14:51:37.498399 2020-04-17 22:46:26.785035\n112  user_30    laba05 2020-05-01 19:31:18.375833 2020-04-17 22:46:26.785035\n113  user_30    laba06 2020-05-19 17:53:15.088248 2020-04-17 22:46:26.785035\n114  user_30  project1 2020-04-22 12:36:24.053518 2020-04-17 22:46:26.785035",
      "text/html": "<div>\n<style scoped>\n    .dataframe tbody tr th:only-of-type {\n        vertical-align: middle;\n    }\n\n    .dataframe tbody tr th {\n        vertical-align: top;\n    }\n\n    .dataframe thead th {\n        text-align: right;\n    }\n</style>\n<table border=\"1\" class=\"dataframe\">\n  <thead>\n    <tr style=\"text-align: right;\">\n      <th></th>\n      <th>uid</th>\n      <th>labname</th>\n      <th>first_commit_ts</th>\n      <th>first_view_ts</th>\n    </tr>\n  </thead>\n  <tbody>\n    <tr>\n      <th>0</th>\n      <td>user_1</td>\n      <td>laba04</td>\n      <td>2020-04-26 17:06:18.462708</td>\n      <td>2020-04-26 21:53:59.624136</td>\n    </tr>\n    <tr>\n      <th>1</th>\n      <td>user_1</td>\n      <td>laba04s</td>\n      <td>2020-04-26 17:12:11.843671</td>\n      <td>2020-04-26 21:53:59.624136</td>\n    </tr>\n    <tr>\n      <th>2</th>\n      <td>user_1</td>\n      <td>laba05</td>\n      <td>2020-05-02 19:15:18.540185</td>\n      <td>2020-04-26 21:53:59.624136</td>\n    </tr>\n    <tr>\n      <th>3</th>\n      <td>user_1</td>\n      <td>laba06</td>\n      <td>2020-05-17 16:26:35.268534</td>\n      <td>2020-04-26 21:53:59.624136</td>\n    </tr>\n    <tr>\n      <th>4</th>\n      <td>user_1</td>\n      <td>laba06s</td>\n      <td>2020-05-20 12:23:37.289724</td>\n      <td>2020-04-26 21:53:59.624136</td>\n    </tr>\n    <tr>\n      <th>5</th>\n      <td>user_1</td>\n      <td>project1</td>\n      <td>2020-05-14 20:56:08.898880</td>\n      <td>2020-04-26 21:53:59.624136</td>\n    </tr>\n    <tr>\n      <th>6</th>\n      <td>user_10</td>\n      <td>laba04</td>\n      <td>2020-04-25 08:24:52.696624</td>\n      <td>2020-04-18 12:19:50.182714</td>\n    </tr>\n    <tr>\n      <th>7</th>\n      <td>user_10</td>\n      <td>laba04s</td>\n      <td>2020-04-25 08:37:54.604222</td>\n      <td>2020-04-18 12:19:50.182714</td>\n    </tr>\n    <tr>\n      <th>8</th>\n      <td>user_10</td>\n      <td>laba05</td>\n      <td>2020-05-01 19:27:26.063245</td>\n      <td>2020-04-18 12:19:50.182714</td>\n    </tr>\n    <tr>\n      <th>9</th>\n      <td>user_10</td>\n      <td>laba06</td>\n      <td>2020-05-19 11:39:28.885637</td>\n      <td>2020-04-18 12:19:50.182714</td>\n    </tr>\n    <tr>\n      <th>10</th>\n      <td>user_10</td>\n      <td>laba06s</td>\n      <td>2020-05-20 07:37:31.175817</td>\n      <td>2020-04-18 12:19:50.182714</td>\n    </tr>\n    <tr>\n      <th>11</th>\n      <td>user_10</td>\n      <td>project1</td>\n      <td>2020-05-12 20:12:28.056618</td>\n      <td>2020-04-18 12:19:50.182714</td>\n    </tr>\n    <tr>\n      <th>24</th>\n      <td>user_14</td>\n      <td>laba04</td>\n      <td>2020-04-18 15:14:00.312338</td>\n      <td>2020-04-18 10:53:52.623447</td>\n    </tr>\n    <tr>\n      <th>25</th>\n      <td>user_14</td>\n      <td>laba04s</td>\n      <td>2020-04-18 22:30:30.247628</td>\n      <td>2020-04-18 10:53:52.623447</td>\n    </tr>\n    <tr>\n      <th>26</th>\n      <td>user_14</td>\n      <td>laba05</td>\n      <td>2020-04-30 11:33:04.523118</td>\n      <td>2020-04-18 10:53:52.623447</td>\n    </tr>\n    <tr>\n      <th>27</th>\n      <td>user_14</td>\n      <td>project1</td>\n      <td>2020-05-05 21:35:43.554986</td>\n      <td>2020-04-18 10:53:52.623447</td>\n    </tr>\n    <tr>\n      <th>34</th>\n      <td>user_17</td>\n      <td>laba04</td>\n      <td>2020-04-23 14:24:29.947554</td>\n      <td>2020-04-18 10:56:55.833899</td>\n    </tr>\n    <tr>\n      <th>35</th>\n      <td>user_17</td>\n      <td>laba04s</td>\n      <td>2020-04-25 12:10:56.414175</td>\n      <td>2020-04-18 10:56:55.833899</td>\n    </tr>\n    <tr>\n      <th>36</th>\n      <td>user_17</td>\n      <td>laba05</td>\n      <td>2020-05-02 13:21:24.045876</td>\n      <td>2020-04-18 10:56:55.833899</td>\n    </tr>\n    <tr>\n      <th>37</th>\n      <td>user_17</td>\n      <td>laba06</td>\n      <td>2020-05-21 15:21:31.567615</td>\n      <td>2020-04-18 10:56:55.833899</td>\n    </tr>\n    <tr>\n      <th>38</th>\n      <td>user_17</td>\n      <td>laba06s</td>\n      <td>2020-05-21 17:39:17.783615</td>\n      <td>2020-04-18 10:56:55.833899</td>\n    </tr>\n    <tr>\n      <th>39</th>\n      <td>user_17</td>\n      <td>project1</td>\n      <td>2020-04-18 07:56:45.408648</td>\n      <td>2020-04-18 10:56:55.833899</td>\n    </tr>\n    <tr>\n      <th>40</th>\n      <td>user_18</td>\n      <td>laba04</td>\n      <td>2020-04-26 19:48:11.822365</td>\n      <td>2020-04-26 22:49:29.243278</td>\n    </tr>\n    <tr>\n      <th>41</th>\n      <td>user_18</td>\n      <td>laba04s</td>\n      <td>2020-04-26 20:03:56.935458</td>\n      <td>2020-04-26 22:49:29.243278</td>\n    </tr>\n    <tr>\n      <th>42</th>\n      <td>user_18</td>\n      <td>laba05</td>\n      <td>2020-05-03 13:01:34.848756</td>\n      <td>2020-04-26 22:49:29.243278</td>\n    </tr>\n    <tr>\n      <th>43</th>\n      <td>user_18</td>\n      <td>project1</td>\n      <td>2020-05-11 10:10:04.166881</td>\n      <td>2020-04-26 22:49:29.243278</td>\n    </tr>\n    <tr>\n      <th>44</th>\n      <td>user_19</td>\n      <td>laba04</td>\n      <td>2020-04-20 19:05:01.297780</td>\n      <td>2020-04-21 20:30:38.034966</td>\n    </tr>\n    <tr>\n      <th>45</th>\n      <td>user_19</td>\n      <td>laba05</td>\n      <td>2020-05-02 15:16:13.586405</td>\n      <td>2020-04-21 20:30:38.034966</td>\n    </tr>\n    <tr>\n      <th>46</th>\n      <td>user_19</td>\n      <td>laba06</td>\n      <td>2020-05-19 10:25:54.121465</td>\n      <td>2020-04-21 20:30:38.034966</td>\n    </tr>\n    <tr>\n      <th>47</th>\n      <td>user_19</td>\n      <td>laba06s</td>\n      <td>2020-05-21 13:27:06.705881</td>\n      <td>2020-04-21 20:30:38.034966</td>\n    </tr>\n    <tr>\n      <th>48</th>\n      <td>user_19</td>\n      <td>project1</td>\n      <td>2020-05-14 10:33:45.495389</td>\n      <td>2020-04-21 20:30:38.034966</td>\n    </tr>\n    <tr>\n      <th>59</th>\n      <td>user_21</td>\n      <td>laba04</td>\n      <td>2020-04-21 17:48:00.487806</td>\n      <td>2020-04-22 22:40:36.824081</td>\n    </tr>\n    <tr>\n      <th>60</th>\n      <td>user_21</td>\n      <td>laba04s</td>\n      <td>2020-04-22 20:09:21.857747</td>\n      <td>2020-04-22 22:40:36.824081</td>\n    </tr>\n    <tr>\n      <th>61</th>\n      <td>user_21</td>\n      <td>laba05</td>\n      <td>2020-05-02 14:05:40.013959</td>\n      <td>2020-04-22 22:40:36.824081</td>\n    </tr>\n    <tr>\n      <th>62</th>\n      <td>user_21</td>\n      <td>laba06</td>\n      <td>2020-05-19 19:30:14.644328</td>\n      <td>2020-04-22 22:40:36.824081</td>\n    </tr>\n    <tr>\n      <th>63</th>\n      <td>user_21</td>\n      <td>project1</td>\n      <td>2020-05-10 15:21:05.442755</td>\n      <td>2020-04-22 22:40:36.824081</td>\n    </tr>\n    <tr>\n      <th>78</th>\n      <td>user_25</td>\n      <td>laba04</td>\n      <td>2020-04-20 19:16:50.673054</td>\n      <td>2020-05-09 23:54:54.260791</td>\n    </tr>\n    <tr>\n      <th>79</th>\n      <td>user_25</td>\n      <td>laba04s</td>\n      <td>2020-04-26 21:07:56.952117</td>\n      <td>2020-05-09 23:54:54.260791</td>\n    </tr>\n    <tr>\n      <th>80</th>\n      <td>user_25</td>\n      <td>laba05</td>\n      <td>2020-05-01 13:02:27.357650</td>\n      <td>2020-05-09 23:54:54.260791</td>\n    </tr>\n    <tr>\n      <th>81</th>\n      <td>user_25</td>\n      <td>laba06</td>\n      <td>2020-05-18 17:07:47.988807</td>\n      <td>2020-05-09 23:54:54.260791</td>\n    </tr>\n    <tr>\n      <th>82</th>\n      <td>user_25</td>\n      <td>laba06s</td>\n      <td>2020-05-20 14:02:26.512032</td>\n      <td>2020-05-09 23:54:54.260791</td>\n    </tr>\n    <tr>\n      <th>83</th>\n      <td>user_25</td>\n      <td>project1</td>\n      <td>2020-05-08 11:10:28.100852</td>\n      <td>2020-05-09 23:54:54.260791</td>\n    </tr>\n    <tr>\n      <th>92</th>\n      <td>user_28</td>\n      <td>laba04</td>\n      <td>2020-04-22 21:47:19.707242</td>\n      <td>2020-05-10 21:07:50.350946</td>\n    </tr>\n    <tr>\n      <th>93</th>\n      <td>user_28</td>\n      <td>laba04s</td>\n      <td>2020-04-26 15:53:44.906136</td>\n      <td>2020-05-10 21:07:50.350946</td>\n    </tr>\n    <tr>\n      <th>94</th>\n      <td>user_28</td>\n      <td>laba05</td>\n      <td>2020-05-01 18:29:11.968537</td>\n      <td>2020-05-10 21:07:50.350946</td>\n    </tr>\n    <tr>\n      <th>95</th>\n      <td>user_28</td>\n      <td>laba06</td>\n      <td>2020-05-17 17:08:48.257050</td>\n      <td>2020-05-10 21:07:50.350946</td>\n    </tr>\n    <tr>\n      <th>96</th>\n      <td>user_28</td>\n      <td>laba06s</td>\n      <td>2020-05-20 20:42:44.423160</td>\n      <td>2020-05-10 21:07:50.350946</td>\n    </tr>\n    <tr>\n      <th>97</th>\n      <td>user_28</td>\n      <td>project1</td>\n      <td>2020-05-12 14:42:19.166414</td>\n      <td>2020-05-10 21:07:50.350946</td>\n    </tr>\n    <tr>\n      <th>104</th>\n      <td>user_3</td>\n      <td>laba04</td>\n      <td>2020-04-23 20:29:14.054364</td>\n      <td>2020-05-08 10:53:47.123832</td>\n    </tr>\n    <tr>\n      <th>105</th>\n      <td>user_3</td>\n      <td>laba04s</td>\n      <td>2020-04-23 20:40:26.883591</td>\n      <td>2020-05-08 10:53:47.123832</td>\n    </tr>\n    <tr>\n      <th>106</th>\n      <td>user_3</td>\n      <td>laba05</td>\n      <td>2020-05-01 11:29:17.988118</td>\n      <td>2020-05-08 10:53:47.123832</td>\n    </tr>\n    <tr>\n      <th>107</th>\n      <td>user_3</td>\n      <td>laba06</td>\n      <td>2020-05-17 09:56:40.480319</td>\n      <td>2020-05-08 10:53:47.123832</td>\n    </tr>\n    <tr>\n      <th>108</th>\n      <td>user_3</td>\n      <td>laba06s</td>\n      <td>2020-05-19 08:42:50.851878</td>\n      <td>2020-05-08 10:53:47.123832</td>\n    </tr>\n    <tr>\n      <th>109</th>\n      <td>user_3</td>\n      <td>project1</td>\n      <td>2020-05-07 21:02:52.885133</td>\n      <td>2020-05-08 10:53:47.123832</td>\n    </tr>\n    <tr>\n      <th>110</th>\n      <td>user_30</td>\n      <td>laba04</td>\n      <td>2020-04-18 13:36:53.971502</td>\n      <td>2020-04-17 22:46:26.785035</td>\n    </tr>\n    <tr>\n      <th>111</th>\n      <td>user_30</td>\n      <td>laba04s</td>\n      <td>2020-04-18 14:51:37.498399</td>\n      <td>2020-04-17 22:46:26.785035</td>\n    </tr>\n    <tr>\n      <th>112</th>\n      <td>user_30</td>\n      <td>laba05</td>\n      <td>2020-05-01 19:31:18.375833</td>\n      <td>2020-04-17 22:46:26.785035</td>\n    </tr>\n    <tr>\n      <th>113</th>\n      <td>user_30</td>\n      <td>laba06</td>\n      <td>2020-05-19 17:53:15.088248</td>\n      <td>2020-04-17 22:46:26.785035</td>\n    </tr>\n    <tr>\n      <th>114</th>\n      <td>user_30</td>\n      <td>project1</td>\n      <td>2020-04-22 12:36:24.053518</td>\n      <td>2020-04-17 22:46:26.785035</td>\n    </tr>\n  </tbody>\n</table>\n</div>"
     },
     "execution_count": 28,
     "metadata": {},
     "output_type": "execute_result"
    }
   ],
   "source": [
    "print(\"test should have the users that have the values in first_view_ts:\")\n",
    "test = pd.DataFrame(datamart)\n",
    "test = test[test['first_view_ts'].notnull()]\n",
    "test"
   ],
   "metadata": {
    "collapsed": false
   }
  },
  {
   "cell_type": "code",
   "execution_count": 29,
   "outputs": [
    {
     "name": "stdout",
     "output_type": "stream",
     "text": [
      "test should have the users that have the values in first_view_ts:\n",
      "         uid   labname            first_commit_ts first_view_ts\n",
      "12   user_11    laba05 2020-05-03 21:06:55.970293           NaT\n",
      "13   user_11  project1 2020-05-03 23:45:33.673409           NaT\n",
      "14   user_12    laba04 2020-04-18 17:07:51.767358           NaT\n",
      "15   user_12   laba04s 2020-04-26 15:42:38.070593           NaT\n",
      "16   user_12    laba05 2020-05-03 08:39:25.174316           NaT\n",
      "..       ...       ...                        ...           ...\n",
      "135   user_8   laba04s 2020-04-19 10:22:35.761944           NaT\n",
      "136   user_8    laba05 2020-05-02 13:28:07.705193           NaT\n",
      "137   user_8    laba06 2020-05-16 17:56:15.755553           NaT\n",
      "138   user_8   laba06s 2020-05-16 20:01:07.900727           NaT\n",
      "139   user_8  project1 2020-05-14 15:42:04.002981           NaT\n",
      "\n",
      "[81 rows x 4 columns]\n"
     ]
    },
    {
     "data": {
      "text/plain": "         uid   labname            first_commit_ts first_view_ts\n12   user_11    laba05 2020-05-03 21:06:55.970293           NaT\n13   user_11  project1 2020-05-03 23:45:33.673409           NaT\n14   user_12    laba04 2020-04-18 17:07:51.767358           NaT\n15   user_12   laba04s 2020-04-26 15:42:38.070593           NaT\n16   user_12    laba05 2020-05-03 08:39:25.174316           NaT\n..       ...       ...                        ...           ...\n135   user_8   laba04s 2020-04-19 10:22:35.761944           NaT\n136   user_8    laba05 2020-05-02 13:28:07.705193           NaT\n137   user_8    laba06 2020-05-16 17:56:15.755553           NaT\n138   user_8   laba06s 2020-05-16 20:01:07.900727           NaT\n139   user_8  project1 2020-05-14 15:42:04.002981           NaT\n\n[81 rows x 4 columns]",
      "text/html": "<div>\n<style scoped>\n    .dataframe tbody tr th:only-of-type {\n        vertical-align: middle;\n    }\n\n    .dataframe tbody tr th {\n        vertical-align: top;\n    }\n\n    .dataframe thead th {\n        text-align: right;\n    }\n</style>\n<table border=\"1\" class=\"dataframe\">\n  <thead>\n    <tr style=\"text-align: right;\">\n      <th></th>\n      <th>uid</th>\n      <th>labname</th>\n      <th>first_commit_ts</th>\n      <th>first_view_ts</th>\n    </tr>\n  </thead>\n  <tbody>\n    <tr>\n      <th>12</th>\n      <td>user_11</td>\n      <td>laba05</td>\n      <td>2020-05-03 21:06:55.970293</td>\n      <td>NaT</td>\n    </tr>\n    <tr>\n      <th>13</th>\n      <td>user_11</td>\n      <td>project1</td>\n      <td>2020-05-03 23:45:33.673409</td>\n      <td>NaT</td>\n    </tr>\n    <tr>\n      <th>14</th>\n      <td>user_12</td>\n      <td>laba04</td>\n      <td>2020-04-18 17:07:51.767358</td>\n      <td>NaT</td>\n    </tr>\n    <tr>\n      <th>15</th>\n      <td>user_12</td>\n      <td>laba04s</td>\n      <td>2020-04-26 15:42:38.070593</td>\n      <td>NaT</td>\n    </tr>\n    <tr>\n      <th>16</th>\n      <td>user_12</td>\n      <td>laba05</td>\n      <td>2020-05-03 08:39:25.174316</td>\n      <td>NaT</td>\n    </tr>\n    <tr>\n      <th>...</th>\n      <td>...</td>\n      <td>...</td>\n      <td>...</td>\n      <td>...</td>\n    </tr>\n    <tr>\n      <th>135</th>\n      <td>user_8</td>\n      <td>laba04s</td>\n      <td>2020-04-19 10:22:35.761944</td>\n      <td>NaT</td>\n    </tr>\n    <tr>\n      <th>136</th>\n      <td>user_8</td>\n      <td>laba05</td>\n      <td>2020-05-02 13:28:07.705193</td>\n      <td>NaT</td>\n    </tr>\n    <tr>\n      <th>137</th>\n      <td>user_8</td>\n      <td>laba06</td>\n      <td>2020-05-16 17:56:15.755553</td>\n      <td>NaT</td>\n    </tr>\n    <tr>\n      <th>138</th>\n      <td>user_8</td>\n      <td>laba06s</td>\n      <td>2020-05-16 20:01:07.900727</td>\n      <td>NaT</td>\n    </tr>\n    <tr>\n      <th>139</th>\n      <td>user_8</td>\n      <td>project1</td>\n      <td>2020-05-14 15:42:04.002981</td>\n      <td>NaT</td>\n    </tr>\n  </tbody>\n</table>\n<p>81 rows × 4 columns</p>\n</div>"
     },
     "execution_count": 29,
     "metadata": {},
     "output_type": "execute_result"
    }
   ],
   "source": [
    "print(\"test should have the users that have the values in first_view_ts:\")\n",
    "control = pd.DataFrame(datamart)\n",
    "control = control[control['first_view_ts'].isnull()]\n",
    "print(control)\n",
    "control"
   ],
   "metadata": {
    "collapsed": false
   }
  },
  {
   "cell_type": "code",
   "execution_count": 30,
   "outputs": [
    {
     "name": "stdout",
     "output_type": "stream",
     "text": [
      "replace the missing values in the control with the average first_view_ts of the test users, we will use this value for the future analysis:\n"
     ]
    },
    {
     "data": {
      "text/plain": "         uid   labname            first_commit_ts  \\\n12   user_11    laba05 2020-05-03 21:06:55.970293   \n13   user_11  project1 2020-05-03 23:45:33.673409   \n14   user_12    laba04 2020-04-18 17:07:51.767358   \n15   user_12   laba04s 2020-04-26 15:42:38.070593   \n16   user_12    laba05 2020-05-03 08:39:25.174316   \n..       ...       ...                        ...   \n135   user_8   laba04s 2020-04-19 10:22:35.761944   \n136   user_8    laba05 2020-05-02 13:28:07.705193   \n137   user_8    laba06 2020-05-16 17:56:15.755553   \n138   user_8   laba06s 2020-05-16 20:01:07.900727   \n139   user_8  project1 2020-05-14 15:42:04.002981   \n\n                    first_view_ts  \n12  2020-04-27 00:40:05.761783552  \n13  2020-04-27 00:40:05.761783552  \n14  2020-04-27 00:40:05.761783552  \n15  2020-04-27 00:40:05.761783552  \n16  2020-04-27 00:40:05.761783552  \n..                            ...  \n135 2020-04-27 00:40:05.761783552  \n136 2020-04-27 00:40:05.761783552  \n137 2020-04-27 00:40:05.761783552  \n138 2020-04-27 00:40:05.761783552  \n139 2020-04-27 00:40:05.761783552  \n\n[81 rows x 4 columns]",
      "text/html": "<div>\n<style scoped>\n    .dataframe tbody tr th:only-of-type {\n        vertical-align: middle;\n    }\n\n    .dataframe tbody tr th {\n        vertical-align: top;\n    }\n\n    .dataframe thead th {\n        text-align: right;\n    }\n</style>\n<table border=\"1\" class=\"dataframe\">\n  <thead>\n    <tr style=\"text-align: right;\">\n      <th></th>\n      <th>uid</th>\n      <th>labname</th>\n      <th>first_commit_ts</th>\n      <th>first_view_ts</th>\n    </tr>\n  </thead>\n  <tbody>\n    <tr>\n      <th>12</th>\n      <td>user_11</td>\n      <td>laba05</td>\n      <td>2020-05-03 21:06:55.970293</td>\n      <td>2020-04-27 00:40:05.761783552</td>\n    </tr>\n    <tr>\n      <th>13</th>\n      <td>user_11</td>\n      <td>project1</td>\n      <td>2020-05-03 23:45:33.673409</td>\n      <td>2020-04-27 00:40:05.761783552</td>\n    </tr>\n    <tr>\n      <th>14</th>\n      <td>user_12</td>\n      <td>laba04</td>\n      <td>2020-04-18 17:07:51.767358</td>\n      <td>2020-04-27 00:40:05.761783552</td>\n    </tr>\n    <tr>\n      <th>15</th>\n      <td>user_12</td>\n      <td>laba04s</td>\n      <td>2020-04-26 15:42:38.070593</td>\n      <td>2020-04-27 00:40:05.761783552</td>\n    </tr>\n    <tr>\n      <th>16</th>\n      <td>user_12</td>\n      <td>laba05</td>\n      <td>2020-05-03 08:39:25.174316</td>\n      <td>2020-04-27 00:40:05.761783552</td>\n    </tr>\n    <tr>\n      <th>...</th>\n      <td>...</td>\n      <td>...</td>\n      <td>...</td>\n      <td>...</td>\n    </tr>\n    <tr>\n      <th>135</th>\n      <td>user_8</td>\n      <td>laba04s</td>\n      <td>2020-04-19 10:22:35.761944</td>\n      <td>2020-04-27 00:40:05.761783552</td>\n    </tr>\n    <tr>\n      <th>136</th>\n      <td>user_8</td>\n      <td>laba05</td>\n      <td>2020-05-02 13:28:07.705193</td>\n      <td>2020-04-27 00:40:05.761783552</td>\n    </tr>\n    <tr>\n      <th>137</th>\n      <td>user_8</td>\n      <td>laba06</td>\n      <td>2020-05-16 17:56:15.755553</td>\n      <td>2020-04-27 00:40:05.761783552</td>\n    </tr>\n    <tr>\n      <th>138</th>\n      <td>user_8</td>\n      <td>laba06s</td>\n      <td>2020-05-16 20:01:07.900727</td>\n      <td>2020-04-27 00:40:05.761783552</td>\n    </tr>\n    <tr>\n      <th>139</th>\n      <td>user_8</td>\n      <td>project1</td>\n      <td>2020-05-14 15:42:04.002981</td>\n      <td>2020-04-27 00:40:05.761783552</td>\n    </tr>\n  </tbody>\n</table>\n<p>81 rows × 4 columns</p>\n</div>"
     },
     "execution_count": 30,
     "metadata": {},
     "output_type": "execute_result"
    }
   ],
   "source": [
    "print(\"replace the missing values in the control with the average first_view_ts of the test users, we will use this value for the future analysis:\")\n",
    "control['first_view_ts'].fillna(test['first_view_ts'].mean(), inplace=True)\n",
    "control"
   ],
   "metadata": {
    "collapsed": false
   }
  },
  {
   "cell_type": "code",
   "execution_count": 31,
   "outputs": [
    {
     "name": "stdout",
     "output_type": "stream",
     "text": [
      "save both tables into the database, you will use them in the next exercises:\n",
      "Table 'test' already exists.\n"
     ]
    }
   ],
   "source": [
    "print(\"save both tables into the database, you will use them in the next exercises:\")\n",
    "try:\n",
    "        test.to_sql('test', con)\n",
    "        print(\"table 'test' is saved\")\n",
    "        control.to_sql('control', con)\n",
    "        print(\"table 'control' is saved\")\n",
    "except ValueError as e:\n",
    "        print(e)"
   ],
   "metadata": {
    "collapsed": false
   }
  },
  {
   "cell_type": "markdown",
   "source": [
    "## close the connection"
   ],
   "metadata": {
    "collapsed": false
   }
  },
  {
   "cell_type": "code",
   "execution_count": 32,
   "outputs": [],
   "source": [
    "con.close()"
   ],
   "metadata": {
    "collapsed": false
   }
  }
 ],
 "metadata": {
  "kernelspec": {
   "display_name": "Python 3",
   "language": "python",
   "name": "python3"
  },
  "language_info": {
   "codemirror_mode": {
    "name": "ipython",
    "version": 2
   },
   "file_extension": ".py",
   "mimetype": "text/x-python",
   "name": "python",
   "nbconvert_exporter": "python",
   "pygments_lexer": "ipython2",
   "version": "2.7.6"
  }
 },
 "nbformat": 4,
 "nbformat_minor": 0
}
