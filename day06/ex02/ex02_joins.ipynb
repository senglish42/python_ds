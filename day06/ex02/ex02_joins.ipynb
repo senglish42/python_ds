{
 "cells": [
  {
   "cell_type": "code",
   "execution_count": 332,
   "metadata": {
    "collapsed": true
   },
   "outputs": [],
   "source": [
    "import pandas as pd\n",
    "import sqlite3"
   ]
  },
  {
   "cell_type": "markdown",
   "source": [
    "## create a connection to the database using the library sqlite3"
   ],
   "metadata": {
    "collapsed": false
   }
  },
  {
   "cell_type": "code",
   "execution_count": 333,
   "outputs": [],
   "source": [
    "con = sqlite3.connect(\"../data/checking-logs.sqlite.sqlite copy\")"
   ],
   "metadata": {
    "collapsed": false
   }
  },
  {
   "cell_type": "markdown",
   "source": [
    "## create a new table datamart in the database by joining the tables pageviews and checker using only one query"
   ],
   "metadata": {
    "collapsed": false
   }
  },
  {
   "cell_type": "code",
   "execution_count": 334,
   "outputs": [
    {
     "data": {
      "text/plain": "         labname            first_commit_ts              first_view_ts\nuid                                                                   \nuser_1    laba04 2020-04-26 17:06:18.462708 2020-04-26 21:53:59.624136\nuser_1   laba04s 2020-04-26 17:12:11.843671 2020-04-26 21:53:59.624136\nuser_1    laba05 2020-05-02 19:15:18.540185 2020-04-26 21:53:59.624136\nuser_1    laba06 2020-05-17 16:26:35.268534 2020-04-26 21:53:59.624136\nuser_1   laba06s 2020-05-20 12:23:37.289724 2020-04-26 21:53:59.624136\n...          ...                        ...                        ...\nuser_8   laba04s 2020-04-19 10:22:35.761944                        NaT\nuser_8    laba05 2020-05-02 13:28:07.705193                        NaT\nuser_8    laba06 2020-05-16 17:56:15.755553                        NaT\nuser_8   laba06s 2020-05-16 20:01:07.900727                        NaT\nuser_8  project1 2020-05-14 15:42:04.002981                        NaT\n\n[140 rows x 3 columns]",
      "text/html": "<div>\n<style scoped>\n    .dataframe tbody tr th:only-of-type {\n        vertical-align: middle;\n    }\n\n    .dataframe tbody tr th {\n        vertical-align: top;\n    }\n\n    .dataframe thead th {\n        text-align: right;\n    }\n</style>\n<table border=\"1\" class=\"dataframe\">\n  <thead>\n    <tr style=\"text-align: right;\">\n      <th></th>\n      <th>labname</th>\n      <th>first_commit_ts</th>\n      <th>first_view_ts</th>\n    </tr>\n    <tr>\n      <th>uid</th>\n      <th></th>\n      <th></th>\n      <th></th>\n    </tr>\n  </thead>\n  <tbody>\n    <tr>\n      <th>user_1</th>\n      <td>laba04</td>\n      <td>2020-04-26 17:06:18.462708</td>\n      <td>2020-04-26 21:53:59.624136</td>\n    </tr>\n    <tr>\n      <th>user_1</th>\n      <td>laba04s</td>\n      <td>2020-04-26 17:12:11.843671</td>\n      <td>2020-04-26 21:53:59.624136</td>\n    </tr>\n    <tr>\n      <th>user_1</th>\n      <td>laba05</td>\n      <td>2020-05-02 19:15:18.540185</td>\n      <td>2020-04-26 21:53:59.624136</td>\n    </tr>\n    <tr>\n      <th>user_1</th>\n      <td>laba06</td>\n      <td>2020-05-17 16:26:35.268534</td>\n      <td>2020-04-26 21:53:59.624136</td>\n    </tr>\n    <tr>\n      <th>user_1</th>\n      <td>laba06s</td>\n      <td>2020-05-20 12:23:37.289724</td>\n      <td>2020-04-26 21:53:59.624136</td>\n    </tr>\n    <tr>\n      <th>...</th>\n      <td>...</td>\n      <td>...</td>\n      <td>...</td>\n    </tr>\n    <tr>\n      <th>user_8</th>\n      <td>laba04s</td>\n      <td>2020-04-19 10:22:35.761944</td>\n      <td>NaT</td>\n    </tr>\n    <tr>\n      <th>user_8</th>\n      <td>laba05</td>\n      <td>2020-05-02 13:28:07.705193</td>\n      <td>NaT</td>\n    </tr>\n    <tr>\n      <th>user_8</th>\n      <td>laba06</td>\n      <td>2020-05-16 17:56:15.755553</td>\n      <td>NaT</td>\n    </tr>\n    <tr>\n      <th>user_8</th>\n      <td>laba06s</td>\n      <td>2020-05-16 20:01:07.900727</td>\n      <td>NaT</td>\n    </tr>\n    <tr>\n      <th>user_8</th>\n      <td>project1</td>\n      <td>2020-05-14 15:42:04.002981</td>\n      <td>NaT</td>\n    </tr>\n  </tbody>\n</table>\n<p>140 rows × 3 columns</p>\n</div>"
     },
     "execution_count": 334,
     "metadata": {},
     "output_type": "execute_result"
    }
   ],
   "source": [
    "query = \"SELECT c.uid, c.labname, c.timestamp AS 'first_commit_ts', p.datetime AS 'first_view_ts' \" \\\n",
    "        \"FROM checker c LEFT JOIN pageviews p USING (uid) \" \\\n",
    "        \"WHERE c.status='ready' AND c.numTrials='1' AND labname IN ('laba04', 'laba04s', 'laba05', 'laba06', 'laba06s', 'project1') AND c.uid LIKE 'user_%' \" \\\n",
    "        \"GROUP BY c.uid, c.labname ORDER BY uid ASC;\"\n",
    "datamart = pd.io.sql.read_sql(query, con, parse_dates=['first_commit_ts', 'first_view_ts'], index_col='uid')\n",
    "datamart"
   ],
   "metadata": {
    "collapsed": false
   }
  },
  {
   "cell_type": "markdown",
   "source": [
    "## using Pandas methods, create two dataframes: test and control"
   ],
   "metadata": {
    "collapsed": false
   }
  },
  {
   "cell_type": "code",
   "execution_count": 335,
   "outputs": [
    {
     "name": "stdout",
     "output_type": "stream",
     "text": [
      "test should have the users that have the values in first_view_ts:\n"
     ]
    },
    {
     "data": {
      "text/plain": "          labname            first_commit_ts              first_view_ts\nuid                                                                    \nuser_1     laba04 2020-04-26 17:06:18.462708 2020-04-26 21:53:59.624136\nuser_1    laba04s 2020-04-26 17:12:11.843671 2020-04-26 21:53:59.624136\nuser_1     laba05 2020-05-02 19:15:18.540185 2020-04-26 21:53:59.624136\nuser_1     laba06 2020-05-17 16:26:35.268534 2020-04-26 21:53:59.624136\nuser_1    laba06s 2020-05-20 12:23:37.289724 2020-04-26 21:53:59.624136\nuser_1   project1 2020-05-14 20:56:08.898880 2020-04-26 21:53:59.624136\nuser_10    laba04 2020-04-25 08:24:52.696624 2020-04-18 12:19:50.182714\nuser_10   laba04s 2020-04-25 08:37:54.604222 2020-04-18 12:19:50.182714\nuser_10    laba05 2020-05-01 19:27:26.063245 2020-04-18 12:19:50.182714\nuser_10    laba06 2020-05-19 11:39:28.885637 2020-04-18 12:19:50.182714\nuser_10   laba06s 2020-05-20 07:37:31.175817 2020-04-18 12:19:50.182714\nuser_10  project1 2020-05-12 20:12:28.056618 2020-04-18 12:19:50.182714\nuser_14    laba04 2020-04-18 15:14:00.312338 2020-04-18 10:53:52.623447\nuser_14   laba04s 2020-04-18 22:30:30.247628 2020-04-18 10:53:52.623447\nuser_14    laba05 2020-04-30 11:33:04.523118 2020-04-18 10:53:52.623447\nuser_14  project1 2020-05-05 21:35:43.554986 2020-04-18 10:53:52.623447\nuser_17    laba04 2020-04-23 14:24:29.947554 2020-04-18 10:56:55.833899\nuser_17   laba04s 2020-04-25 12:10:56.414175 2020-04-18 10:56:55.833899\nuser_17    laba05 2020-05-02 13:21:24.045876 2020-04-18 10:56:55.833899\nuser_17    laba06 2020-05-21 15:21:31.567615 2020-04-18 10:56:55.833899\nuser_17   laba06s 2020-05-21 17:39:17.783615 2020-04-18 10:56:55.833899\nuser_17  project1 2020-04-18 07:56:45.408648 2020-04-18 10:56:55.833899\nuser_18    laba04 2020-04-26 19:48:11.822365 2020-04-26 22:49:29.243278\nuser_18   laba04s 2020-04-26 20:03:56.935458 2020-04-26 22:49:29.243278\nuser_18    laba05 2020-05-03 13:01:34.848756 2020-04-26 22:49:29.243278\nuser_18  project1 2020-05-11 10:10:04.166881 2020-04-26 22:49:29.243278\nuser_19    laba04 2020-04-20 19:05:01.297780 2020-04-21 20:30:38.034966\nuser_19    laba05 2020-05-02 15:16:13.586405 2020-04-21 20:30:38.034966\nuser_19    laba06 2020-05-19 10:25:54.121465 2020-04-21 20:30:38.034966\nuser_19   laba06s 2020-05-21 13:27:06.705881 2020-04-21 20:30:38.034966\nuser_19  project1 2020-05-14 10:33:45.495389 2020-04-21 20:30:38.034966\nuser_21    laba04 2020-04-21 17:48:00.487806 2020-04-22 22:40:36.824081\nuser_21   laba04s 2020-04-22 20:09:21.857747 2020-04-22 22:40:36.824081\nuser_21    laba05 2020-05-02 14:05:40.013959 2020-04-22 22:40:36.824081\nuser_21    laba06 2020-05-19 19:30:14.644328 2020-04-22 22:40:36.824081\nuser_21  project1 2020-05-10 15:21:05.442755 2020-04-22 22:40:36.824081\nuser_25    laba04 2020-04-20 19:16:50.673054 2020-05-09 23:54:54.260791\nuser_25   laba04s 2020-04-26 21:07:56.952117 2020-05-09 23:54:54.260791\nuser_25    laba05 2020-05-01 13:02:27.357650 2020-05-09 23:54:54.260791\nuser_25    laba06 2020-05-18 17:07:47.988807 2020-05-09 23:54:54.260791\nuser_25   laba06s 2020-05-20 14:02:26.512032 2020-05-09 23:54:54.260791\nuser_25  project1 2020-05-08 11:10:28.100852 2020-05-09 23:54:54.260791\nuser_28    laba04 2020-04-22 21:47:19.707242 2020-05-10 21:07:50.350946\nuser_28   laba04s 2020-04-26 15:53:44.906136 2020-05-10 21:07:50.350946\nuser_28    laba05 2020-05-01 18:29:11.968537 2020-05-10 21:07:50.350946\nuser_28    laba06 2020-05-17 17:08:48.257050 2020-05-10 21:07:50.350946\nuser_28   laba06s 2020-05-20 20:42:44.423160 2020-05-10 21:07:50.350946\nuser_28  project1 2020-05-12 14:42:19.166414 2020-05-10 21:07:50.350946\nuser_3     laba04 2020-04-23 20:29:14.054364 2020-05-08 10:53:47.123832\nuser_3    laba04s 2020-04-23 20:40:26.883591 2020-05-08 10:53:47.123832\nuser_3     laba05 2020-05-01 11:29:17.988118 2020-05-08 10:53:47.123832\nuser_3     laba06 2020-05-17 09:56:40.480319 2020-05-08 10:53:47.123832\nuser_3    laba06s 2020-05-19 08:42:50.851878 2020-05-08 10:53:47.123832\nuser_3   project1 2020-05-07 21:02:52.885133 2020-05-08 10:53:47.123832\nuser_30    laba04 2020-04-18 13:36:53.971502 2020-04-17 22:46:26.785035\nuser_30   laba04s 2020-04-18 14:51:37.498399 2020-04-17 22:46:26.785035\nuser_30    laba05 2020-05-01 19:31:18.375833 2020-04-17 22:46:26.785035\nuser_30    laba06 2020-05-19 17:53:15.088248 2020-04-17 22:46:26.785035\nuser_30  project1 2020-04-22 12:36:24.053518 2020-04-17 22:46:26.785035",
      "text/html": "<div>\n<style scoped>\n    .dataframe tbody tr th:only-of-type {\n        vertical-align: middle;\n    }\n\n    .dataframe tbody tr th {\n        vertical-align: top;\n    }\n\n    .dataframe thead th {\n        text-align: right;\n    }\n</style>\n<table border=\"1\" class=\"dataframe\">\n  <thead>\n    <tr style=\"text-align: right;\">\n      <th></th>\n      <th>labname</th>\n      <th>first_commit_ts</th>\n      <th>first_view_ts</th>\n    </tr>\n    <tr>\n      <th>uid</th>\n      <th></th>\n      <th></th>\n      <th></th>\n    </tr>\n  </thead>\n  <tbody>\n    <tr>\n      <th>user_1</th>\n      <td>laba04</td>\n      <td>2020-04-26 17:06:18.462708</td>\n      <td>2020-04-26 21:53:59.624136</td>\n    </tr>\n    <tr>\n      <th>user_1</th>\n      <td>laba04s</td>\n      <td>2020-04-26 17:12:11.843671</td>\n      <td>2020-04-26 21:53:59.624136</td>\n    </tr>\n    <tr>\n      <th>user_1</th>\n      <td>laba05</td>\n      <td>2020-05-02 19:15:18.540185</td>\n      <td>2020-04-26 21:53:59.624136</td>\n    </tr>\n    <tr>\n      <th>user_1</th>\n      <td>laba06</td>\n      <td>2020-05-17 16:26:35.268534</td>\n      <td>2020-04-26 21:53:59.624136</td>\n    </tr>\n    <tr>\n      <th>user_1</th>\n      <td>laba06s</td>\n      <td>2020-05-20 12:23:37.289724</td>\n      <td>2020-04-26 21:53:59.624136</td>\n    </tr>\n    <tr>\n      <th>user_1</th>\n      <td>project1</td>\n      <td>2020-05-14 20:56:08.898880</td>\n      <td>2020-04-26 21:53:59.624136</td>\n    </tr>\n    <tr>\n      <th>user_10</th>\n      <td>laba04</td>\n      <td>2020-04-25 08:24:52.696624</td>\n      <td>2020-04-18 12:19:50.182714</td>\n    </tr>\n    <tr>\n      <th>user_10</th>\n      <td>laba04s</td>\n      <td>2020-04-25 08:37:54.604222</td>\n      <td>2020-04-18 12:19:50.182714</td>\n    </tr>\n    <tr>\n      <th>user_10</th>\n      <td>laba05</td>\n      <td>2020-05-01 19:27:26.063245</td>\n      <td>2020-04-18 12:19:50.182714</td>\n    </tr>\n    <tr>\n      <th>user_10</th>\n      <td>laba06</td>\n      <td>2020-05-19 11:39:28.885637</td>\n      <td>2020-04-18 12:19:50.182714</td>\n    </tr>\n    <tr>\n      <th>user_10</th>\n      <td>laba06s</td>\n      <td>2020-05-20 07:37:31.175817</td>\n      <td>2020-04-18 12:19:50.182714</td>\n    </tr>\n    <tr>\n      <th>user_10</th>\n      <td>project1</td>\n      <td>2020-05-12 20:12:28.056618</td>\n      <td>2020-04-18 12:19:50.182714</td>\n    </tr>\n    <tr>\n      <th>user_14</th>\n      <td>laba04</td>\n      <td>2020-04-18 15:14:00.312338</td>\n      <td>2020-04-18 10:53:52.623447</td>\n    </tr>\n    <tr>\n      <th>user_14</th>\n      <td>laba04s</td>\n      <td>2020-04-18 22:30:30.247628</td>\n      <td>2020-04-18 10:53:52.623447</td>\n    </tr>\n    <tr>\n      <th>user_14</th>\n      <td>laba05</td>\n      <td>2020-04-30 11:33:04.523118</td>\n      <td>2020-04-18 10:53:52.623447</td>\n    </tr>\n    <tr>\n      <th>user_14</th>\n      <td>project1</td>\n      <td>2020-05-05 21:35:43.554986</td>\n      <td>2020-04-18 10:53:52.623447</td>\n    </tr>\n    <tr>\n      <th>user_17</th>\n      <td>laba04</td>\n      <td>2020-04-23 14:24:29.947554</td>\n      <td>2020-04-18 10:56:55.833899</td>\n    </tr>\n    <tr>\n      <th>user_17</th>\n      <td>laba04s</td>\n      <td>2020-04-25 12:10:56.414175</td>\n      <td>2020-04-18 10:56:55.833899</td>\n    </tr>\n    <tr>\n      <th>user_17</th>\n      <td>laba05</td>\n      <td>2020-05-02 13:21:24.045876</td>\n      <td>2020-04-18 10:56:55.833899</td>\n    </tr>\n    <tr>\n      <th>user_17</th>\n      <td>laba06</td>\n      <td>2020-05-21 15:21:31.567615</td>\n      <td>2020-04-18 10:56:55.833899</td>\n    </tr>\n    <tr>\n      <th>user_17</th>\n      <td>laba06s</td>\n      <td>2020-05-21 17:39:17.783615</td>\n      <td>2020-04-18 10:56:55.833899</td>\n    </tr>\n    <tr>\n      <th>user_17</th>\n      <td>project1</td>\n      <td>2020-04-18 07:56:45.408648</td>\n      <td>2020-04-18 10:56:55.833899</td>\n    </tr>\n    <tr>\n      <th>user_18</th>\n      <td>laba04</td>\n      <td>2020-04-26 19:48:11.822365</td>\n      <td>2020-04-26 22:49:29.243278</td>\n    </tr>\n    <tr>\n      <th>user_18</th>\n      <td>laba04s</td>\n      <td>2020-04-26 20:03:56.935458</td>\n      <td>2020-04-26 22:49:29.243278</td>\n    </tr>\n    <tr>\n      <th>user_18</th>\n      <td>laba05</td>\n      <td>2020-05-03 13:01:34.848756</td>\n      <td>2020-04-26 22:49:29.243278</td>\n    </tr>\n    <tr>\n      <th>user_18</th>\n      <td>project1</td>\n      <td>2020-05-11 10:10:04.166881</td>\n      <td>2020-04-26 22:49:29.243278</td>\n    </tr>\n    <tr>\n      <th>user_19</th>\n      <td>laba04</td>\n      <td>2020-04-20 19:05:01.297780</td>\n      <td>2020-04-21 20:30:38.034966</td>\n    </tr>\n    <tr>\n      <th>user_19</th>\n      <td>laba05</td>\n      <td>2020-05-02 15:16:13.586405</td>\n      <td>2020-04-21 20:30:38.034966</td>\n    </tr>\n    <tr>\n      <th>user_19</th>\n      <td>laba06</td>\n      <td>2020-05-19 10:25:54.121465</td>\n      <td>2020-04-21 20:30:38.034966</td>\n    </tr>\n    <tr>\n      <th>user_19</th>\n      <td>laba06s</td>\n      <td>2020-05-21 13:27:06.705881</td>\n      <td>2020-04-21 20:30:38.034966</td>\n    </tr>\n    <tr>\n      <th>user_19</th>\n      <td>project1</td>\n      <td>2020-05-14 10:33:45.495389</td>\n      <td>2020-04-21 20:30:38.034966</td>\n    </tr>\n    <tr>\n      <th>user_21</th>\n      <td>laba04</td>\n      <td>2020-04-21 17:48:00.487806</td>\n      <td>2020-04-22 22:40:36.824081</td>\n    </tr>\n    <tr>\n      <th>user_21</th>\n      <td>laba04s</td>\n      <td>2020-04-22 20:09:21.857747</td>\n      <td>2020-04-22 22:40:36.824081</td>\n    </tr>\n    <tr>\n      <th>user_21</th>\n      <td>laba05</td>\n      <td>2020-05-02 14:05:40.013959</td>\n      <td>2020-04-22 22:40:36.824081</td>\n    </tr>\n    <tr>\n      <th>user_21</th>\n      <td>laba06</td>\n      <td>2020-05-19 19:30:14.644328</td>\n      <td>2020-04-22 22:40:36.824081</td>\n    </tr>\n    <tr>\n      <th>user_21</th>\n      <td>project1</td>\n      <td>2020-05-10 15:21:05.442755</td>\n      <td>2020-04-22 22:40:36.824081</td>\n    </tr>\n    <tr>\n      <th>user_25</th>\n      <td>laba04</td>\n      <td>2020-04-20 19:16:50.673054</td>\n      <td>2020-05-09 23:54:54.260791</td>\n    </tr>\n    <tr>\n      <th>user_25</th>\n      <td>laba04s</td>\n      <td>2020-04-26 21:07:56.952117</td>\n      <td>2020-05-09 23:54:54.260791</td>\n    </tr>\n    <tr>\n      <th>user_25</th>\n      <td>laba05</td>\n      <td>2020-05-01 13:02:27.357650</td>\n      <td>2020-05-09 23:54:54.260791</td>\n    </tr>\n    <tr>\n      <th>user_25</th>\n      <td>laba06</td>\n      <td>2020-05-18 17:07:47.988807</td>\n      <td>2020-05-09 23:54:54.260791</td>\n    </tr>\n    <tr>\n      <th>user_25</th>\n      <td>laba06s</td>\n      <td>2020-05-20 14:02:26.512032</td>\n      <td>2020-05-09 23:54:54.260791</td>\n    </tr>\n    <tr>\n      <th>user_25</th>\n      <td>project1</td>\n      <td>2020-05-08 11:10:28.100852</td>\n      <td>2020-05-09 23:54:54.260791</td>\n    </tr>\n    <tr>\n      <th>user_28</th>\n      <td>laba04</td>\n      <td>2020-04-22 21:47:19.707242</td>\n      <td>2020-05-10 21:07:50.350946</td>\n    </tr>\n    <tr>\n      <th>user_28</th>\n      <td>laba04s</td>\n      <td>2020-04-26 15:53:44.906136</td>\n      <td>2020-05-10 21:07:50.350946</td>\n    </tr>\n    <tr>\n      <th>user_28</th>\n      <td>laba05</td>\n      <td>2020-05-01 18:29:11.968537</td>\n      <td>2020-05-10 21:07:50.350946</td>\n    </tr>\n    <tr>\n      <th>user_28</th>\n      <td>laba06</td>\n      <td>2020-05-17 17:08:48.257050</td>\n      <td>2020-05-10 21:07:50.350946</td>\n    </tr>\n    <tr>\n      <th>user_28</th>\n      <td>laba06s</td>\n      <td>2020-05-20 20:42:44.423160</td>\n      <td>2020-05-10 21:07:50.350946</td>\n    </tr>\n    <tr>\n      <th>user_28</th>\n      <td>project1</td>\n      <td>2020-05-12 14:42:19.166414</td>\n      <td>2020-05-10 21:07:50.350946</td>\n    </tr>\n    <tr>\n      <th>user_3</th>\n      <td>laba04</td>\n      <td>2020-04-23 20:29:14.054364</td>\n      <td>2020-05-08 10:53:47.123832</td>\n    </tr>\n    <tr>\n      <th>user_3</th>\n      <td>laba04s</td>\n      <td>2020-04-23 20:40:26.883591</td>\n      <td>2020-05-08 10:53:47.123832</td>\n    </tr>\n    <tr>\n      <th>user_3</th>\n      <td>laba05</td>\n      <td>2020-05-01 11:29:17.988118</td>\n      <td>2020-05-08 10:53:47.123832</td>\n    </tr>\n    <tr>\n      <th>user_3</th>\n      <td>laba06</td>\n      <td>2020-05-17 09:56:40.480319</td>\n      <td>2020-05-08 10:53:47.123832</td>\n    </tr>\n    <tr>\n      <th>user_3</th>\n      <td>laba06s</td>\n      <td>2020-05-19 08:42:50.851878</td>\n      <td>2020-05-08 10:53:47.123832</td>\n    </tr>\n    <tr>\n      <th>user_3</th>\n      <td>project1</td>\n      <td>2020-05-07 21:02:52.885133</td>\n      <td>2020-05-08 10:53:47.123832</td>\n    </tr>\n    <tr>\n      <th>user_30</th>\n      <td>laba04</td>\n      <td>2020-04-18 13:36:53.971502</td>\n      <td>2020-04-17 22:46:26.785035</td>\n    </tr>\n    <tr>\n      <th>user_30</th>\n      <td>laba04s</td>\n      <td>2020-04-18 14:51:37.498399</td>\n      <td>2020-04-17 22:46:26.785035</td>\n    </tr>\n    <tr>\n      <th>user_30</th>\n      <td>laba05</td>\n      <td>2020-05-01 19:31:18.375833</td>\n      <td>2020-04-17 22:46:26.785035</td>\n    </tr>\n    <tr>\n      <th>user_30</th>\n      <td>laba06</td>\n      <td>2020-05-19 17:53:15.088248</td>\n      <td>2020-04-17 22:46:26.785035</td>\n    </tr>\n    <tr>\n      <th>user_30</th>\n      <td>project1</td>\n      <td>2020-04-22 12:36:24.053518</td>\n      <td>2020-04-17 22:46:26.785035</td>\n    </tr>\n  </tbody>\n</table>\n</div>"
     },
     "execution_count": 335,
     "metadata": {},
     "output_type": "execute_result"
    }
   ],
   "source": [
    "print(\"test should have the users that have the values in first_view_ts:\")\n",
    "test = pd.DataFrame(datamart)\n",
    "test = test[test['first_view_ts'].notnull()]\n",
    "test"
   ],
   "metadata": {
    "collapsed": false
   }
  },
  {
   "cell_type": "code",
   "execution_count": 336,
   "outputs": [
    {
     "name": "stdout",
     "output_type": "stream",
     "text": [
      "test should have the users that have the values in first_view_ts:\n",
      "          labname            first_commit_ts first_view_ts\n",
      "uid                                                       \n",
      "user_11    laba05 2020-05-03 21:06:55.970293           NaT\n",
      "user_11  project1 2020-05-03 23:45:33.673409           NaT\n",
      "user_12    laba04 2020-04-18 17:07:51.767358           NaT\n",
      "user_12   laba04s 2020-04-26 15:42:38.070593           NaT\n",
      "user_12    laba05 2020-05-03 08:39:25.174316           NaT\n",
      "...           ...                        ...           ...\n",
      "user_8    laba04s 2020-04-19 10:22:35.761944           NaT\n",
      "user_8     laba05 2020-05-02 13:28:07.705193           NaT\n",
      "user_8     laba06 2020-05-16 17:56:15.755553           NaT\n",
      "user_8    laba06s 2020-05-16 20:01:07.900727           NaT\n",
      "user_8   project1 2020-05-14 15:42:04.002981           NaT\n",
      "\n",
      "[81 rows x 3 columns]\n"
     ]
    }
   ],
   "source": [
    "print(\"test should have the users that have the values in first_view_ts:\")\n",
    "control = pd.DataFrame(datamart)\n",
    "control = control[control['first_view_ts'].isnull()]\n",
    "print(control)"
   ],
   "metadata": {
    "collapsed": false
   }
  },
  {
   "cell_type": "code",
   "execution_count": 337,
   "outputs": [
    {
     "name": "stdout",
     "output_type": "stream",
     "text": [
      "replace the missing values in the control with the average first_view_ts of the test users, we will use this value for the future analysis:\n"
     ]
    },
    {
     "data": {
      "text/plain": "          labname            first_commit_ts                 first_view_ts\nuid                                                                       \nuser_11    laba05 2020-05-03 21:06:55.970293 2020-04-27 00:40:05.761783552\nuser_11  project1 2020-05-03 23:45:33.673409 2020-04-27 00:40:05.761783552\nuser_12    laba04 2020-04-18 17:07:51.767358 2020-04-27 00:40:05.761783552\nuser_12   laba04s 2020-04-26 15:42:38.070593 2020-04-27 00:40:05.761783552\nuser_12    laba05 2020-05-03 08:39:25.174316 2020-04-27 00:40:05.761783552\n...           ...                        ...                           ...\nuser_8    laba04s 2020-04-19 10:22:35.761944 2020-04-27 00:40:05.761783552\nuser_8     laba05 2020-05-02 13:28:07.705193 2020-04-27 00:40:05.761783552\nuser_8     laba06 2020-05-16 17:56:15.755553 2020-04-27 00:40:05.761783552\nuser_8    laba06s 2020-05-16 20:01:07.900727 2020-04-27 00:40:05.761783552\nuser_8   project1 2020-05-14 15:42:04.002981 2020-04-27 00:40:05.761783552\n\n[81 rows x 3 columns]",
      "text/html": "<div>\n<style scoped>\n    .dataframe tbody tr th:only-of-type {\n        vertical-align: middle;\n    }\n\n    .dataframe tbody tr th {\n        vertical-align: top;\n    }\n\n    .dataframe thead th {\n        text-align: right;\n    }\n</style>\n<table border=\"1\" class=\"dataframe\">\n  <thead>\n    <tr style=\"text-align: right;\">\n      <th></th>\n      <th>labname</th>\n      <th>first_commit_ts</th>\n      <th>first_view_ts</th>\n    </tr>\n    <tr>\n      <th>uid</th>\n      <th></th>\n      <th></th>\n      <th></th>\n    </tr>\n  </thead>\n  <tbody>\n    <tr>\n      <th>user_11</th>\n      <td>laba05</td>\n      <td>2020-05-03 21:06:55.970293</td>\n      <td>2020-04-27 00:40:05.761783552</td>\n    </tr>\n    <tr>\n      <th>user_11</th>\n      <td>project1</td>\n      <td>2020-05-03 23:45:33.673409</td>\n      <td>2020-04-27 00:40:05.761783552</td>\n    </tr>\n    <tr>\n      <th>user_12</th>\n      <td>laba04</td>\n      <td>2020-04-18 17:07:51.767358</td>\n      <td>2020-04-27 00:40:05.761783552</td>\n    </tr>\n    <tr>\n      <th>user_12</th>\n      <td>laba04s</td>\n      <td>2020-04-26 15:42:38.070593</td>\n      <td>2020-04-27 00:40:05.761783552</td>\n    </tr>\n    <tr>\n      <th>user_12</th>\n      <td>laba05</td>\n      <td>2020-05-03 08:39:25.174316</td>\n      <td>2020-04-27 00:40:05.761783552</td>\n    </tr>\n    <tr>\n      <th>...</th>\n      <td>...</td>\n      <td>...</td>\n      <td>...</td>\n    </tr>\n    <tr>\n      <th>user_8</th>\n      <td>laba04s</td>\n      <td>2020-04-19 10:22:35.761944</td>\n      <td>2020-04-27 00:40:05.761783552</td>\n    </tr>\n    <tr>\n      <th>user_8</th>\n      <td>laba05</td>\n      <td>2020-05-02 13:28:07.705193</td>\n      <td>2020-04-27 00:40:05.761783552</td>\n    </tr>\n    <tr>\n      <th>user_8</th>\n      <td>laba06</td>\n      <td>2020-05-16 17:56:15.755553</td>\n      <td>2020-04-27 00:40:05.761783552</td>\n    </tr>\n    <tr>\n      <th>user_8</th>\n      <td>laba06s</td>\n      <td>2020-05-16 20:01:07.900727</td>\n      <td>2020-04-27 00:40:05.761783552</td>\n    </tr>\n    <tr>\n      <th>user_8</th>\n      <td>project1</td>\n      <td>2020-05-14 15:42:04.002981</td>\n      <td>2020-04-27 00:40:05.761783552</td>\n    </tr>\n  </tbody>\n</table>\n<p>81 rows × 3 columns</p>\n</div>"
     },
     "execution_count": 337,
     "metadata": {},
     "output_type": "execute_result"
    }
   ],
   "source": [
    "print(\"replace the missing values in the control with the average first_view_ts of the test users, we will use this value for the future analysis:\")\n",
    "control['first_view_ts'].fillna(test['first_view_ts'].mean(), inplace=True)\n",
    "control"
   ],
   "metadata": {
    "collapsed": false
   }
  },
  {
   "cell_type": "code",
   "execution_count": 338,
   "outputs": [
    {
     "name": "stdout",
     "output_type": "stream",
     "text": [
      "save both tables into the database, you will use them in the next exercises:\n",
      "Table 'test' already exists.\n"
     ]
    }
   ],
   "source": [
    "print(\"save both tables into the database, you will use them in the next exercises:\")\n",
    "try:\n",
    "        test.to_sql('test', con)\n",
    "        print(\"table 'test' is saved\")\n",
    "        control.to_sql('control', con)\n",
    "        print(\"table 'control' is saved\")\n",
    "except ValueError as e:\n",
    "        print(e)"
   ],
   "metadata": {
    "collapsed": false
   }
  },
  {
   "cell_type": "markdown",
   "source": [
    "## close the connection"
   ],
   "metadata": {
    "collapsed": false
   }
  },
  {
   "cell_type": "code",
   "execution_count": 339,
   "outputs": [],
   "source": [
    "con.close()"
   ],
   "metadata": {
    "collapsed": false
   }
  }
 ],
 "metadata": {
  "kernelspec": {
   "display_name": "Python 3",
   "language": "python",
   "name": "python3"
  },
  "language_info": {
   "codemirror_mode": {
    "name": "ipython",
    "version": 2
   },
   "file_extension": ".py",
   "mimetype": "text/x-python",
   "name": "python",
   "nbconvert_exporter": "python",
   "pygments_lexer": "ipython2",
   "version": "2.7.6"
  }
 },
 "nbformat": 4,
 "nbformat_minor": 0
}
